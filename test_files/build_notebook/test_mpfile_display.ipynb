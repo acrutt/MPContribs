{
 "cells": [
  {
   "cell_type": "code",
   "execution_count": null,
   "metadata": {
    "collapsed": false
   },
   "outputs": [],
   "source": [
    "%load_ext autoreload\n",
    "%autoreload 2\n",
    "from bson import ObjectId\n",
    "from mpcontribs.io.core.mpfile import MPFileCore\n",
    "from mpcontribs.builders import MPContributionsBuilder"
   ]
  },
  {
   "cell_type": "code",
   "execution_count": null,
   "metadata": {
    "collapsed": false
   },
   "outputs": [],
   "source": [
    "mcb = MPContributionsBuilder.from_config()\n",
    "doc = mcb.find_contribution(ObjectId('5733904537202d12f59e896d'))\n",
    "mpfile = MPFileCore.from_contribution(doc)"
   ]
  },
  {
   "cell_type": "code",
   "execution_count": null,
   "metadata": {
    "collapsed": false
   },
   "outputs": [],
   "source": [
    "# mpfile\n",
    "# print mpfile.hdata\n",
    "# mpfile.hdata['mp-134']\n",
    "# mpfile.tdata\n",
    "# print mpfile.gdata\n",
    "# print mpfile.gdata['mp-134']\n",
    "# mpfile.gdata['mp-134']['supporting']"
   ]
  }
 ],
 "metadata": {
  "kernelspec": {
   "display_name": "Python 2",
   "language": "python",
   "name": "python2"
  },
  "language_info": {
   "codemirror_mode": {
    "name": "ipython",
    "version": 2
   },
   "file_extension": ".py",
   "mimetype": "text/x-python",
   "name": "python",
   "nbconvert_exporter": "python",
   "pygments_lexer": "ipython2",
   "version": "2.7.10"
  }
 },
 "nbformat": 4,
 "nbformat_minor": 0
}
