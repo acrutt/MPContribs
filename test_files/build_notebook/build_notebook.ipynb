{
 "cells": [
  {
   "cell_type": "code",
   "execution_count": 1,
   "metadata": {
    "collapsed": false
   },
   "outputs": [],
   "source": [
    "import uuid\n",
    "from IPython.display import display_javascript, display_html, display\n",
    "import json"
   ]
  },
  {
   "cell_type": "code",
   "execution_count": 2,
   "metadata": {
    "collapsed": true
   },
   "outputs": [],
   "source": [
    "class RenderJSON(object):\n",
    "    def __init__(self, json_data):\n",
    "        if isinstance(json_data, dict):\n",
    "            self.json_str = json.dumps(json_data)\n",
    "        else:\n",
    "            self.json_str = json\n",
    "        self.uuid = str(uuid.uuid4())\n",
    "        self.uuid2 = str(uuid.uuid4())\n",
    "\n",
    "    def _ipython_display_(self):\n",
    "        display_html(\"\"\"<div id=\"{}\" style=\"width:100%;\"></div>\"\"\".format(self.uuid), raw=True)\n",
    "        display_html(\"\"\"<div id=\"{}\" style=\"width:100%;\"></div>\"\"\".format(self.uuid2), raw=True)\n",
    "        display_javascript(\"\"\"\n",
    "        require([\"custom/js/json.human\"], function(JsonHuman) {\n",
    "          \"use strict\";\n",
    "          var data = JSON.parse('%s');\n",
    "          var node = JsonHuman.format(data);\n",
    "          document.getElementById('%s').appendChild(node);\n",
    "        });\n",
    "        require([\"custom/js/backgrid\"], function(Backgrid) {\n",
    "          \"use strict\";\n",
    "          var table = {\n",
    "            \"columns\": [\n",
    "              {\"cell\": \"string\", \"name\": \"solute\"},\n",
    "              {\"cell\": \"string\", \"name\": \"Z\"}\n",
    "            ],\n",
    "            \"rows\": [\n",
    "              {\"solute\": \"Cu\", \"Z\": \"29\"},\n",
    "              {\"solute\": \"Zr\", \"Z\": \"40\"},\n",
    "              {\"solute\": \"Nb\", \"Z\": \"41\"},\n",
    "              {\"solute\": \"Mo\", \"Z\": \"42\"}\n",
    "            ]\n",
    "          };\n",
    "          var Row = Backbone.Model.extend({});\n",
    "          var Rows = Backbone.Collection.extend({model: Row, mode: \"client\"});\n",
    "          var rows = new Rows(table['rows']);\n",
    "          var grid = new Backgrid.Grid({ columns: table['columns'], collection: rows });\n",
    "          $('#%s').append(grid.render().el);\n",
    "          /*\n",
    "          var paginator = new Backgrid.Extension.Paginator({ collection: rows });\n",
    "          $('#{{ c[2] }}_{{ loop.index }}_table').after(paginator.render().el);\n",
    "          */\n",
    "        });\n",
    "        \"\"\" % (self.json_str, self.uuid, self.uuid2, self.uuid2), raw=True)"
   ]
  },
  {
   "cell_type": "code",
   "execution_count": 3,
   "metadata": {
    "collapsed": false,
    "scrolled": false
   },
   "outputs": [
    {
     "data": {
      "text/html": [
       "<div id=\"1e516d6a-efdf-4d5a-8c7c-d11995db3f2b\" style=\"width:100%;\"></div>"
      ]
     },
     "metadata": {},
     "output_type": "display_data"
    },
    {
     "data": {
      "text/html": [
       "<div id=\"22e2f760-35ae-437a-9b47-fd55adf48fc9\" style=\"width:100%;\"></div>"
      ]
     },
     "metadata": {},
     "output_type": "display_data"
    },
    {
     "data": {
      "application/javascript": [
       "\n",
       "        require([\"custom/js/json.human\"], function(JsonHuman) {\n",
       "          \"use strict\";\n",
       "          var data = JSON.parse('{\"Fe_XMCD\": {\"get_xmcd\": {\"energy_range\": \"600 800\"}}}');\n",
       "          var node = JsonHuman.format(data);\n",
       "          document.getElementById('1e516d6a-efdf-4d5a-8c7c-d11995db3f2b').appendChild(node);\n",
       "        });\n",
       "        require([\"custom/js/backgrid\"], function(Backgrid) {\n",
       "          \"use strict\";\n",
       "          console.log('hello');\n",
       "          var table = {\n",
       "            \"columns\": [\n",
       "              {\"cell\": \"string\", \"name\": \"solute\"},\n",
       "              {\"cell\": \"string\", \"name\": \"Z\"}\n",
       "            ],\n",
       "            \"rows\": [\n",
       "              {\"solute\": \"Cu\", \"Z\": \"29\"},\n",
       "              {\"solute\": \"Zr\", \"Z\": \"40\"},\n",
       "              {\"solute\": \"Nb\", \"Z\": \"41\"},\n",
       "              {\"solute\": \"Mo\", \"Z\": \"42\"}\n",
       "            ]\n",
       "          };\n",
       "          var Row = Backbone.Model.extend({});\n",
       "          console.log('hello 2');\n",
       "          var Rows = Backbone.Collection.extend({\n",
       "            model: Row, mode: \"client\"\n",
       "          });\n",
       "          console.log('hello 3');\n",
       "          var rows = new Rows(table['rows']);\n",
       "          console.log('hello 4');\n",
       "          var grid = new Backgrid.Grid({ columns: table['columns'], collection: rows });\n",
       "          console.log(grid);\n",
       "          console.log('22e2f760-35ae-437a-9b47-fd55adf48fc9');\n",
       "          var el = grid.render().el;\n",
       "          console.log(el);\n",
       "          $('#22e2f760-35ae-437a-9b47-fd55adf48fc9').append(el);\n",
       "          /*\n",
       "          var paginator = new Backgrid.Extension.Paginator({ collection: rows });\n",
       "          $('#{{ c[2] }}_{{ loop.index }}_table').after(paginator.render().el);\n",
       "          */\n",
       "        });\n",
       "        "
      ]
     },
     "metadata": {},
     "output_type": "display_data"
    }
   ],
   "source": [
    "tree_data = {u'Fe_XMCD': {u'get_xmcd': {u'energy_range': u'600 800'}}}\n",
    "RenderJSON(tree_data)"
   ]
  },
  {
   "cell_type": "code",
   "execution_count": null,
   "metadata": {
    "collapsed": false
   },
   "outputs": [],
   "source": [
    "import plotly.tools as tls\n",
    "tls.embed(\"https://plot.ly/~tschaume/919\")"
   ]
  }
 ],
 "metadata": {
  "kernelspec": {
   "display_name": "Python 2",
   "language": "python",
   "name": "python2"
  },
  "language_info": {
   "codemirror_mode": {
    "name": "ipython",
    "version": 2
   },
   "file_extension": ".py",
   "mimetype": "text/x-python",
   "name": "python",
   "nbconvert_exporter": "python",
   "pygments_lexer": "ipython2",
   "version": "2.7.10"
  }
 },
 "nbformat": 4,
 "nbformat_minor": 0
}
