{
 "cells": [
  {
   "cell_type": "code",
   "execution_count": null,
   "metadata": {
    "collapsed": false
   },
   "outputs": [],
   "source": [
    "%load_ext autoreload\n",
    "%autoreload 2\n",
    "%reload_ext autoreload"
   ]
  },
  {
   "cell_type": "code",
   "execution_count": null,
   "metadata": {
    "collapsed": false
   },
   "outputs": [],
   "source": [
    "import json\n",
    "from mpcontribs.io.archieml.mpfile import MPFile\n",
    "from mpcontribs.io.core.recdict import RecursiveDict\n",
    "from mpcontribs.rest.adapter import ContributionMongoAdapter\n",
    "from mpcontribs.builders import MPContributionsBuilder\n",
    "from mpcontribs.rest.rester import MPContribsRester\n",
    "from mpcontribs.utils import submit_mpfile\n",
    "print 'all imported'"
   ]
  },
  {
   "cell_type": "code",
   "execution_count": null,
   "metadata": {
    "collapsed": false
   },
   "outputs": [],
   "source": [
    "cma = ContributionMongoAdapter()\n",
    "contributor = 'Patrick Huck <phuck@lbl.gov>'\n",
    "#mpfile = MPFile.from_file('atn_Ni20Fe80Pt10_archieml.txt')\n",
    "mpfile = MPFile.from_file('/tmp/mpfile_out.txt')\n",
    "#print json.dumps(mpfile.document, indent=4)\n",
    "mpfile_singles = mpfile.split()\n",
    "build_doc = RecursiveDict()\n",
    "\n",
    "axes, ov_data = set(), dict()\n",
    "for idx,mpfile_single in enumerate(mpfile_singles):\n",
    "    mp_cat_id = mpfile_single.document.keys()[0]\n",
    "    print idx, mp_cat_id\n",
    "    doc = cma.submit_contribution(mpfile_single, contributor)\n",
    "    cid = str(doc['_id'])\n",
    "    mpfile_single.insert_id(mp_cat_id, cid)\n",
    "    mcb = MPContributionsBuilder(doc)\n",
    "    single_build_doc = mcb.build(contributor, cid)\n",
    "    scope, local_axes = [], set()\n",
    "    tree_data = single_build_doc[3]['tree_data']\n",
    "    for k,v in tree_data.iterate():\n",
    "        if v is None:\n",
    "            scope = scope[:k[0]]\n",
    "            scope.append(k[1])\n",
    "        else:\n",
    "            try:\n",
    "                if k[0] == len(scope):\n",
    "                    scope.append(k[1])\n",
    "                else:\n",
    "                    scope[-1] = k[1]\n",
    "                vf = float(v) # trigger exception\n",
    "                scope_str = '.'.join(scope)\n",
    "                if idx == 0:\n",
    "                    axes.add(scope_str)\n",
    "                    ov_data[scope_str] = {cid: (vf, mp_cat_id)}\n",
    "                else:\n",
    "                    local_axes.add(scope_str)\n",
    "                    ov_data[scope_str][cid] = (vf, mp_cat_id)\n",
    "            except:\n",
    "                pass\n",
    "    if idx > 0:\n",
    "        axes.intersection_update(local_axes)\n",
    "    #break\n",
    "    #build_doc.rec_update(single_build_doc)\n",
    "for k in ov_data:\n",
    "    if k not in axes:\n",
    "        ov_data.pop(k)\n",
    "print ov_data\n",
    "\n",
    "#print json.dumps(build_doc, indent=4)"
   ]
  },
  {
   "cell_type": "code",
   "execution_count": null,
   "metadata": {
    "collapsed": false
   },
   "outputs": [],
   "source": [
    "#mpfile = MPFile.from_string('{hello_world}\\nkey: value\\n\\n[+mp-30]\\nx,y\\n1,0\\n2,1\\n3,2\\n')\n",
    "#mpfile = MPFile.from_file('atn_Ni20Fe80Pt10_archieml.txt')\n",
    "#mpfile = MPFile.from_file('/Users/patrick/Downloads/mpfile_test.txt')\n",
    "mpfile = MPFile.from_file('test_archieml.txt')\n",
    "mpfile_test = MPFile.from_string(mpfile.get_string())\n",
    "if mpfile.document != mpfile_test.document:  \n",
    "    mpfile_json_lines = json.dumps(mpfile.document, indent=4).split('\\n')\n",
    "    mpfile_test_json_lines = json.dumps(mpfile_test.document, indent=4).split('\\n')\n",
    "    try:\n",
    "        for a, b in zip(mpfile_json_lines, mpfile_test_json_lines):\n",
    "            if a != b:\n",
    "                raise Exception('{} <=====> {}'.format(a.strip(), b.strip()))\n",
    "    except Exception as ex:\n",
    "        print 'dicts not equal:'\n",
    "        print str(ex)\n",
    "        print json.dumps(mpfile.document, indent=4)\n",
    "        print json.dumps(mpfile_test.document, indent=4)\n",
    "else:\n",
    "        print 'dicts equal'\n",
    "\n",
    "#print '================ rec_update ================='\n",
    "#mpfile.document.rec_update(\n",
    "#    other={'general':{'Experiment':{'Preparation':{'Description':'hello', 'a':3}}}}, overwrite=True)\n",
    "#print json.dumps(mpfile.document, indent=4)"
   ]
  },
  {
   "cell_type": "code",
   "execution_count": null,
   "metadata": {
    "collapsed": false
   },
   "outputs": [],
   "source": [
    "build_doc = submit_mpfile('test_files/atn_Ni20Fe80Pt10_archieml.txt', fmt='archieml')\n",
    "print json.dumps(build_doc, indent=4)"
   ]
  },
  {
   "cell_type": "code",
   "execution_count": null,
   "metadata": {
    "collapsed": false
   },
   "outputs": [],
   "source": [
    "mpfile = MPFile.from_file('test_archieml.txt')\n",
    "mpfile_singles = mpfile.split()\n",
    "\n",
    "with MPContribsRester('r1bnxivUyJ26cgho', endpoint='http://localhost:8000/mpcontribs/rest') as mpr:\n",
    "    print mpr.check_contributor()\n",
    "    for mpfile_single in mpfile_singles:\n",
    "        print mpr.submit_contribution(mpfile_single, 'archieml')\n",
    "        break"
   ]
  }
 ],
 "metadata": {
  "kernelspec": {
   "display_name": "Python 2",
   "language": "python",
   "name": "python2"
  },
  "language_info": {
   "codemirror_mode": {
    "name": "ipython",
    "version": 2
   },
   "file_extension": ".py",
   "mimetype": "text/x-python",
   "name": "python",
   "nbconvert_exporter": "python",
   "pygments_lexer": "ipython2",
   "version": "2.7.10"
  }
 },
 "nbformat": 4,
 "nbformat_minor": 0
}
