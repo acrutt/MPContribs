{
 "cells": [
  {
   "cell_type": "code",
   "execution_count": null,
   "metadata": {
    "collapsed": false
   },
   "outputs": [],
   "source": [
    "%load_ext autoreload\n",
    "%autoreload 2\n",
    "import json\n",
    "from mpcontribs.io.archieml.mpfile import MPFile\n",
    "from mpcontribs.io.core.recdict import RecursiveDict\n",
    "from mpcontribs.rest import ContributionMongoAdapter\n",
    "from mpcontribs.builders import MPContributionsBuilder\n",
    "print 'all imported'"
   ]
  },
  {
   "cell_type": "code",
   "execution_count": null,
   "metadata": {
    "collapsed": false
   },
   "outputs": [],
   "source": [
    "cma = ContributionMongoAdapter()\n",
    "contributor = 'Patrick Huck <phuck@lbl.gov>'\n",
    "mpfile = MPFile.from_file('test_files/atn_Ni20Fe80Pt10_archieml.txt')\n",
    "#print json.dumps(mpfile.document, indent=4)\n",
    "mpfile_singles = mpfile.split()\n",
    "build_doc = RecursiveDict()\n",
    "\n",
    "for mpfile_single in mpfile_singles:\n",
    "    mp_cat_id = mpfile_single.document.keys()[0]\n",
    "    doc = cma.submit_contribution(mpfile_single, contributor)\n",
    "    mpfile_single.insert_id(mp_cat_id, doc['_id'])\n",
    "    mcb = MPContributionsBuilder(doc)\n",
    "    single_build_doc = mcb.build(contributor, doc['_id'])\n",
    "    build_doc.rec_update(single_build_doc)\n",
    "\n",
    "print json.dumps(build_doc, indent=4)"
   ]
  },
  {
   "cell_type": "code",
   "execution_count": null,
   "metadata": {
    "collapsed": false
   },
   "outputs": [],
   "source": [
    "#mpfile = MPFile.from_string('{hello_world}\\nkey: value\\n\\n[+mp-30]\\nx,y\\n1,0\\n2,1\\n3,2\\n')\n",
    "mpfile = MPFile.from_file('test_files/atn_Ni20Fe80Pt10_archieml.txt')\n",
    "print json.dumps(mpfile.document, indent=4)\n",
    "print '================ rec_update ================='\n",
    "mpfile.document.rec_update(\n",
    "    other={'general':{'Experiment':{'Preparation':{'Description':'hello', 'a':3}}}}, overwrite=True)\n",
    "print json.dumps(mpfile.document, indent=4)"
   ]
  },
  {
   "cell_type": "code",
   "execution_count": null,
   "metadata": {
    "collapsed": false
   },
   "outputs": [],
   "source": [
    "from mpcontribs.utils import submit_mpfile\n",
    "build_doc = submit_mpfile('test_files/atn_Ni20Fe80Pt10_archieml.txt', fmt='archieml')\n",
    "print json.dumps(build_doc, indent=4)"
   ]
  }
 ],
 "metadata": {
  "kernelspec": {
   "display_name": "Python 2",
   "language": "python",
   "name": "python2"
  },
  "language_info": {
   "codemirror_mode": {
    "name": "ipython",
    "version": 2
   },
   "file_extension": ".py",
   "mimetype": "text/x-python",
   "name": "python",
   "nbconvert_exporter": "python",
   "pygments_lexer": "ipython2",
   "version": "2.7.10"
  }
 },
 "nbformat": 4,
 "nbformat_minor": 0
}
