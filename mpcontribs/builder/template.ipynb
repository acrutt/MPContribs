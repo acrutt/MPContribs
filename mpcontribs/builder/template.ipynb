{
 "cells": [
  {
   "cell_type": "code",
   "execution_count": null,
   "metadata": {
    "collapsed": false
   },
   "outputs": [],
   "source": [
    "from mpcontribs.rest.rester import MPContribsRester\n",
    "with MPContribsRester('<API_KEY>') as mpr:\n",
    "    mpfile = mpr.find_contribution('<CID>')"
   ]
  },
  {
   "cell_type": "code",
   "execution_count": null,
   "metadata": {
    "collapsed": false
   },
   "outputs": [],
   "source": [
    "mpid = mpfile.ids[0]\n",
    "mpfile.hdata[mpid]\n",
    "# mpfile.tdata\n",
    "# print mpfile.gdata\n",
    "# print mpfile.gdata['mp-134']\n",
    "# mpfile.gdata['mp-134']['supporting']"
   ]
  }
 ],
 "metadata": {
  "kernelspec": {
   "display_name": "Python 2",
   "language": "python",
   "name": "python2"
  },
  "language_info": {
   "codemirror_mode": {
    "name": "ipython",
    "version": 2
   },
   "file_extension": ".py",
   "mimetype": "text/x-python",
   "name": "python",
   "nbconvert_exporter": "python",
   "pygments_lexer": "ipython2",
   "version": "2.7.10"
  }
 },
 "nbformat": 4,
 "nbformat_minor": 0
}
