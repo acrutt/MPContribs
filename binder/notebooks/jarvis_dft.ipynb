{
 "cells": [
  {
   "cell_type": "code",
   "execution_count": null,
   "metadata": {},
   "outputs": [],
   "source": [
    "import os, json, tarfile\n",
    "from mpcontribs.client import load_client\n",
    "from pymatgen import Structure, MPRester\n",
    "from urllib.request import urlretrieve\n",
    "from monty.json import MontyDecoder"
   ]
  },
  {
   "cell_type": "code",
   "execution_count": null,
   "metadata": {},
   "outputs": [],
   "source": [
    "project = 'jarvis_dft'\n",
    "client = load_client('your-api-key-here')\n",
    "mpr = MPRester()"
   ]
  },
  {
   "cell_type": "markdown",
   "metadata": {},
   "source": [
    "Create project (once)"
   ]
  },
  {
   "cell_type": "code",
   "execution_count": null,
   "metadata": {},
   "outputs": [],
   "source": [
    "is_public = True\n",
    "info = {\n",
    "    'project': project,\n",
    "    'is_public': is_public,\n",
    "    'title': 'JARVIS-DFT',\n",
    "    'owner': 'kamal.choudhary@nist.gov',\n",
    "    'authors': 'K. Choudhary, F. Tavazza',\n",
    "    'description': ' '.join('''\n",
    "        The DFT section of JARVIS (JARVIS-DFT) consists of thousands\n",
    "        of VASP based calculations for 3D-bulk, single layer (2D), nanowire (1D) and \n",
    "        molecular (0D) systems. Most of the calculations are carried out with optB88vDW functional.\n",
    "        JARVIS-DFT includes materials data such as: energetics, diffraction pattern, radial distribution\n",
    "        function, band-structure, density of states, carrier effective mass, temperature and carrier\n",
    "        concentration dependent thermoelectric properties, elastic constants and gamma-point phonons.\n",
    "    '''.replace('\\n', '').split()),\n",
    "    'urls': {\n",
    "        'JARVIS': 'http://www.ctcms.nist.gov/~knc6/JVASP.html',\n",
    "        'SciRep': 'https://doi.org/10.1038/s41598-017-05402-0',\n",
    "        'GitHub': 'https://github.com/usnistgov/jarvis'\n",
    "    }\n",
    "}\n",
    "# client.projects.create_entry(project=info).result()"
   ]
  },
  {
   "cell_type": "markdown",
   "metadata": {},
   "source": [
    "Retrieve and update project info"
   ]
  },
  {
   "cell_type": "code",
   "execution_count": null,
   "metadata": {},
   "outputs": [],
   "source": [
    "client.projects.get_entry(pk=project, _fields=['_all']).result()"
   ]
  },
  {
   "cell_type": "code",
   "execution_count": null,
   "metadata": {},
   "outputs": [],
   "source": [
    "client.projects.update_entry(pk=project, project={\n",
    "    'long_title': '0-3D DFT Calculations by NIST',\n",
    "    'description': info['description']\n",
    "}).result()"
   ]
  },
  {
   "cell_type": "markdown",
   "metadata": {},
   "source": [
    "Source data"
   ]
  },
  {
   "cell_type": "code",
   "execution_count": null,
   "metadata": {},
   "outputs": [],
   "source": [
    "config = {\n",
    "    \"files\": [\n",
    "        \"https://www.ctcms.nist.gov/~knc6/jdft_{}.json.tgz\".format(t)\n",
    "        for t in ['3d', '2d']\n",
    "    ],\n",
    "    \"details\": \"https://www.ctcms.nist.gov/~knc6/jsmol/{}.html\",\n",
    "    'columns': {  # 'mpid'\n",
    "        'jid': {'name': 'details'},\n",
    "        'exfoliation_en': {'name': 'Eₓ', 'unit': 'eV'},\n",
    "        'form_enp': {'name': 'ΔH', 'unit': 'eV'},\n",
    "        'fin_en': {'name': 'E', 'unit': 'meV'},\n",
    "        'op_gap': {'name': 'ΔE|vdW', 'unit': 'meV'},\n",
    "        'mbj_gap': {'name': 'ΔE|mbj', 'unit': 'meV'},\n",
    "        'kv': {'name': 'Kᵥ', 'unit': 'GPa'},\n",
    "        'gv': {'name': 'Gᵥ', 'unit': 'GPa'},\n",
    "        'magmom': {'name': 'μ', 'unit': 'μᵇ'}\n",
    "    }\n",
    "}"
   ]
  },
  {
   "cell_type": "code",
   "execution_count": null,
   "metadata": {},
   "outputs": [],
   "source": [
    "raw_data = {}  # as read from raw files\n",
    "for url in config['files']:\n",
    "    dbfile = url.rsplit('/')[-1]\n",
    "    if not os.path.exists(dbfile):\n",
    "        print('downloading', dbfile, '...')\n",
    "        urlretrieve(url, dbfile)\n",
    "\n",
    "    print(dbfile, 'loading ...')\n",
    "    with tarfile.open(dbfile, \"r:gz\") as tar:\n",
    "        member = tar.getmembers()[0]\n",
    "        raw_data[dbfile] = json.load(tar.extractfile(member), cls=MontyDecoder)\n",
    "        \n",
    "    print(dbfile, len(raw_data[dbfile]))"
   ]
  },
  {
   "cell_type": "markdown",
   "metadata": {},
   "source": [
    "3D (bulk) materials"
   ]
  },
  {
   "cell_type": "code",
   "execution_count": null,
   "metadata": {},
   "outputs": [],
   "source": [
    "fn = 'jdft_3d.json.tgz'\n",
    "for idx, rd in enumerate(raw_data[fn]):\n",
    "    identifier = rd['mpid']\n",
    "    print(idx, identifier, rd['jid'])\n",
    "    contrib = {'project': project, 'identifier': identifier, 'is_public': is_public, 'data': {}}\n",
    "    for k, col in config['columns'].items():\n",
    "        hdr, unit = col['name'], col.get('unit')\n",
    "        if k == 'jid':\n",
    "            contrib['data'][hdr] = config[hdr].format(rd[k])\n",
    "        elif k in rd:\n",
    "            if unit:\n",
    "                try:\n",
    "                    float(rd[k])\n",
    "                except ValueError:\n",
    "                    continue\n",
    "            contrib['data'][hdr] = f'{rd[k]} {unit}' if unit else rd[k]\n",
    "            \n",
    "    ntries = 0\n",
    "    while ntries < 3:\n",
    "        try:\n",
    "            for d in client.contributions.get_entries(\n",
    "                project=project, identifier=identifier, _fields=['id']\n",
    "            ).result()['data']:\n",
    "                client.contributions.delete_entry(pk=d['id']).result()\n",
    "                print(idx, d['id'], 'deleted')\n",
    "\n",
    "            cid = client.contributions.create_entry(contribution=contrib).result()['id']\n",
    "            #print(client.contributions.get_entry(pk=cid, _fields=['_all']).result())\n",
    "            print(idx, cid, 'created')\n",
    "            \n",
    "            structure = rd['final_str']\n",
    "            comp = structure.composition.reduced_formula\n",
    "            sdct = {'contribution': cid, 'label': '02/24/2020', 'name': comp, 'is_public': is_public}\n",
    "            sdct.update(structure.as_dict())\n",
    "            sid = client.structures.create_entry(structure=sdct).result()['id']\n",
    "            print(idx, 'structure', sid, 'created')\n",
    "            break\n",
    "        except Exception as ex:\n",
    "            ntries += 1\n",
    "            print(ntries, ex)\n",
    "            print('waiting', ntries*30, 'seconds...')\n",
    "            sleep(ntries*30)\n",
    "    else:\n",
    "        print('I give up.')\n",
    "        break\n",
    "        \n",
    "    # final_str\n",
    "    print(contrib)\n",
    "    break\n",
    "    "
   ]
  }
 ],
 "metadata": {
  "kernelspec": {
   "display_name": "Python 3",
   "language": "python",
   "name": "python3"
  },
  "language_info": {
   "codemirror_mode": {
    "name": "ipython",
    "version": 3
   },
   "file_extension": ".py",
   "mimetype": "text/x-python",
   "name": "python",
   "nbconvert_exporter": "python",
   "pygments_lexer": "ipython3",
   "version": "3.8.1"
  }
 },
 "nbformat": 4,
 "nbformat_minor": 4
}
