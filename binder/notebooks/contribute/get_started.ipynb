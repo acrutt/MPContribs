{
 "cells": [
  {
   "cell_type": "code",
   "execution_count": null,
   "metadata": {},
   "outputs": [],
   "source": [
    "import pandas_datareader.data as web\n",
    "from pymatgen import Structure, MPRester\n",
    "import plotly.express as px\n",
    "\n",
    "from mpcontribs.client import load_client\n",
    "from mpcontribs.io.core.components.hdata import HierarchicalData\n",
    "from mpcontribs.io.core.components.tdata import Table\n",
    "from mpcontribs.io.core.components.gdata import Plot"
   ]
  },
  {
   "cell_type": "markdown",
   "metadata": {},
   "source": [
    "Use your API key to set up the client."
   ]
  },
  {
   "cell_type": "code",
   "execution_count": null,
   "metadata": {},
   "outputs": [],
   "source": [
    "project = 'my_project'\n",
    "headers = {'X-Consumer-Username': 'phuck@lbl.gov'}\n",
    "client = load_client(headers=headers)\n",
    "# client = load_client('your-api-key-here')"
   ]
  },
  {
   "cell_type": "markdown",
   "metadata": {},
   "source": [
    "The *dir* command lists available resources and operations."
   ]
  },
  {
   "cell_type": "code",
   "execution_count": null,
   "metadata": {},
   "outputs": [],
   "source": [
    "print(dir(client))\n",
    "print(dir(client.projects))"
   ]
  },
  {
   "cell_type": "markdown",
   "metadata": {},
   "source": [
    "Use the *projects* resource to retrieve or update project information. The *_fields* argument controls which fields are included in the response."
   ]
  },
  {
   "cell_type": "code",
   "execution_count": null,
   "metadata": {},
   "outputs": [],
   "source": [
    "HierarchicalData(client.projects.get_entry(\n",
    "    pk=project, _fields=['title', 'authors', 'description', 'urls']\n",
    ").response().result)"
   ]
  },
  {
   "cell_type": "markdown",
   "metadata": {},
   "source": [
    "The *update_entry* operation returns a dictionary of updated fields."
   ]
  },
  {
   "cell_type": "code",
   "execution_count": null,
   "metadata": {
    "scrolled": true
   },
   "outputs": [],
   "source": [
    "client.projects.update_entry(pk=project, project={\n",
    "     'title': 'New Title',\n",
    "#     'urls': {'PRC': 'https://google.fr'},\n",
    "#     'urls': {'PRC': None}\n",
    "}).response().result"
   ]
  },
  {
   "cell_type": "markdown",
   "metadata": {},
   "source": [
    "Use the *contributions* resource to create, retrieve, and update contributions."
   ]
  },
  {
   "cell_type": "code",
   "execution_count": null,
   "metadata": {},
   "outputs": [],
   "source": [
    "identifier = 'mp-1002'\n",
    "cid = client.contributions.create_entry(contribution={\n",
    "    'project': project, 'identifier': identifier,\n",
    "    'data': {'formula': 'CO2', 'E': '3.33 eV', 'E|V': {'a': 1, 'b': '3 cm'}}\n",
    "}).response().result['id']"
   ]
  },
  {
   "cell_type": "code",
   "execution_count": null,
   "metadata": {},
   "outputs": [],
   "source": [
    "HierarchicalData(client.contributions.get_entries(\n",
    "    project=project, _fields=['id', 'identifier', 'data']\n",
    ").response().result)"
   ]
  },
  {
   "cell_type": "code",
   "execution_count": null,
   "metadata": {},
   "outputs": [],
   "source": [
    "client.contributions.update_entry(pk=cid, contribution={\n",
    "        'data': {'formula': 'H2', 'E': '14 eV'},\n",
    "        'identifier': 'mp-1004'\n",
    "}).response().result"
   ]
  },
  {
   "cell_type": "markdown",
   "metadata": {},
   "source": [
    "Use the *tables* resource to add tables to contributions."
   ]
  },
  {
   "cell_type": "code",
   "execution_count": null,
   "metadata": {},
   "outputs": [],
   "source": [
    "table = Table(web.DataReader('^DJI', 'stooq'), contribution=cid, name='Dow-Jones Index')"
   ]
  },
  {
   "cell_type": "code",
   "execution_count": null,
   "metadata": {},
   "outputs": [],
   "source": [
    "tid = client.tables.create_entry(table=table.to_dict()).response().result['id']"
   ]
  },
  {
   "cell_type": "code",
   "execution_count": null,
   "metadata": {},
   "outputs": [],
   "source": [
    "entry = client.tables.get_entry(\n",
    "    pk=tid, _fields=['columns', 'data'], data_per_page=3, data_page=5\n",
    ").response().result\n",
    "Table.from_dict(entry)"
   ]
  },
  {
   "cell_type": "code",
   "execution_count": null,
   "metadata": {},
   "outputs": [],
   "source": [
    "Plot.from_dict(entry)"
   ]
  },
  {
   "cell_type": "code",
   "execution_count": null,
   "metadata": {},
   "outputs": [],
   "source": [
    "client.tables.update_entry(pk=tid, table={'name': 'DJI'}).response().result"
   ]
  },
  {
   "cell_type": "markdown",
   "metadata": {},
   "source": [
    "Use the *structures* resource to add structures to contributions."
   ]
  },
  {
   "cell_type": "code",
   "execution_count": null,
   "metadata": {},
   "outputs": [],
   "source": [
    "with MPRester() as m:\n",
    "    structure = m.get_structure_by_material_id(\"mp-1234\")"
   ]
  },
  {
   "cell_type": "code",
   "execution_count": null,
   "metadata": {},
   "outputs": [],
   "source": [
    "sdct = dict(contribution=cid, name='LuAl2')\n",
    "sdct.update(structure.as_dict())\n",
    "sid = client.structures.create_entry(structure=sdct).response().result['id']"
   ]
  },
  {
   "cell_type": "code",
   "execution_count": null,
   "metadata": {},
   "outputs": [],
   "source": [
    "Structure.from_dict(client.structures.get_entry(pk=sid, _fields=['lattice', 'sites']).response().result)"
   ]
  },
  {
   "cell_type": "code",
   "execution_count": null,
   "metadata": {},
   "outputs": [],
   "source": [
    "client.structures.update_entry(pk=sid, structure={'name': 'Lu Al2'}).response().result"
   ]
  },
  {
   "cell_type": "markdown",
   "metadata": {},
   "source": [
    "Finally, publish and/or delete the project or its components."
   ]
  },
  {
   "cell_type": "code",
   "execution_count": null,
   "metadata": {},
   "outputs": [],
   "source": [
    "# TODO use update_entries to also publish according contributions, tables, and structures"
   ]
  },
  {
   "cell_type": "code",
   "execution_count": null,
   "metadata": {},
   "outputs": [],
   "source": [
    "client.structures.delete_entry(pk=sid).response().result\n",
    "client.tables.delete_entry(pk=tid).response().result"
   ]
  },
  {
   "cell_type": "markdown",
   "metadata": {},
   "source": [
    "deleting contributions (projects) also deletes corresponding structures, tables, notebooks and cards (contributions)."
   ]
  },
  {
   "cell_type": "code",
   "execution_count": null,
   "metadata": {},
   "outputs": [],
   "source": [
    "client.contributions.delete_entry(pk=cid).response().result  \n",
    "# client.projects.delete_entry(pk=project).response().result"
   ]
  },
  {
   "cell_type": "markdown",
   "metadata": {},
   "source": [
    "**TODO** how to add a custom overview graph"
   ]
  }
 ],
 "metadata": {
  "kernelspec": {
   "display_name": "Python 3",
   "language": "python",
   "name": "python3"
  },
  "language_info": {
   "codemirror_mode": {
    "name": "ipython",
    "version": 3
   },
   "file_extension": ".py",
   "mimetype": "text/x-python",
   "name": "python",
   "nbconvert_exporter": "python",
   "pygments_lexer": "ipython3",
   "version": "3.7.3"
  }
 },
 "nbformat": 4,
 "nbformat_minor": 2
}
