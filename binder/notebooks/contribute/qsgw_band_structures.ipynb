{
 "cells": [
  {
   "cell_type": "code",
   "execution_count": null,
   "metadata": {},
   "outputs": [],
   "source": [
    "from mpcontribs.client import load_client"
   ]
  },
  {
   "cell_type": "code",
   "execution_count": null,
   "metadata": {},
   "outputs": [],
   "source": [
    "client = load_client()"
   ]
  },
  {
   "cell_type": "code",
   "execution_count": null,
   "metadata": {},
   "outputs": [],
   "source": [
    "info = {\n",
    "    'project': 'qsgw_band_structures',\n",
    "    'owner': 'walter.lambrecht@case.edu',\n",
    "    'title': 'QSGW Band Structure',\n",
    "    # TODO long_title\n",
    "    'authors': 'W.R.L. Lambrecht, S. Lyu, A.P. Jaroenjittichai',\n",
    "    'description': '''\n",
    "    Band structure calculations were performed with the QSGW (quasiparticle self-consistent GW) approach\n",
    "    [Codes, PRB, PRL]. The band structures use the 0.8Σ approximation, meaning 0.8 of the self-energy is\n",
    "    included [PRM]. Effective mass tensors and full band structure, see [DMREF].\n",
    "    ''',\n",
    "    'urls': {\n",
    "       'DMREF': 'https://sites.google.com/a/case.edu/dmref/',\n",
    "       'CODE': 'https://www.questaal.org/',\n",
    "       'PRB': 'https://doi.org/10.1103/PhysRevB.76.165106',\n",
    "       'PRL': 'https://doi.org/10.1103/PhysRevLett.96.226402',\n",
    "       'PRM': 'https://doi.org/10.1103/PhysRevMaterials.2.013807'\n",
    "    }\n",
    "}"
   ]
  },
  {
   "cell_type": "code",
   "execution_count": null,
   "metadata": {},
   "outputs": [],
   "source": [
    "client.projects.create_entry(project=info).response().result"
   ]
  },
  {
   "cell_type": "code",
   "execution_count": null,
   "metadata": {},
   "outputs": [],
   "source": [
    "client.projects.get_entry(pk=info['project']).response().result"
   ]
  },
  {
   "cell_type": "code",
   "execution_count": null,
   "metadata": {},
   "outputs": [],
   "source": [
    "client.projects.update_entry(pk=info['project'], project={'is_public': True}).response().result"
   ]
  },
  {
   "cell_type": "code",
   "execution_count": null,
   "metadata": {},
   "outputs": [],
   "source": [
    "# TODO add missing values\n",
    "contributions = [\n",
    "    {\n",
    "        'project': info['project'],\n",
    "        'identifier': 'mp-1020712',\n",
    "        'data': {\n",
    "            'formula': 'ZnSiN2',\n",
    "            'reference': 'https://doi.org/10.1103/PhysRevB.84.165204',\n",
    "            'ΔE|Γ': {\n",
    "                'indirect': '5.70 eV',\n",
    "                'direct': '5.92 eV'\n",
    "            },\n",
    "            'VBM|Γ': {\n",
    "                'b₁': '0',\n",
    "                'a₂': '-20 meV',\n",
    "                'b₂': '-40 meV',\n",
    "                'a₁': '-180 meV'\n",
    "            }\n",
    "        }\n",
    "    }, {\n",
    "        'project': info['project'],\n",
    "        'identifier': 'mp-2979',\n",
    "        'data': {\n",
    "            'formula': 'ZnGeN2',\n",
    "            'reference': 'https://doi.org/10.1103/PhysRevB.84.165204',\n",
    "            'ΔE|Γ': {'direct': '3.60 eV'},\n",
    "            'VBM|Γ': {\n",
    "                'b₁': '0',\n",
    "                'b₂': '-28 meV',\n",
    "                'a₁': '-129 meV'\n",
    "            }\n",
    "        }\n",
    "    }, {\n",
    "        'project': info['project'],\n",
    "        'identifier': 'mp-1029469',\n",
    "        'data': {\n",
    "            'formula': 'ZnSnN2',\n",
    "            'reference': 'https://doi.org/10.1103/PhysRevB.91.205207',\n",
    "            'ΔE|Γ': {'direct': '1.82 eV'}\n",
    "        }\n",
    "    }, {\n",
    "        'project': info['project'],\n",
    "        'identifier': 'mp-3677',\n",
    "        'data': {\n",
    "            'formula': 'MgSiN2',\n",
    "            'reference': 'https://doi.org/10.1103/PhysRevB.94.125201',\n",
    "            'ΔE|Γ': {\n",
    "                'indirect': '6.08 eV',\n",
    "                'direct': '6.53 eV',\n",
    "                'direct|3x4x4': '6.30 eV'\n",
    "            }\n",
    "        }\n",
    "    }, {\n",
    "        'project': info['project'],\n",
    "        'identifier': 'mp-7798',\n",
    "        'data': {\n",
    "            'formula': 'MgGeN2',\n",
    "            'reference': 'https://doi.org/10.1016/j.ssc.2019.113664',\n",
    "            'ΔE|Γ': {'direct': '4.11 eV'},\n",
    "            'VBM|Γ': {\n",
    "                'b₁': '0',\n",
    "                'b₂': '-82 meV',\n",
    "                'a₁': '-238 meV'\n",
    "            }\n",
    "        }\n",
    "    }, {\n",
    "        'project': info['project'],\n",
    "        'identifier': 'mp-1029791',\n",
    "        'data': {\n",
    "            'formula': 'MgSnN2',\n",
    "            'reference': 'https://doi.org/10.1016/j.ssc.2019.113664',\n",
    "            'ΔE|Γ': {'direct': '2.28 eV'},\n",
    "            'VBM|Γ': {\n",
    "                'b₁': '0',\n",
    "                'b₂': '-116 meV',\n",
    "                'a₁': '-144 meV'\n",
    "            }\n",
    "        }\n",
    "    }\n",
    "]"
   ]
  },
  {
   "cell_type": "code",
   "execution_count": null,
   "metadata": {},
   "outputs": [],
   "source": [
    "for contrib in contributions:\n",
    "    print(client.contributions.create_entry(contribution=contrib).response().result)"
   ]
  },
  {
   "cell_type": "code",
   "execution_count": null,
   "metadata": {},
   "outputs": [],
   "source": [
    "client.contributions.get_entries(project=info['project']).response().result"
   ]
  },
  {
   "cell_type": "code",
   "execution_count": null,
   "metadata": {},
   "outputs": [],
   "source": [
    "client.contributions.update_entries(project=info['project'], contributions={'is_public': True}).response().result"
   ]
  },
  {
   "cell_type": "code",
   "execution_count": null,
   "metadata": {},
   "outputs": [],
   "source": [
    "client.contributions.get_entries(identifier='mp-2979').response().result"
   ]
  },
  {
   "cell_type": "code",
   "execution_count": null,
   "metadata": {},
   "outputs": [],
   "source": []
  }
 ],
 "metadata": {
  "kernelspec": {
   "display_name": "Python 3",
   "language": "python",
   "name": "python3"
  },
  "language_info": {
   "codemirror_mode": {
    "name": "ipython",
    "version": 3
   },
   "file_extension": ".py",
   "mimetype": "text/x-python",
   "name": "python",
   "nbconvert_exporter": "python",
   "pygments_lexer": "ipython3",
   "version": "3.7.3"
  }
 },
 "nbformat": 4,
 "nbformat_minor": 2
}
