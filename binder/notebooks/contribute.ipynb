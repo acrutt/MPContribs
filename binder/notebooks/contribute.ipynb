{
 "cells": [
  {
   "cell_type": "markdown",
   "metadata": {},
   "source": [
    "# Load API client"
   ]
  },
  {
   "cell_type": "code",
   "execution_count": null,
   "metadata": {},
   "outputs": [],
   "source": [
    "from mpcontribs.client import load_client"
   ]
  },
  {
   "cell_type": "code",
   "execution_count": null,
   "metadata": {},
   "outputs": [],
   "source": [
    "headers = { # just for local testing, kong+apikey will take care of headers\n",
    "    'X-Consumer-Groups': 'my_project',\n",
    "    'X-Consumer-Username': 'patrick@the-huck.com',\n",
    "    #'X-Consumer-Username': 'phuck@lbl.gov'\n",
    "}\n",
    "client = load_client(headers=headers)\n",
    "project = 'my_project'"
   ]
  },
  {
   "cell_type": "code",
   "execution_count": null,
   "metadata": {},
   "outputs": [],
   "source": [
    "dir(client)"
   ]
  },
  {
   "cell_type": "markdown",
   "metadata": {},
   "source": [
    "# Retrieve and update project"
   ]
  },
  {
   "cell_type": "code",
   "execution_count": null,
   "metadata": {},
   "outputs": [],
   "source": [
    "dir(client.projects)"
   ]
  },
  {
   "cell_type": "code",
   "execution_count": null,
   "metadata": {},
   "outputs": [],
   "source": [
    "client.projects.get_entry(pk=project, _fields=['_all']).response().result"
   ]
  },
  {
   "cell_type": "code",
   "execution_count": null,
   "metadata": {
    "scrolled": true
   },
   "outputs": [],
   "source": [
    "client.projects.update_entry(pk=project, project={\n",
    "     #'title': 'Best Title', 'other': {'hello': 'mars', 'a': {'b': '6 %', 'c': '3.44 meV'}},\n",
    "     'urls': {'PRC': 'https://google.wf'}\n",
    "}).response().result"
   ]
  },
  {
   "cell_type": "code",
   "execution_count": null,
   "metadata": {},
   "outputs": [],
   "source": [
    "# TODO HierarchicalData json-human"
   ]
  },
  {
   "cell_type": "markdown",
   "metadata": {},
   "source": [
    "# Create, retrieve, and update contributions"
   ]
  },
  {
   "cell_type": "code",
   "execution_count": null,
   "metadata": {},
   "outputs": [],
   "source": [
    "dir(client.contributions)"
   ]
  },
  {
   "cell_type": "code",
   "execution_count": null,
   "metadata": {},
   "outputs": [],
   "source": [
    "identifier = 'mp-1002'\n",
    "client.contributions.create_entry(contribution={\n",
    "    'project': project, 'identifier': identifier,\n",
    "    'data': {'formula': 'CO2', 'E': '3.33 eV', 'E|V': {'a': 1, 'b': '3 cm'}}\n",
    "}).response().result"
   ]
  },
  {
   "cell_type": "code",
   "execution_count": null,
   "metadata": {},
   "outputs": [],
   "source": [
    "client.contributions.get_entries(project=project, _fields=['_all']).response().result"
   ]
  },
  {
   "cell_type": "code",
   "execution_count": null,
   "metadata": {},
   "outputs": [],
   "source": [
    "client.contributions.update_entry(\n",
    "    pk='5dfff6783cb42e1673596b1f', contribution={\n",
    "        'data': {'formula': 'H2', 'E': '14 eV'},\n",
    "        'identifier': 'mp-1004'\n",
    "    }\n",
    ").response().result"
   ]
  },
  {
   "cell_type": "code",
   "execution_count": null,
   "metadata": {},
   "outputs": [],
   "source": [
    "# TODO HierarchicalData json-human"
   ]
  },
  {
   "cell_type": "markdown",
   "metadata": {},
   "source": [
    "# Tables"
   ]
  },
  {
   "cell_type": "code",
   "execution_count": null,
   "metadata": {},
   "outputs": [],
   "source": [
    "import pandas_datareader.data as web\n",
    "from mpcontribs.io.core.components.tdata import Table"
   ]
  },
  {
   "cell_type": "code",
   "execution_count": null,
   "metadata": {},
   "outputs": [],
   "source": [
    "kwargs = dict(contribution='5dfff6783cb42e1673596b1f', name='Dow-Jones Index')\n",
    "table = Table(web.DataReader('^DJI', 'stooq'), **kwargs)"
   ]
  },
  {
   "cell_type": "code",
   "execution_count": null,
   "metadata": {},
   "outputs": [],
   "source": [
    "tt = Table(table.head(), **kwargs)  # submitting head for testing"
   ]
  },
  {
   "cell_type": "code",
   "execution_count": null,
   "metadata": {},
   "outputs": [],
   "source": [
    "client.tables.create_entry(table=tt.to_dict()).response().result"
   ]
  },
  {
   "cell_type": "code",
   "execution_count": null,
   "metadata": {},
   "outputs": [],
   "source": [
    "client.tables.get_entry(\n",
    "    pk='5dffffa9c6784937c400dd68', _fields=['_all']#, data_per_page=3, data_page=5\n",
    ").response().result"
   ]
  },
  {
   "cell_type": "code",
   "execution_count": null,
   "metadata": {
    "scrolled": true
   },
   "outputs": [],
   "source": [
    "client.tables.update_entry(pk='5dff21eb528af4071b42a52f', table=table.to_dict()).response().result"
   ]
  },
  {
   "cell_type": "code",
   "execution_count": null,
   "metadata": {},
   "outputs": [],
   "source": [
    "client.tables.update_entry(pk='5dffffa9c6784937c400dd68', table={'name': 'DJI Head'}).response().result"
   ]
  },
  {
   "cell_type": "code",
   "execution_count": null,
   "metadata": {},
   "outputs": [],
   "source": [
    "client.tables.delete_entry(pk='5dff21eb528af4071b42a52f').response().result"
   ]
  },
  {
   "cell_type": "code",
   "execution_count": null,
   "metadata": {},
   "outputs": [],
   "source": [
    "# TODO Table Backgrid, Plot Plotly"
   ]
  },
  {
   "cell_type": "markdown",
   "metadata": {},
   "source": [
    "# Structures"
   ]
  },
  {
   "cell_type": "code",
   "execution_count": null,
   "metadata": {},
   "outputs": [],
   "source": [
    "from pymatgen import Structure, MPRester"
   ]
  },
  {
   "cell_type": "code",
   "execution_count": null,
   "metadata": {},
   "outputs": [],
   "source": [
    "with MPRester() as m:\n",
    "    structure = m.get_structure_by_material_id(\"mp-1234\")"
   ]
  },
  {
   "cell_type": "code",
   "execution_count": null,
   "metadata": {},
   "outputs": [],
   "source": [
    "sdct = structure.as_dict()\n",
    "kwargs = dict(contribution='5dfff6783cb42e1673596b1f', name='LuAl2')\n",
    "sdct.update(kwargs)"
   ]
  },
  {
   "cell_type": "code",
   "execution_count": null,
   "metadata": {},
   "outputs": [],
   "source": [
    "client.structures.create_entry(structure=sdct).response().result"
   ]
  },
  {
   "cell_type": "code",
   "execution_count": null,
   "metadata": {},
   "outputs": [],
   "source": [
    "client.structures.get_entry(pk='5e0003dbbdb336d3aea7f497', _fields=['_all']).response().result"
   ]
  },
  {
   "cell_type": "code",
   "execution_count": null,
   "metadata": {},
   "outputs": [],
   "source": [
    "client.structures.update_entry(pk='5e0003dbbdb336d3aea7f497', structure={'name': 'Lu Al2'}).response().result"
   ]
  },
  {
   "cell_type": "code",
   "execution_count": null,
   "metadata": {},
   "outputs": [],
   "source": [
    "# TODO structure viewer"
   ]
  },
  {
   "cell_type": "markdown",
   "metadata": {},
   "source": [
    "# Add overview graph"
   ]
  },
  {
   "cell_type": "code",
   "execution_count": null,
   "metadata": {},
   "outputs": [],
   "source": [
    "import plotly.express as px"
   ]
  },
  {
   "cell_type": "code",
   "execution_count": null,
   "metadata": {},
   "outputs": [],
   "source": [
    "contribs = client.contributions.get_entries(\n",
    "    project='MnO2_phase_selection',\n",
    "    _fields=['id', 'identifier', 'data.ΔH.value']\n",
    ").response().result['data']"
   ]
  },
  {
   "cell_type": "markdown",
   "metadata": {},
   "source": [
    "# Publish and/or delete project"
   ]
  },
  {
   "cell_type": "code",
   "execution_count": null,
   "metadata": {},
   "outputs": [],
   "source": [
    "client.contributions.delete_entry(pk='5dfbed6dccd6c89d21994026').response().result"
   ]
  },
  {
   "cell_type": "code",
   "execution_count": null,
   "metadata": {},
   "outputs": [],
   "source": [
    "client.projects.delete_entry(pk='my_project').response().result"
   ]
  },
  {
   "cell_type": "code",
   "execution_count": null,
   "metadata": {},
   "outputs": [],
   "source": [
    "# use update_entries to also publish according contributions, tables, and structures"
   ]
  }
 ],
 "metadata": {
  "kernelspec": {
   "display_name": "Python 3",
   "language": "python",
   "name": "python3"
  },
  "language_info": {
   "codemirror_mode": {
    "name": "ipython",
    "version": 3
   },
   "file_extension": ".py",
   "mimetype": "text/x-python",
   "name": "python",
   "nbconvert_exporter": "python",
   "pygments_lexer": "ipython3",
   "version": "3.7.3"
  }
 },
 "nbformat": 4,
 "nbformat_minor": 2
}
