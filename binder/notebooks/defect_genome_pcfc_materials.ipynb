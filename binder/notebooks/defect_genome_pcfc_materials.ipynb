{
 "cells": [
  {
   "cell_type": "code",
   "execution_count": null,
   "metadata": {},
   "outputs": [],
   "source": [
    "from mpcontribs.client import load_client\n",
    "from pandas import read_excel\n",
    "from pymatgen import MPRester\n",
    "import numpy as np\n",
    "from time import sleep"
   ]
  },
  {
   "cell_type": "code",
   "execution_count": null,
   "metadata": {},
   "outputs": [],
   "source": [
    "project = 'defect_genome_pcfc_materials'\n",
    "client = load_client('your-api-key-here')\n",
    "mpr = MPRester()"
   ]
  },
  {
   "cell_type": "markdown",
   "metadata": {},
   "source": [
    "Retrieve and update project info"
   ]
  },
  {
   "cell_type": "code",
   "execution_count": null,
   "metadata": {},
   "outputs": [],
   "source": [
    "client.projects.get_entry(pk=project).result()"
   ]
  },
  {
   "cell_type": "code",
   "execution_count": null,
   "metadata": {},
   "outputs": [],
   "source": [
    "client.projects.update_entry(pk=project, project={\n",
    "    'long_title': 'Defect Genome of Cubic Perovskites for Fuel Cells'\n",
    "}).result()"
   ]
  },
  {
   "cell_type": "markdown",
   "metadata": {},
   "source": [
    "Create contributions"
   ]
  },
  {
   "cell_type": "code",
   "execution_count": null,
   "metadata": {},
   "outputs": [],
   "source": [
    "df = read_excel('/Users/patrick/Downloads/DefectGenome_JPCC-data_MP.xlsx')\n",
    "df.columns = ['A', 'B', 'a', 'Eᶠ|ABO₃', 'Eᶠ|Yᴮ', 'Eᶠ|Vᴼ', 'Eᶠ|Hᵢ', 'ΔEᵢ|Yᴮ−Hᵢ']\n",
    "units = {'A': '', 'B': '', 'a': 'Å'}\n",
    "df"
   ]
  },
  {
   "cell_type": "code",
   "execution_count": null,
   "metadata": {},
   "outputs": [],
   "source": [
    "for idx, row in df.iterrows():\n",
    "    A, B = row[df.columns[0]], row[df.columns[1]]\n",
    "    formula = f'{A}{B}O3'\n",
    "    data = mpr.get_data(formula, prop=\"volume\")\n",
    "\n",
    "    if len(data) > 1:\n",
    "        volume = row[df.columns[2]]**3\n",
    "        for d in data:\n",
    "            d['dV'] = abs(d['volume']-volume)\n",
    "        data = sorted(data, key=lambda item: item['dV'])\n",
    "    elif not data:\n",
    "        print(formula, 'not found on MP')\n",
    "        continue\n",
    "\n",
    "    identifier = data[0]['material_id']\n",
    "    print(idx, formula, identifier)\n",
    "    \n",
    "    contrib = {'project': project, 'identifier': identifier, 'data': {}}\n",
    "    for col in df.columns:\n",
    "        unit = units.get(col, 'eV')\n",
    "        contrib['data'][col] = f'{row[col]} {unit}' if unit else row[col]\n",
    "        \n",
    "    ntries = 0\n",
    "    while ntries < 3:\n",
    "        try:\n",
    "            for d in client.contributions.get_entries(\n",
    "                project=project, formula__in=[formula, f'{B}{A}O3'], _fields=['id']\n",
    "            ).result()['data']:\n",
    "                client.contributions.delete_entry(pk=d['id']).result()\n",
    "                #print(d['id'], 'deleted')\n",
    "\n",
    "            cid = client.contributions.create_entry(contribution=contrib).result()['id']\n",
    "            #print(client.contributions.get_entry(pk=cid, _fields=['_all']).result())\n",
    "            #print(cid, 'created')\n",
    "            break\n",
    "        except Exception as ex:\n",
    "            ntries += 1\n",
    "            print(ntries, ex)\n",
    "            print('waiting', ntries*30, 'seconds...')\n",
    "            sleep(ntries*30)\n",
    "    else:\n",
    "        print('I give up.')\n",
    "        break"
   ]
  },
  {
   "cell_type": "markdown",
   "metadata": {},
   "source": [
    "Bulk update contributions to publish"
   ]
  },
  {
   "cell_type": "code",
   "execution_count": null,
   "metadata": {},
   "outputs": [],
   "source": [
    "client.contributions.update_entries(\n",
    "    project=project, is_public=False, contributions={'is_public': True}\n",
    ").result()"
   ]
  }
 ],
 "metadata": {
  "kernelspec": {
   "display_name": "Python 3",
   "language": "python",
   "name": "python3"
  },
  "language_info": {
   "codemirror_mode": {
    "name": "ipython",
    "version": 3
   },
   "file_extension": ".py",
   "mimetype": "text/x-python",
   "name": "python",
   "nbconvert_exporter": "python",
   "pygments_lexer": "ipython3",
   "version": "3.8.1"
  }
 },
 "nbformat": 4,
 "nbformat_minor": 4
}
