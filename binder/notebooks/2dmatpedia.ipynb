{
 "cells": [
  {
   "cell_type": "code",
   "execution_count": null,
   "metadata": {},
   "outputs": [],
   "source": [
    "import os, gzip, json\n",
    "from time import sleep, time\n",
    "from mpcontribs.client import load_client\n",
    "from pymatgen import Structure, MPRester\n",
    "from urllib.request import urlretrieve\n",
    "from monty.json import MontyDecoder\n",
    "from itertools import groupby\n",
    "from operator import itemgetter"
   ]
  },
  {
   "cell_type": "code",
   "execution_count": null,
   "metadata": {},
   "outputs": [],
   "source": [
    "project = '2dmatpedia'\n",
    "client = load_client('your-api-key-here')\n",
    "mpr = MPRester()"
   ]
  },
  {
   "cell_type": "markdown",
   "metadata": {},
   "source": [
    "Create project (once)"
   ]
  },
  {
   "cell_type": "code",
   "execution_count": null,
   "metadata": {},
   "outputs": [],
   "source": [
    "is_public = True\n",
    "info = {\n",
    "    'project': project,\n",
    "    'is_public': is_public,\n",
    "    'title': '2DMatPedia',\n",
    "    'long_title': '2D Materials Encyclopedia',\n",
    "    'owner': 'migueldiascosta@nus.edu.sg',\n",
    "    'authors': 'M. Dias Costa, F.Y. Ping, Z. Jun',\n",
    "    'description': ' '.join('''\n",
    "    We start from the around 80000 inorganic compounds in the Materials Project database. A geometry-based\n",
    "    algorithm [PRL] was used to identify layered structures among these compounds. Two-dimensional (2D)\n",
    "    materials were theoretically exfoliated by extracting one cluster in the standard conventional unit cell\n",
    "    of the layered structures screened in the above steps. A 20 Å vacuum along the c axis was imposed to\n",
    "    minimize the interactions of image slabs by periodic condition. Structure matcher tools from Pymatgen were\n",
    "    used to find duplicates of the exfoliated 2D materials. The standard workflow developed by the Materials\n",
    "    Project was used to perform high-throughput calculations for all the layered bulk and 2D materials screened\n",
    "    in this project. The calculations were performed by density functional theory as implemented in the Vienna\n",
    "    Ab Initio Simulation Package (VASP) software with Perdew-Burke-Ernzerhof (PBE) approximation for the\n",
    "    exchange-correlation functional and the frozen-core all-electron projector-augmented wave (PAW) method for\n",
    "    the electron-ion interaction. The cutoff energy for the plane wave expansion was set to 520 eV.\n",
    "    '''.replace('\\n', '').split()),\n",
    "    'urls': {\n",
    "        'WWW': 'http://www.2dmatpedia.org',\n",
    "        'PRL': 'https://doi.org/10.1103/PhysRevLett.118.106101'    \n",
    "    }\n",
    "}\n",
    "# client.projects.create_entry(project=info).result()\n",
    "# client.projects.get_entry(pk=project, _fields=['_all']).result()"
   ]
  },
  {
   "cell_type": "markdown",
   "metadata": {},
   "source": [
    "Download source data"
   ]
  },
  {
   "cell_type": "code",
   "execution_count": null,
   "metadata": {},
   "outputs": [],
   "source": [
    "config = {\n",
    "    \"file\": \"http://www.2dmatpedia.org/static/db.json.gz\",\n",
    "    \"details\": \"http://www.2dmatpedia.org/2dmaterials/doc/{}\",\n",
    "    'columns': {\n",
    "        'material_id': {'name': 'details'},\n",
    "        'exfoliation_energy_per_atom': {'name': 'Eₓ', 'unit': 'eV'},\n",
    "        'energy_per_atom': {'name': 'E', 'unit': 'meV'},\n",
    "        'energy_vdw_per_atom': {'name': 'ΔE|vdW', 'unit': 'meV'},\n",
    "        'bandgap': {'name': 'ΔE', 'unit': 'meV'},\n",
    "    }\n",
    "}"
   ]
  },
  {
   "cell_type": "code",
   "execution_count": null,
   "metadata": {},
   "outputs": [],
   "source": [
    "raw_data = []  # as read from raw files\n",
    "dbfile = config['file'].rsplit('/')[-1]\n",
    "if not os.path.exists(dbfile):\n",
    "    print('downloading', dbfile, '...')\n",
    "    urlretrieve(config['file'], dbfile)\n",
    "\n",
    "with gzip.open(dbfile, 'rb') as f:\n",
    "    for line in f:\n",
    "        raw_data.append(json.loads(line, cls=MontyDecoder))\n",
    "\n",
    "len(raw_data)"
   ]
  },
  {
   "cell_type": "code",
   "execution_count": null,
   "metadata": {},
   "outputs": [],
   "source": [
    "# get data dict from raw data entry\n",
    "def get_data(rd, identifier):\n",
    "    data = {}\n",
    "    for k, col in config['columns'].items():\n",
    "        hdr, unit = col['name'], col.get('unit')\n",
    "        if k == 'material_id':\n",
    "            data[hdr] = config[hdr].format(rd[k])\n",
    "        elif k in rd:\n",
    "            if unit:\n",
    "                try:\n",
    "                    float(rd[k])\n",
    "                except ValueError:\n",
    "                    continue\n",
    "            data[hdr] = f'{rd[k]} {unit}' if unit else rd[k]\n",
    "    return data"
   ]
  },
  {
   "cell_type": "code",
   "execution_count": null,
   "metadata": {},
   "outputs": [],
   "source": [
    "# clean out\n",
    "entries = client.contributions.get_entries(\n",
    "    project=project, _fields=['id', 'identifier'], _limit=200\n",
    ").result()['data']\n",
    "for idx, d in enumerate(entries):\n",
    "    client.contributions.delete_entry(pk=d['id']).result()\n",
    "    print(idx, d['id'], d['identifier'], 'deleted')"
   ]
  },
  {
   "cell_type": "code",
   "execution_count": null,
   "metadata": {},
   "outputs": [],
   "source": [
    "raw_data_sorted = sorted(raw_data, key=itemgetter('source_id'))\n",
    "raw_data_grouped = {}\n",
    "\n",
    "for task_id, objects in groupby(raw_data_sorted, key=itemgetter('source_id')):\n",
    "    raw_data_grouped[task_id] = list(objects)        \n",
    "\n",
    "print(len(raw_data_sorted), len(raw_data_grouped))"
   ]
  },
  {
   "cell_type": "code",
   "execution_count": null,
   "metadata": {},
   "outputs": [],
   "source": [
    "count = client.contributions.get_entries(project=project, _limit=1).result()['total_count']\n",
    "\n",
    "for idx, (task_id, objects) in enumerate(raw_data_grouped.items()):\n",
    "    if not idx%25:\n",
    "        if idx > 0:\n",
    "            stop = time()\n",
    "            duration = stop-start\n",
    "            print(duration)\n",
    "        start = time()\n",
    "        print(idx, task_id)\n",
    "\n",
    "    if idx < count: # redo last\n",
    "        continue\n",
    "\n",
    "    try:\n",
    "        identifier = mpr.get_materials_id_from_task_id(task_id)\n",
    "    except Exception as ex:\n",
    "        print(idx, task_id, 'invalid')\n",
    "        continue\n",
    "\n",
    "        \n",
    "    contrib = {'project': project, 'is_public': is_public, 'identifier': identifier, 'data': {}}\n",
    "    structures, names = [], []\n",
    "    for j, d in enumerate(objects):\n",
    "        structure = d['structure']\n",
    "        comp = structure.composition.reduced_formula\n",
    "        name = f'{comp}|{j}' if comp in names else comp        \n",
    "        names.append(name)\n",
    "        structures.append({'label': '2D', 'name': name, 'is_public': is_public})\n",
    "        structures[-1].update(structure.as_dict())\n",
    "        label = f'2D|{j}'\n",
    "        contrib['data'][label] = get_data(d, identifier)\n",
    "        contrib['data'][label]['formula'] = comp\n",
    "\n",
    "    ntries = 0\n",
    "    while ntries < 3:\n",
    "        try:\n",
    "            for d in client.contributions.get_entries(\n",
    "                project=project, identifier=identifier, _fields=['id']\n",
    "            ).result()['data']:\n",
    "                client.contributions.delete_entry(pk=d['id']).result()\n",
    "                print(idx, d['id'], 'deleted')\n",
    "\n",
    "            cid = client.contributions.create_entry(contribution=contrib).result()['id']\n",
    "            print(idx, cid, 'created')\n",
    "\n",
    "            for j, sdct in enumerate(structures):\n",
    "                sdct['contribution'] = cid\n",
    "                sid = client.structures.create_entry(structure=sdct).result()['id']\n",
    "                #print(idx, 'structure', sid, 'created')\n",
    "\n",
    "            break\n",
    "#         except Exception as ex:\n",
    "#             ntries += 1\n",
    "#             wait = ntries * 30 + (ntries-1) * 30 * 60\n",
    "#             print('waiting', ntries*30, 'seconds...')\n",
    "#             sleep(ntries*30)\n",
    "#             print(idx, identifier, 'continue ...')\n",
    "    else:\n",
    "        print('I give up.')\n",
    "        break\n",
    "    \n",
    "    break"
   ]
  },
  {
   "cell_type": "code",
   "execution_count": null,
   "metadata": {},
   "outputs": [],
   "source": []
  }
 ],
 "metadata": {
  "kernelspec": {
   "display_name": "Python 3",
   "language": "python",
   "name": "python3"
  },
  "language_info": {
   "codemirror_mode": {
    "name": "ipython",
    "version": 3
   },
   "file_extension": ".py",
   "mimetype": "text/x-python",
   "name": "python",
   "nbconvert_exporter": "python",
   "pygments_lexer": "ipython3",
   "version": "3.8.1"
  }
 },
 "nbformat": 4,
 "nbformat_minor": 4
}
