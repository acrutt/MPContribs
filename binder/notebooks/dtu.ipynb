{
 "cells": [
  {
   "cell_type": "code",
   "execution_count": null,
   "metadata": {},
   "outputs": [],
   "source": [
    "import os\n",
    "from ase.db import connect\n",
    "from urllib.request import urlretrieve\n",
    "from mpcontribs.client import load_client"
   ]
  },
  {
   "cell_type": "code",
   "execution_count": null,
   "metadata": {},
   "outputs": [],
   "source": [
    "project = 'dtu'\n",
    "db = 'https://cmr.fysik.dtu.dk/_downloads/mp_gllbsc.db'\n",
    "client = load_client('your-api-key-here')"
   ]
  },
  {
   "cell_type": "markdown",
   "metadata": {},
   "source": [
    "Retrieve and update project info"
   ]
  },
  {
   "cell_type": "code",
   "execution_count": null,
   "metadata": {},
   "outputs": [],
   "source": [
    "client.projects.get_entry(pk=project, _fields=['_all']).result()"
   ]
  },
  {
   "cell_type": "code",
   "execution_count": null,
   "metadata": {},
   "outputs": [],
   "source": [
    "client.projects.update_entry(pk=project, project={'urls': {'DTU|DB': db}}).result()"
   ]
  },
  {
   "cell_type": "markdown",
   "metadata": {},
   "source": [
    "Create contributions"
   ]
  },
  {
   "cell_type": "code",
   "execution_count": null,
   "metadata": {},
   "outputs": [],
   "source": [
    "dbfile = db.rsplit('/', 1)[-1]\n",
    "if not os.path.exists(dbfile):\n",
    "    urlretrieve(db, dbfile) \n",
    "\n",
    "con = connect(dbfile)\n",
    "nr_mpids = con.count(selection='mpid')\n",
    "print(nr_mpids)"
   ]
  },
  {
   "cell_type": "code",
   "execution_count": null,
   "metadata": {},
   "outputs": [],
   "source": [
    "for idx, row in enumerate(con.select('mpid')):\n",
    "    identifier = f'mp-{row.mpid}'\n",
    "    print(identifier)\n",
    "    contrib = {'project': project, 'identifier': identifier, 'data': {\n",
    "        'ΔE|KS': { # kohn-sham band gap\n",
    "            'indirect': f'{row.gllbsc_ind_gap - row.gllbsc_disc} eV',\n",
    "            'direct': f'{row.gllbsc_dir_gap - row.gllbsc_disc} eV'            \n",
    "        },\n",
    "        'ΔE|QP': { # quasi particle band gap\n",
    "            'indirect': f'{row.gllbsc_ind_gap} eV',\n",
    "            'direct': f'{row.gllbsc_dir_gap} eV'           \n",
    "        },\n",
    "        'C': f'{row.gllbsc_disc} eV' # derivative discontinuity\n",
    "    }}\n",
    "\n",
    "    ntries = 0\n",
    "    while ntries < 3:\n",
    "        try:\n",
    "            for d in client.contributions.get_entries(\n",
    "                project=project, identifier=identifier, _fields=['id']\n",
    "            ).result()['data']:\n",
    "                client.contributions.delete_entry(pk=d['id']).result()\n",
    "                #print(d['id'], 'deleted')\n",
    "\n",
    "            cid = client.contributions.create_entry(contribution=contrib).result()['id']\n",
    "            #print(client.contributions.get_entry(pk=cid, _fields=['_all']).result())\n",
    "            #print(cid, 'created')\n",
    "            break\n",
    "        except Exception as ex:\n",
    "            ntries += 1\n",
    "            print(ntries, ex)\n",
    "            print('waiting', ntries*30, 'seconds...')\n",
    "            sleep(ntries*30)\n",
    "    else:\n",
    "        print('I give up.')\n",
    "        break"
   ]
  }
 ],
 "metadata": {
  "kernelspec": {
   "display_name": "Python 3",
   "language": "python",
   "name": "python3"
  },
  "language_info": {
   "codemirror_mode": {
    "name": "ipython",
    "version": 3
   },
   "file_extension": ".py",
   "mimetype": "text/x-python",
   "name": "python",
   "nbconvert_exporter": "python",
   "pygments_lexer": "ipython3",
   "version": "3.8.1"
  }
 },
 "nbformat": 4,
 "nbformat_minor": 4
}
