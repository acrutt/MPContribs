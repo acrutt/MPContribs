{
 "cells": [
  {
   "cell_type": "code",
   "execution_count": null,
   "metadata": {},
   "outputs": [],
   "source": [
    "from mpcontribs.client import load_client\n",
    "from mpcontribs.io.core.recdict import RecursiveDict\n",
    "from mpcontribs.io.core.components.hdata import HierarchicalData\n",
    "from mpcontribs.io.core.components.tdata import Table\n",
    "from mpcontribs.io.core.components.gdata import Plot"
   ]
  },
  {
   "cell_type": "code",
   "execution_count": null,
   "metadata": {},
   "outputs": [],
   "source": [
    "api_key = 'your-api-key-here' # from https://portal.mpcontribs.org/dashboard\n",
    "client = load_client(api_key)"
   ]
  },
  {
   "cell_type": "markdown",
   "metadata": {},
   "source": [
    "## project info & overview table\n",
    "see https://portal.mpcontribs.org/carrier_transport"
   ]
  },
  {
   "cell_type": "code",
   "execution_count": null,
   "metadata": {},
   "outputs": [],
   "source": [
    "project = 'carrier_transport'\n",
    "info = client.projects.get_entry(pk=project, _fields=['_all']).result()\n",
    "RecursiveDict(info)"
   ]
  },
  {
   "cell_type": "code",
   "execution_count": null,
   "metadata": {},
   "outputs": [],
   "source": [
    "keys, subkeys = ['<mₑᶜᵒⁿᵈ>', '<S>', '<σ>', '<S²σ>'], ['n', 'p']\n",
    "columns = ['.'.join([k, sk]) for k in keys for sk in subkeys]\n",
    "data = client.projects.get_table(project=project, columns=columns).result()\n",
    "columns = list(data['items'][0].keys()) # reset to include units\n",
    "Table(data['items'], columns=columns, project=project, api_key=api_key)"
   ]
  },
  {
   "cell_type": "markdown",
   "metadata": {},
   "source": [
    "## specific contribution"
   ]
  },
  {
   "cell_type": "code",
   "execution_count": null,
   "metadata": {},
   "outputs": [],
   "source": [
    "cid = '5ac0a333d4f1443de26744ab'\n",
    "contrib = client.contributions.get_entry(\n",
    "    pk=cid, _fields=['_all']\n",
    ").result()"
   ]
  },
  {
   "cell_type": "markdown",
   "metadata": {},
   "source": [
    "### hierarchical data"
   ]
  },
  {
   "cell_type": "code",
   "execution_count": null,
   "metadata": {},
   "outputs": [],
   "source": [
    "HierarchicalData(contrib['data']) # dictionary"
   ]
  },
  {
   "cell_type": "markdown",
   "metadata": {},
   "source": [
    "### tabular data"
   ]
  },
  {
   "cell_type": "code",
   "execution_count": null,
   "metadata": {},
   "outputs": [],
   "source": [
    "tid = contrib['tables'][0]['id']\n",
    "table = client.tables.get_entry(pk=tid, _fields=['_all']).result()\n",
    "Table.from_dict(table) # Pandas DataFrame format"
   ]
  },
  {
   "cell_type": "code",
   "execution_count": null,
   "metadata": {},
   "outputs": [],
   "source": [
    "Plot.from_dict(table) # plotly graph"
   ]
  },
  {
   "cell_type": "markdown",
   "metadata": {},
   "source": [
    "## query by materials identifiers"
   ]
  },
  {
   "cell_type": "code",
   "execution_count": null,
   "metadata": {
    "scrolled": true
   },
   "outputs": [],
   "source": [
    "identifiers = ['mp-2715', 'mp-988', 'mp-9899']\n",
    "contributions = client.contributions.get_entries(\n",
    "    identifier__in=identifiers,\n",
    "    _fields=['identifier', 'data.formula', 'data.<S>']\n",
    ").result()['data']\n",
    "for contrib in contributions:\n",
    "    print(contrib['identifier'])\n",
    "    HierarchicalData(contrib['data'])._ipython_display_()"
   ]
  },
  {
   "cell_type": "markdown",
   "metadata": {},
   "source": [
    "## query by values"
   ]
  },
  {
   "cell_type": "code",
   "execution_count": null,
   "metadata": {},
   "outputs": [],
   "source": [
    "# see https://portal.mpcontribs.org/<project> and\n",
    "# https://api.mpcontribs.org/#/contributions/get_entries\n",
    "\n",
    "per_page = 20 # 200 is max retrievable contributions per page\n",
    "fields = ['<S>', '<σ>', '<S²σ>'] # which data fields to retrieve\n",
    "mask = [f'data.{field}' for field in fields]\n",
    "mask += ['data.formula', 'identifier']\n",
    "filters = {\n",
    "    'data__formula__contains': 'Li3',\n",
    "#     'data__<σ>__p__lt': 2e15,\n",
    "#     'data__<σ>__n__lt': 2e15\n",
    "}\n",
    "\n",
    "contribs = client.contributions.get_entries(\n",
    "    project=project, _fields=mask, _limit=per_page, **filters\n",
    ").result()['data'] # -> see pagination\n",
    "\n",
    "print('found', len(contribs), 'materials')\n",
    "contribs[0]"
   ]
  },
  {
   "cell_type": "markdown",
   "metadata": {},
   "source": [
    "## pagination"
   ]
  },
  {
   "cell_type": "code",
   "execution_count": null,
   "metadata": {},
   "outputs": [],
   "source": [
    "# TODO outdated\n",
    "# only run this once you've optimized masks and filters to what you actually need (see above)\n",
    "all_contribs = []\n",
    "while 1:\n",
    "    page = int(len(all_contribs) / per_page) + 1\n",
    "    contribs = client.contributions.get_entries(\n",
    "        projects=[project], filters=filters, mask=mask, per_page=per_page, page=page\n",
    "    ).result()\n",
    "    all_contribs.extend(contribs)\n",
    "    if not contribs or len(contribs) < per_page:\n",
    "        break\n",
    "\n",
    "print('found', len(all_contribs), 'materials')\n",
    "all_contribs[-1]"
   ]
  },
  {
   "cell_type": "markdown",
   "metadata": {},
   "source": [
    "## save data for download\n",
    "Save this notebook after modifying and executing its code. Then click on the Jupyter logo at the top to get back to the file browser and select files for download. Note that Binder sessions are [ephemeral](https://mybinder.readthedocs.io/en/latest/faq.html#how-long-will-my-binder-session-last), so make sure to download this notebook (and your data) before closing the session."
   ]
  },
  {
   "cell_type": "code",
   "execution_count": null,
   "metadata": {},
   "outputs": [],
   "source": [
    "import json\n",
    "with open('my_data.json', 'w') as f:\n",
    "    json.dump(all_contribs, f)"
   ]
  }
 ],
 "metadata": {
  "kernelspec": {
   "display_name": "Python 3",
   "language": "python",
   "name": "python3"
  },
  "language_info": {
   "codemirror_mode": {
    "name": "ipython",
    "version": 3
   },
   "file_extension": ".py",
   "mimetype": "text/x-python",
   "name": "python",
   "nbconvert_exporter": "python",
   "pygments_lexer": "ipython3",
   "version": "3.7.3"
  }
 },
 "nbformat": 4,
 "nbformat_minor": 2
}
