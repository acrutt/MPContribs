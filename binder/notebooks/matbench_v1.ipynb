{
 "cells": [
  {
   "cell_type": "code",
   "execution_count": null,
   "metadata": {},
   "outputs": [],
   "source": [
    "import json\n",
    "from pandas import DataFrame\n",
    "from pymatgen import MPRester, Structure\n",
    "from mpcontribs.client import load_client"
   ]
  },
  {
   "cell_type": "code",
   "execution_count": null,
   "metadata": {},
   "outputs": [],
   "source": [
    "with open('/Users/patrick/Downloads/log_kvrh', 'r') as f:\n",
    "    data = json.load(f)\n",
    "df = DataFrame(data['data'], columns=data['columns'])"
   ]
  },
  {
   "cell_type": "code",
   "execution_count": null,
   "metadata": {},
   "outputs": [],
   "source": [
    "project = 'matbench_v1'\n",
    "client = load_client('your-api-key-here')\n",
    "mpr = MPRester()"
   ]
  },
  {
   "cell_type": "code",
   "execution_count": null,
   "metadata": {},
   "outputs": [],
   "source": [
    "client.projects.get_entry(pk=project).result()"
   ]
  },
  {
   "cell_type": "code",
   "execution_count": null,
   "metadata": {},
   "outputs": [],
   "source": [
    "for idx, (s, kvrh) in enumerate(zip(df['structure'], df['log10(K_VRH)'])):\n",
    "    structure = Structure.from_dict(s)\n",
    "    identifier = mpr.find_structure(structure)[0]\n",
    "    contrib = {'project': project, 'identifier': identifier, 'data': {'K|VRH': kvrh}}\n",
    "    cid = client.contributions.create_entry(contribution=contrib).result()['id']\n",
    "    sdct = dict(contribution=cid, name=structure.formula.replace(' ', ''))\n",
    "    sdct.update(structure.as_dict())\n",
    "    try:\n",
    "        sid = client.structures.create_entry(structure=sdct).result()['id']\n",
    "    except Exception as ex:\n",
    "        print(ex)\n",
    "        print(sdct)\n",
    "        client.contributions.delete_entry(pk=cid).result()\n",
    "        break\n",
    "    print(idx, cid)\n",
    "    if idx > 15:\n",
    "        break"
   ]
  },
  {
   "cell_type": "code",
   "execution_count": null,
   "metadata": {},
   "outputs": [],
   "source": [
    "contribs = client.contributions.get_entries(project=project, _fields=['id'], _limit=100).result()"
   ]
  },
  {
   "cell_type": "code",
   "execution_count": null,
   "metadata": {},
   "outputs": [],
   "source": [
    "for idx, contrib in enumerate(contribs['data']):\n",
    "    client.contributions.delete_entry(pk=contrib['id']).result()\n",
    "    print(idx)"
   ]
  }
 ],
 "metadata": {
  "kernelspec": {
   "display_name": "Python 3",
   "language": "python",
   "name": "python3"
  },
  "language_info": {
   "codemirror_mode": {
    "name": "ipython",
    "version": 3
   },
   "file_extension": ".py",
   "mimetype": "text/x-python",
   "name": "python",
   "nbconvert_exporter": "python",
   "pygments_lexer": "ipython3",
   "version": "3.8.1"
  }
 },
 "nbformat": 4,
 "nbformat_minor": 4
}
