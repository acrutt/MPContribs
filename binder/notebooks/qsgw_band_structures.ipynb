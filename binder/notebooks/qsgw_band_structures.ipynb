{
 "cells": [
  {
   "cell_type": "code",
   "execution_count": null,
   "metadata": {},
   "outputs": [],
   "source": [
    "from mpcontribs.client import load_client\n",
    "client = load_client('your-api-key-here')"
   ]
  },
  {
   "cell_type": "markdown",
   "metadata": {},
   "source": [
    "Define project information and create project:"
   ]
  },
  {
   "cell_type": "code",
   "execution_count": null,
   "metadata": {},
   "outputs": [],
   "source": [
    "info = {\n",
    "    'project': 'qsgw_band_structures',  # primary key\n",
    "    'owner': 'walter.lambrecht@case.edu',\n",
    "    'title': 'QSGW Band Structure',\n",
    "    'long_title': 'QSGW Sand Structures for Nitrides',\n",
    "    'authors': 'W.R.L. Lambrecht, S. Lyu, A.P. Jaroenjittichai',\n",
    "    'description': '''\n",
    "    Band structure calculations were performed with the QSGW (quasiparticle\n",
    "    self-consistent GW) approach [Codes, PRB, PRL]. The band structures use\n",
    "    the 0.8Σ approximation, meaning 0.8 of the self-energy is included [PRM].\n",
    "    For effective mass tensors and full band structure, see [DMREF]. In the\n",
    "    Pna2_1 structure the valence band maximum (VBM) is split into 3 levels \n",
    "    with a₁, b₁ and b₂ symmetry as described in\n",
    "    <a href=\"https://doi.org/10.1103/PhysRevB.84.165204\">PRB84 165205</a>.\n",
    "    In some cases (ZnSiN2) a 4th level with symmetry a₂ falls between these.\n",
    "    ''',\n",
    "    'urls': {\n",
    "       'DMREF': 'https://sites.google.com/a/case.edu/dmref/',\n",
    "       'CODE': 'https://www.questaal.org/',\n",
    "       'PRB': 'https://doi.org/10.1103/PhysRevB.76.165106',\n",
    "       'PRL': 'https://doi.org/10.1103/PhysRevLett.96.226402',\n",
    "       'PRM': 'https://doi.org/10.1103/PhysRevMaterials.2.013807'\n",
    "    }\n",
    "}\n",
    "# only execute once and wait for approval (or already entered in online form)\n",
    "# client.projects.create_entry(project=info).result()"
   ]
  },
  {
   "cell_type": "markdown",
   "metadata": {},
   "source": [
    "Get and update project information (if needed):"
   ]
  },
  {
   "cell_type": "code",
   "execution_count": null,
   "metadata": {},
   "outputs": [],
   "source": [
    "client.projects.get_entry(pk=info['project']).result()"
   ]
  },
  {
   "cell_type": "code",
   "execution_count": null,
   "metadata": {},
   "outputs": [],
   "source": [
    "# client.projects.update_entry(\n",
    "#     pk=info['project'], project={'description': info['description']}\n",
    "# ).result()"
   ]
  },
  {
   "cell_type": "markdown",
   "metadata": {},
   "source": [
    "Create and work with contributions:"
   ]
  },
  {
   "cell_type": "code",
   "execution_count": null,
   "metadata": {},
   "outputs": [],
   "source": [
    "contributions = [\n",
    "    {\n",
    "        'project': info['project'],\n",
    "        'identifier': 'mp-1020712', # ZnSiN2\n",
    "        'data': {\n",
    "            'reference': 'https://doi.org/10.1103/PhysRevB.84.165204',\n",
    "            'ΔE|Γ': {\n",
    "                'indirect': '5.70 eV',\n",
    "                'direct': '5.92 eV'\n",
    "            },\n",
    "            'VBM|Γ': {\n",
    "                'b₁': '0',\n",
    "                'a₂': '-20 meV',\n",
    "                'b₂': '-40 meV',\n",
    "                'a₁': '-180 meV'\n",
    "            }\n",
    "        }\n",
    "    }, {\n",
    "        'project': info['project'],\n",
    "        'identifier': 'mp-2979', # ZnGeN2\n",
    "        'data': {\n",
    "            'reference': 'https://doi.org/10.1103/PhysRevB.84.165204',\n",
    "            'ΔE|Γ': {'direct': '3.60 eV'},\n",
    "            'VBM|Γ': {\n",
    "                'b₁': '0',\n",
    "                'b₂': '-28 meV',\n",
    "                'a₁': '-129 meV'\n",
    "            }\n",
    "        }\n",
    "    }, {\n",
    "        'project': info['project'],\n",
    "        'identifier': 'mp-1029469', # ZnSnN2\n",
    "        'data': {\n",
    "            'reference': 'https://doi.org/10.1103/PhysRevB.91.205207',\n",
    "            'ΔE|Γ': {'direct': '1.82 eV'},\n",
    "            'VBM|Γ': {\n",
    "                'b₁': '0',\n",
    "                'b₂': '-188 meV',\n",
    "                'a₁': '-176 meV'\n",
    "            }\n",
    "        }\n",
    "    }, {\n",
    "        'project': info['project'],\n",
    "        'identifier': 'mp-3677', # MgSiN2\n",
    "        'data': {\n",
    "            'reference': 'https://doi.org/10.1103/PhysRevB.94.125201',\n",
    "            'ΔE|Γ': {\n",
    "                'indirect': '6.08 eV',\n",
    "                'direct': '6.53 eV',\n",
    "                'direct|3x4x4': '6.30 eV'\n",
    "            }\n",
    "        }\n",
    "    }, {\n",
    "        'project': info['project'],\n",
    "        'identifier': 'mp-7798', # MgGeN2\n",
    "        'data': {\n",
    "            'reference': 'https://doi.org/10.1016/j.ssc.2019.113664',\n",
    "            'ΔE|Γ': {'direct': '4.11 eV'},\n",
    "            'VBM|Γ': {\n",
    "                'b₁': '0',\n",
    "                'b₂': '-82 meV',\n",
    "                'a₁': '-238 meV'\n",
    "            }\n",
    "        }\n",
    "    }, {\n",
    "        'project': info['project'],\n",
    "        'identifier': 'mp-1029791', # MgSnN2\n",
    "        'data': {\n",
    "            'reference': 'https://doi.org/10.1016/j.ssc.2019.113664',\n",
    "            'ΔE|Γ': {'direct': '2.28 eV'},\n",
    "            'VBM|Γ': {\n",
    "                'b₁': '0',\n",
    "                'b₂': '-116 meV',\n",
    "                'a₁': '-144 meV'\n",
    "            }\n",
    "        }\n",
    "    }\n",
    "]"
   ]
  },
  {
   "cell_type": "code",
   "execution_count": null,
   "metadata": {},
   "outputs": [],
   "source": [
    "for contrib in contributions:\n",
    "    print(client.contributions.create_entry(contribution=contrib).result())"
   ]
  },
  {
   "cell_type": "code",
   "execution_count": null,
   "metadata": {},
   "outputs": [],
   "source": [
    "contribs = client.contributions.get_entries(\n",
    "    project=info['project']\n",
    ").result()['data']\n",
    "len(contribs)"
   ]
  },
  {
   "cell_type": "code",
   "execution_count": null,
   "metadata": {},
   "outputs": [],
   "source": [
    "client.contributions.get_entries(identifier='mp-2979').result()"
   ]
  },
  {
   "cell_type": "markdown",
   "metadata": {},
   "source": [
    "Delete contributions or make all public:"
   ]
  },
  {
   "cell_type": "code",
   "execution_count": null,
   "metadata": {},
   "outputs": [],
   "source": [
    "for contrib in contribs:\n",
    "    client.contributions.delete_entry(pk=contrib['id']).result()"
   ]
  },
  {
   "cell_type": "code",
   "execution_count": null,
   "metadata": {},
   "outputs": [],
   "source": [
    "client.contributions.update_entries(\n",
    "    project=info['project'], contributions={'is_public': True}\n",
    ").result()"
   ]
  },
  {
   "cell_type": "markdown",
   "metadata": {},
   "source": [
    "**IGNORE** Administrative stuff:"
   ]
  },
  {
   "cell_type": "code",
   "execution_count": null,
   "metadata": {},
   "outputs": [],
   "source": [
    "project = 'redox_thermo_csp' # TODO also adjust landingpage app\n",
    "client.projects.get_entry(pk=project, _fields=['columns']).result()"
   ]
  },
  {
   "cell_type": "code",
   "execution_count": null,
   "metadata": {},
   "outputs": [],
   "source": [
    "has_more, page, per_page = True, 1, 99\n",
    "while has_more:\n",
    "    contributions = client.contributions.get_entries(\n",
    "        project=project, per_page=per_page, page=page, formula='TODO'\n",
    "    ).result()\n",
    "    cids = [c['id'] for c in contributions['data']]\n",
    "    if not cids:\n",
    "        break\n",
    "    updated = client.contributions.update_entries(\n",
    "        id__in=cids, contributions={\n",
    "            'formula': 'TODO', 'data': {'formula': None}\n",
    "        }\n",
    "    ).result()\n",
    "    has_more = contributions['has_more']\n",
    "    print(page, contributions['total_count'], updated['count'], has_more)\n",
    "    page += 1"
   ]
  }
 ],
 "metadata": {
  "kernelspec": {
   "display_name": "Python 3",
   "language": "python",
   "name": "python3"
  },
  "language_info": {
   "codemirror_mode": {
    "name": "ipython",
    "version": 3
   },
   "file_extension": ".py",
   "mimetype": "text/x-python",
   "name": "python",
   "nbconvert_exporter": "python",
   "pygments_lexer": "ipython3",
   "version": "3.7.3"
  }
 },
 "nbformat": 4,
 "nbformat_minor": 2
}
