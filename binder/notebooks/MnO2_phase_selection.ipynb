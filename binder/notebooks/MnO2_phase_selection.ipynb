{
 "cells": [
  {
   "cell_type": "code",
   "execution_count": null,
   "metadata": {},
   "outputs": [],
   "source": [
    "import json, os\n",
    "from mpcontribs.client import load_client\n",
    "from pymatgen import Composition, Structure, MPRester"
   ]
  },
  {
   "cell_type": "code",
   "execution_count": null,
   "metadata": {},
   "outputs": [],
   "source": [
    "project = 'MnO2_phase_selection'\n",
    "client = load_client('your-api-key-here')\n",
    "mpr = MPRester()"
   ]
  },
  {
   "cell_type": "markdown",
   "metadata": {},
   "source": [
    "Retrieve and update project info"
   ]
  },
  {
   "cell_type": "code",
   "execution_count": null,
   "metadata": {},
   "outputs": [],
   "source": [
    "client.projects.get_entry(pk=project, _fields=['_all']).result()"
   ]
  },
  {
   "cell_type": "code",
   "execution_count": null,
   "metadata": {},
   "outputs": [],
   "source": [
    "phase_names = {\n",
    "    'beta': 'Pyrolusite',\n",
    "    'gamma': 'Intergrowth',\n",
    "    'ramsdellite': 'Ramsdellite',\n",
    "    'alpha': 'Hollandite',\n",
    "    'lambda': 'Spinel',\n",
    "    'delta': 'Layered',\n",
    "    'other': 'Other',\n",
    "}\n",
    "client.projects.update_entry(pk=project, project={'other': {'phase−names': phase_names}}).result()"
   ]
  },
  {
   "cell_type": "markdown",
   "metadata": {},
   "source": [
    "Create contributions"
   ]
  },
  {
   "cell_type": "code",
   "execution_count": null,
   "metadata": {},
   "outputs": [],
   "source": [
    "# mp_contrib_phases: data/MPContrib_formatted_entries.json\n",
    "# hull_states: data/MPContrib_hull_entries.json\n",
    "# mp_dup: data/MPExisting_MnO2_ids.json\n",
    "# mp_cmp: data/MPComplete_MnO2_ids.json\n",
    "data = {}\n",
    "for fn in os.scandir('data'):\n",
    "    with open(fn, 'r') as f:\n",
    "        data[fn.name] = json.load(f)"
   ]
  },
  {
   "cell_type": "code",
   "execution_count": null,
   "metadata": {},
   "outputs": [],
   "source": [
    "other = [\n",
    "    ['LiMnO2', -3.064, 'Y', '--'], ['KMnO2', -2.222, 'Y', '--'],\n",
    "    ['Ca0.5MnO2', -2.941, 'Y', '--'], ['Na0.5MnO2', -1.415, 'Y', '--']\n",
    "]"
   ]
  },
  {
   "cell_type": "code",
   "execution_count": null,
   "metadata": {
    "scrolled": false
   },
   "outputs": [],
   "source": [
    "# clear everything out first\n",
    "has_more = True\n",
    "while has_more:\n",
    "    contribs = client.contributions.get_entries(\n",
    "        project=project, _fields=['id'], _limit=200\n",
    "    ).result()\n",
    "    print(contribs['total_count'])\n",
    "    has_more = contribs['has_more']\n",
    "    for idx, d in enumerate(contribs['data']):\n",
    "        client.contributions.delete_entry(pk=d['id']).result()\n",
    "        print(idx, d['id'], 'deleted')\n",
    "\n",
    "is_public = True\n",
    "for idx, hstate in enumerate(data['MPContrib_hull_entries.json']):\n",
    "    contrib = {'project': project, 'is_public': is_public}\n",
    "    phase = hstate['phase']\n",
    "    composition = Composition.from_dict(hstate['c'])\n",
    "    structure = Structure.from_dict(hstate['s'])\n",
    "    mpids = mpr.find_structure(structure)\n",
    "    comp = composition.get_integer_formula_and_factor()[0]\n",
    "    contrib['identifier'] = mpids[0] if mpids else comp\n",
    "\n",
    "    phase_name = phase_names[phase]\n",
    "    phase_data = data['MPContrib_formatted_entries.json'].get(phase_name, other)\n",
    "    if not phase_data:\n",
    "        print('no data found for', composition, phase_name)\n",
    "        continue\n",
    "\n",
    "    for iv, values in enumerate(phase_data):\n",
    "        if Composition(values[0]) == composition:\n",
    "            contrib['data'] = {'GS': values[2], 'ΔH': f'{values[1]} eV/mol'}\n",
    "            if not isinstance(values[3], str):\n",
    "                contrib['data']['ΔH|hyd'] = f'{values[3]} eV/mol'\n",
    "            break\n",
    "    else:\n",
    "        print('no data found for', composition, phase)\n",
    "        continue\n",
    "        \n",
    "    label = '2018/02/16'\n",
    "    contribs = client.contributions.get_entries(\n",
    "        identifier=contrib['identifier'], _fields=['id', 'structures']\n",
    "    ).result()\n",
    "    if contribs['total_count'] > 0:\n",
    "        cid = contribs['data'][0]['id']\n",
    "        print(idx, contrib['identifier'], 'duplicate of', cid)\n",
    "        sid = contribs['data'][0]['structures'].get(label)\n",
    "        if sid:\n",
    "            s = Structure.from_dict(client.structures.get_entry(pk=sid, _fields=['_all']).result())\n",
    "            if s == structure:\n",
    "                print(idx, contrib['identifier'], 'identical structures -> skip')\n",
    "                continue\n",
    "            else:\n",
    "                print(idx, contrib['identifier'], 'matching but different structures -> TODO')\n",
    "                break\n",
    "        else:\n",
    "            print(idx, contrib['identifier'], 'duplicate but structure missing -> add')\n",
    "    else:\n",
    "        cid = client.contributions.create_entry(contribution=contrib).result()['id']\n",
    "        print(idx, contrib['identifier'], cid, 'created')\n",
    "\n",
    "    sdct = {'contribution': cid, 'label': label, 'name': comp, 'is_public': is_public}\n",
    "    sdct.update(structure.as_dict())\n",
    "    sid = client.structures.create_entry(structure=sdct).result()['id']\n",
    "    print(idx, 'structure', sid, 'created')"
   ]
  }
 ],
 "metadata": {
  "kernelspec": {
   "display_name": "Python 3",
   "language": "python",
   "name": "python3"
  },
  "language_info": {
   "codemirror_mode": {
    "name": "ipython",
    "version": 3
   },
   "file_extension": ".py",
   "mimetype": "text/x-python",
   "name": "python",
   "nbconvert_exporter": "python",
   "pygments_lexer": "ipython3",
   "version": "3.8.1"
  }
 },
 "nbformat": 4,
 "nbformat_minor": 4
}
