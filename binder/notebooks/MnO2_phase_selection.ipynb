{
 "cells": [
  {
   "cell_type": "code",
   "execution_count": null,
   "metadata": {},
   "outputs": [],
   "source": [
    "import json, os\n",
    "from mpcontribs.client import load_client\n",
    "from pymatgen import Composition, Structure, MPRester"
   ]
  },
  {
   "cell_type": "code",
   "execution_count": null,
   "metadata": {},
   "outputs": [],
   "source": [
    "project = 'MnO2_phase_selection'\n",
    "client = load_client('your-api-key-here')\n",
    "mpr = MPRester()"
   ]
  },
  {
   "cell_type": "markdown",
   "metadata": {},
   "source": [
    "Retrieve and update project info"
   ]
  },
  {
   "cell_type": "code",
   "execution_count": null,
   "metadata": {},
   "outputs": [],
   "source": [
    "client.projects.get_entry(pk=project, _fields=['_all']).result()"
   ]
  },
  {
   "cell_type": "code",
   "execution_count": null,
   "metadata": {},
   "outputs": [],
   "source": [
    "phase_names = {\n",
    "    'beta': 'Pyrolusite',\n",
    "    'gamma': 'Intergrowth',\n",
    "    'ramsdellite': 'Ramsdellite',\n",
    "    'alpha': 'Hollandite',\n",
    "    'lambda': 'Spinel',\n",
    "    'delta': 'Layered',\n",
    "    'other': 'Other',\n",
    "}\n",
    "# client.projects.update_entry(pk=project, project={'other': {'phase−names': phase_names}}).result()"
   ]
  },
  {
   "cell_type": "markdown",
   "metadata": {},
   "source": [
    "Create contributions"
   ]
  },
  {
   "cell_type": "code",
   "execution_count": null,
   "metadata": {},
   "outputs": [],
   "source": [
    "# mp_contrib_phases: data/MPContrib_formatted_entries.json\n",
    "# hull_states: data/MPContrib_hull_entries.json\n",
    "data = {}\n",
    "for fn in os.scandir('data'):\n",
    "    with open(fn, 'r') as f:\n",
    "        data[fn.name] = json.load(f)"
   ]
  },
  {
   "cell_type": "code",
   "execution_count": null,
   "metadata": {},
   "outputs": [],
   "source": [
    "other = [\n",
    "    ['LiMnO2', -3.064, 'Y', '--'], ['KMnO2', -2.222, 'Y', '--'],\n",
    "    ['Ca0.5MnO2', -2.941, 'Y', '--'], ['Na0.5MnO2', -1.415, 'Y', '--']\n",
    "]"
   ]
  },
  {
   "cell_type": "code",
   "execution_count": null,
   "metadata": {},
   "outputs": [],
   "source": [
    "from itertools import islice\n",
    "\n",
    "def chunks(data, SIZE=500):\n",
    "    it = iter(data)\n",
    "    for i in range(0, len(data), SIZE):\n",
    "        if isinstance(data, dict):\n",
    "            yield {k: data[k] for k in islice(it, SIZE)}\n",
    "        else:\n",
    "            yield data[i:i+SIZE]"
   ]
  },
  {
   "cell_type": "code",
   "execution_count": null,
   "metadata": {},
   "outputs": [],
   "source": [
    "contributions = {}\n",
    "is_public = True\n",
    "for idx, hstate in enumerate(data['MPContrib_hull_entries.json']):\n",
    "    contrib = {'project': project, 'is_public': is_public}\n",
    "    phase = hstate['phase']\n",
    "    composition = Composition.from_dict(hstate['c'])\n",
    "    structure = Structure.from_dict(hstate['s'])\n",
    "    mpids = mpr.find_structure(structure)\n",
    "    comp = composition.get_integer_formula_and_factor()[0]\n",
    "    identifier = mpids[0] if mpids else comp\n",
    "    contrib['identifier'] = identifier\n",
    "\n",
    "    phase_name = phase_names[phase]\n",
    "    phase_data = data['MPContrib_formatted_entries.json'].get(phase_name, other)\n",
    "    if not phase_data:\n",
    "        print('no data found for', composition, phase_name)\n",
    "        continue\n",
    "\n",
    "    for iv, values in enumerate(phase_data):\n",
    "        if Composition(values[0]) == composition:\n",
    "            contrib['data'] = {'GS': values[2], 'ΔH': f'{values[1]} eV/mol'}\n",
    "            if not isinstance(values[3], str):\n",
    "                contrib['data']['ΔH|hyd'] = f'{values[3]} eV/mol'\n",
    "            break\n",
    "    else:\n",
    "        print('no data found for', composition, phase)\n",
    "        continue\n",
    "\n",
    "    sdct = {'label': '2018/02/16', 'is_public': is_public}\n",
    "    sdct.update(structure.as_dict())\n",
    "    \n",
    "    if identifier in contributions:\n",
    "        nstruc = len(contributions[identifier]['structures'])\n",
    "        sdct['name'] = f'{comp}-{nstruc}'\n",
    "        contributions[identifier]['structures'].append(sdct)\n",
    "        # TODO add contrib hdata?\n",
    "    else:\n",
    "        sdct['name'] = f'{comp}-0'\n",
    "        contributions[identifier] = {'contrib': contrib, 'structures': [sdct]}\n",
    "        \n",
    "len(contributions)"
   ]
  },
  {
   "cell_type": "code",
   "execution_count": null,
   "metadata": {},
   "outputs": [],
   "source": [
    "# clean up\n",
    "has_more = True\n",
    "while has_more:\n",
    "    resp = client.contributions.delete_entries(project=project, _limit=250).result()    \n",
    "    print(resp['count'], 'contributions deleted')\n",
    "    has_more = resp['has_more']\n",
    "\n",
    "# submit\n",
    "for i, chunk in enumerate(chunks(contributions, SIZE=250)):\n",
    "    contribs = [c['contrib'] for c in chunk.values()]\n",
    "    created = client.contributions.create_entries(contributions=contribs).result()\n",
    "    print(i, created['count'], 'contributions created')    \n",
    "\n",
    "    create_structures = []\n",
    "    for contrib in created['data']:\n",
    "        identifier = contrib['identifier']\n",
    "        for s in chunk[identifier]['structures']:\n",
    "            s['contribution'] = contrib['id']\n",
    "            create_structures.append(s)\n",
    "\n",
    "    print('submit', len(create_structures), 'structures ...')\n",
    "    for j, subchunk in enumerate(chunks(create_structures, SIZE=100)):\n",
    "        created = client.structures.create_entries(structures=subchunk).result()\n",
    "        print(j, created['count'], 'structures created')"
   ]
  }
 ],
 "metadata": {
  "kernelspec": {
   "display_name": "Python 3",
   "language": "python",
   "name": "python3"
  },
  "language_info": {
   "codemirror_mode": {
    "name": "ipython",
    "version": 3
   },
   "file_extension": ".py",
   "mimetype": "text/x-python",
   "name": "python",
   "nbconvert_exporter": "python",
   "pygments_lexer": "ipython3",
   "version": "3.8.1"
  }
 },
 "nbformat": 4,
 "nbformat_minor": 4
}
