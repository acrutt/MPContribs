{
 "cells": [
  {
   "cell_type": "code",
   "execution_count": null,
   "metadata": {},
   "outputs": [],
   "source": [
    "from mpcontribs.client import load_client"
   ]
  },
  {
   "cell_type": "code",
   "execution_count": null,
   "metadata": {},
   "outputs": [],
   "source": [
    "client = load_client('your-api-key-here')"
   ]
  },
  {
   "cell_type": "markdown",
   "metadata": {},
   "source": [
    "Get and update project info (see https://portal.mpcontribs.org/carrier_transport)"
   ]
  },
  {
   "cell_type": "code",
   "execution_count": null,
   "metadata": {},
   "outputs": [],
   "source": [
    "project = 'carrier_transport'\n",
    "client.projects.get_entry(pk=project, _fields=['_all']).result()"
   ]
  },
  {
   "cell_type": "markdown",
   "metadata": {},
   "source": [
    "## specific contribution"
   ]
  },
  {
   "cell_type": "code",
   "execution_count": null,
   "metadata": {},
   "outputs": [],
   "source": [
    "contrib = client.contributions.get_entry(pk='5ac0a333d4f1443de26744ab', _fields=['_all']).result()"
   ]
  },
  {
   "cell_type": "markdown",
   "metadata": {},
   "source": [
    "### hierarchical data"
   ]
  },
  {
   "cell_type": "code",
   "execution_count": null,
   "metadata": {},
   "outputs": [],
   "source": [
    "contrib['data']"
   ]
  },
  {
   "cell_type": "markdown",
   "metadata": {},
   "source": [
    "### tabular data"
   ]
  },
  {
   "cell_type": "code",
   "execution_count": null,
   "metadata": {},
   "outputs": [],
   "source": [
    "tid = contrib['tables'][0]['id']\n",
    "client.tables.get_entry(pk=tid, _fields=['_all']).result()"
   ]
  },
  {
   "cell_type": "markdown",
   "metadata": {},
   "source": [
    "## query by materials identifiers"
   ]
  },
  {
   "cell_type": "code",
   "execution_count": null,
   "metadata": {
    "scrolled": true
   },
   "outputs": [],
   "source": [
    "identifiers = ['mp-2715', 'mp-988', 'mp-9899']\n",
    "client.contributions.get_entries(\n",
    "    identifier__in=identifiers,\n",
    "    _fields=['identifier', 'data.formula', 'data.<S>']\n",
    ").result()['data']"
   ]
  },
  {
   "cell_type": "markdown",
   "metadata": {},
   "source": [
    "## query by values"
   ]
  },
  {
   "cell_type": "code",
   "execution_count": null,
   "metadata": {},
   "outputs": [],
   "source": [
    "# see https://portal.mpcontribs.org/<project> and\n",
    "# https://api.mpcontribs.org/#/contributions/get_entries\n",
    "\n",
    "limit = 20 # 200 is the limit of retrievable #contributions per page\n",
    "fields = ['<S>', '<σ>', '<S²σ>'] # which data fields to retrieve\n",
    "mask = [f'data.{field}' for field in fields]\n",
    "mask += ['formula', 'identifier']\n",
    "filters = {\n",
    "    'formula__contains': 'Li3',\n",
    "#     'data__<σ>__p__lt': 2e15,\n",
    "#     'data__<σ>__n__lt': 2e15\n",
    "}\n",
    "\n",
    "contribs = client.contributions.get_entries(\n",
    "    project=project, _fields=mask, _limit=limit, **filters\n",
    ").result() # -> see pagination\n",
    "\n",
    "print('found', contribs['total_count'], 'materials')\n",
    "contribs['data'][0]"
   ]
  },
  {
   "cell_type": "markdown",
   "metadata": {},
   "source": [
    "## pagination"
   ]
  },
  {
   "cell_type": "code",
   "execution_count": null,
   "metadata": {},
   "outputs": [],
   "source": [
    "# TODO outdated\n",
    "# only run this once you've optimized masks and filters to what you actually need (see above)\n",
    "all_contribs = []\n",
    "while 1:\n",
    "    page = int(len(all_contribs) / per_page) + 1\n",
    "    contribs = client.contributions.get_entries(\n",
    "        projects=[project], filters=filters, mask=mask, per_page=per_page, page=page\n",
    "    ).result()\n",
    "    all_contribs.extend(contribs)\n",
    "    if not contribs or len(contribs) < per_page:\n",
    "        break\n",
    "\n",
    "print('found', len(all_contribs), 'materials')\n",
    "all_contribs[-1]"
   ]
  }
 ],
 "metadata": {
  "kernelspec": {
   "display_name": "Python 3",
   "language": "python",
   "name": "python3"
  },
  "language_info": {
   "codemirror_mode": {
    "name": "ipython",
    "version": 3
   },
   "file_extension": ".py",
   "mimetype": "text/x-python",
   "name": "python",
   "nbconvert_exporter": "python",
   "pygments_lexer": "ipython3",
   "version": "3.8.1"
  }
 },
 "nbformat": 4,
 "nbformat_minor": 2
}
