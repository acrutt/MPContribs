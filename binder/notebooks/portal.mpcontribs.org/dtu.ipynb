{
 "cells": [
  {
   "cell_type": "code",
   "execution_count": null,
   "metadata": {},
   "outputs": [],
   "source": [
    "import os\n",
    "from time import sleep\n",
    "from ase.db import connect\n",
    "from urllib.request import urlretrieve\n",
    "from mpcontribs.client import load_client"
   ]
  },
  {
   "cell_type": "code",
   "execution_count": null,
   "metadata": {},
   "outputs": [],
   "source": [
    "project = 'dtu'\n",
    "db = 'https://cmr.fysik.dtu.dk/_downloads/mp_gllbsc.db'\n",
    "client = load_client('your-api-key-here')"
   ]
  },
  {
   "cell_type": "markdown",
   "metadata": {},
   "source": [
    "Retrieve and update project info"
   ]
  },
  {
   "cell_type": "code",
   "execution_count": null,
   "metadata": {},
   "outputs": [],
   "source": [
    "# client.projects.get_entry(pk=project, _fields=['_all']).result()\n",
    "# client.projects.update_entry(pk=project, project={'urls': {'DTU|DB': db}}).result()"
   ]
  },
  {
   "cell_type": "markdown",
   "metadata": {},
   "source": [
    "Create contributions"
   ]
  },
  {
   "cell_type": "code",
   "execution_count": null,
   "metadata": {},
   "outputs": [],
   "source": [
    "dbfile = db.rsplit('/', 1)[-1]\n",
    "if not os.path.exists(dbfile):\n",
    "    urlretrieve(db, dbfile) \n",
    "\n",
    "con = connect(dbfile)\n",
    "nr_mpids = con.count(selection='mpid')\n",
    "print(nr_mpids)"
   ]
  },
  {
   "cell_type": "code",
   "execution_count": null,
   "metadata": {},
   "outputs": [],
   "source": [
    "from itertools import islice\n",
    "\n",
    "def chunks(data, SIZE=500):\n",
    "    it = iter(data)\n",
    "    for i in range(0, len(data), SIZE):\n",
    "        if isinstance(data, dict):\n",
    "            yield {k: data[k] for k in islice(it, SIZE)}\n",
    "        else:\n",
    "            yield data[i:i+SIZE]"
   ]
  },
  {
   "cell_type": "code",
   "execution_count": null,
   "metadata": {},
   "outputs": [],
   "source": [
    "contributions, existing = {}, []\n",
    "batch_size = 1000\n",
    "\n",
    "for idx, row in enumerate(con.select('mpid')):\n",
    "    if not idx%100:\n",
    "        print(idx, len(contributions))               \n",
    "\n",
    "    if len(contributions) >= batch_size:\n",
    "        for i, chunk in enumerate(chunks(contributions, SIZE=250)):\n",
    "            contribs = [c['contrib'] for c in chunk.values()]\n",
    "            created = client.contributions.create_entries(contributions=contribs).result()\n",
    "            print(i, created['count'], 'contributions created')    \n",
    "\n",
    "        contributions.clear()\n",
    "        existing.clear()\n",
    "    \n",
    "    if not len(contributions) and not len(existing):\n",
    "        has_more = True\n",
    "        while has_more:\n",
    "            skip = len(existing)\n",
    "            contribs = client.contributions.get_entries(\n",
    "                project=project, _skip=skip, _limit=250, _fields=['identifier']\n",
    "            ).result()\n",
    "            existing += [c['identifier'] for c in contribs['data']]\n",
    "            has_more = contribs['has_more']\n",
    "\n",
    "        print(len(existing), 'already uploaded.')\n",
    "\n",
    "\n",
    "    \n",
    "    identifier = f'mp-{row.mpid}'\n",
    "    print(idx, identifier)\n",
    "    contrib = {'project': project, 'identifier': identifier, 'is_public': True, 'data': {\n",
    "        'ΔE|KS': { # kohn-sham band gap\n",
    "            'indirect': f'{row.gllbsc_ind_gap - row.gllbsc_disc} eV',\n",
    "            'direct': f'{row.gllbsc_dir_gap - row.gllbsc_disc} eV'            \n",
    "        },\n",
    "        'ΔE|QP': { # quasi particle band gap\n",
    "            'indirect': f'{row.gllbsc_ind_gap} eV',\n",
    "            'direct': f'{row.gllbsc_dir_gap} eV'           \n",
    "        },\n",
    "        'C': f'{row.gllbsc_disc} eV' # derivative discontinuity\n",
    "    }}\n"
   ]
  }
 ],
 "metadata": {
  "kernelspec": {
   "display_name": "Python 3",
   "language": "python",
   "name": "python3"
  },
  "language_info": {
   "codemirror_mode": {
    "name": "ipython",
    "version": 3
   },
   "file_extension": ".py",
   "mimetype": "text/x-python",
   "name": "python",
   "nbconvert_exporter": "python",
   "pygments_lexer": "ipython3",
   "version": "3.8.1"
  }
 },
 "nbformat": 4,
 "nbformat_minor": 4
}
