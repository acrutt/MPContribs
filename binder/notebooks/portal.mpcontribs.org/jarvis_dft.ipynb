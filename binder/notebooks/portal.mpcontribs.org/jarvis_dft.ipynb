{
 "cells": [
  {
   "cell_type": "code",
   "execution_count": null,
   "metadata": {},
   "outputs": [],
   "source": [
    "import os, json, tarfile, sys\n",
    "from time import sleep, time\n",
    "from mpcontribs.client import load_client\n",
    "from pymatgen import Structure, MPRester\n",
    "from urllib.request import urlretrieve\n",
    "from monty.json import MontyDecoder\n",
    "from itertools import groupby\n",
    "from operator import itemgetter\n",
    "from emmet.vasp.materials import group_structures\n",
    "from collections import defaultdict"
   ]
  },
  {
   "cell_type": "code",
   "execution_count": null,
   "metadata": {},
   "outputs": [],
   "source": [
    "project = 'jarvis_dft'\n",
    "client = load_client('your-api-key-here')\n",
    "mpr = MPRester()"
   ]
  },
  {
   "cell_type": "markdown",
   "metadata": {},
   "source": [
    "Create project (once)"
   ]
  },
  {
   "cell_type": "code",
   "execution_count": null,
   "metadata": {},
   "outputs": [],
   "source": [
    "is_public = True\n",
    "info = {\n",
    "    'project': project,\n",
    "    'is_public': is_public,\n",
    "    'title': 'JARVIS-DFT',\n",
    "    'owner': 'kamal.choudhary@nist.gov',\n",
    "    'authors': 'K. Choudhary, F. Tavazza',\n",
    "    'description': ' '.join('''\n",
    "        The DFT section of JARVIS (JARVIS-DFT) consists of thousands\n",
    "        of VASP based calculations for 3D-bulk, single layer (2D), nanowire (1D) and \n",
    "        molecular (0D) systems. Most of the calculations are carried out with optB88vDW functional.\n",
    "        JARVIS-DFT includes materials data such as: energetics, diffraction pattern, radial distribution\n",
    "        function, band-structure, density of states, carrier effective mass, temperature and carrier\n",
    "        concentration dependent thermoelectric properties, elastic constants and gamma-point phonons.\n",
    "    '''.replace('\\n', '').split()),\n",
    "    'urls': {\n",
    "        'JARVIS': 'http://www.ctcms.nist.gov/~knc6/JVASP.html',\n",
    "        'SciRep': 'https://doi.org/10.1038/s41598-017-05402-0',\n",
    "        'GitHub': 'https://github.com/usnistgov/jarvis'\n",
    "    }\n",
    "}\n",
    "# client.projects.create_entry(project=info).result()"
   ]
  },
  {
   "cell_type": "markdown",
   "metadata": {},
   "source": [
    "Retrieve and update project info"
   ]
  },
  {
   "cell_type": "code",
   "execution_count": null,
   "metadata": {},
   "outputs": [],
   "source": [
    "client.projects.get_entry(pk=project, _fields=['_all']).result()"
   ]
  },
  {
   "cell_type": "code",
   "execution_count": null,
   "metadata": {},
   "outputs": [],
   "source": [
    "client.projects.update_entry(pk=project, project={\n",
    "    'long_title': '2D & 3D DFT Calculations by NIST',\n",
    "    'description': info['description']\n",
    "}).result()"
   ]
  },
  {
   "cell_type": "markdown",
   "metadata": {},
   "source": [
    "Source data"
   ]
  },
  {
   "cell_type": "code",
   "execution_count": null,
   "metadata": {},
   "outputs": [],
   "source": [
    "config = {\n",
    "    \"files\": [\n",
    "        \"https://www.ctcms.nist.gov/~knc6/jdft_{}.json.tgz\".format(t)\n",
    "        for t in ['3d', '2d']\n",
    "    ],\n",
    "    \"details\": \"https://www.ctcms.nist.gov/~knc6/jsmol/{}.html\",\n",
    "    'columns': {  # 'mpid'\n",
    "        'jid': {'name': 'details'},\n",
    "        'exfoliation_en': {'name': 'Eₓ', 'unit': 'eV'},\n",
    "        'form_enp': {'name': 'ΔH', 'unit': 'eV'},\n",
    "        'fin_en': {'name': 'E', 'unit': 'meV'},\n",
    "        'op_gap': {'name': 'ΔE|vdW', 'unit': 'meV'},\n",
    "        'mbj_gap': {'name': 'ΔE|mbj', 'unit': 'meV'},\n",
    "        'kv': {'name': 'Kᵥ', 'unit': 'GPa'},\n",
    "        'gv': {'name': 'Gᵥ', 'unit': 'GPa'},\n",
    "        #'magmom': {'name': 'μ', 'unit': 'μᵇ'}\n",
    "    }\n",
    "}"
   ]
  },
  {
   "cell_type": "code",
   "execution_count": null,
   "metadata": {},
   "outputs": [],
   "source": [
    "raw_data = {}  # as read from raw files\n",
    "for url in config['files']:\n",
    "    dbfile = url.rsplit('/')[-1]\n",
    "    if not os.path.exists(dbfile):\n",
    "        print('downloading', dbfile, '...')\n",
    "        urlretrieve(url, dbfile)\n",
    "\n",
    "    print(dbfile, 'loading ...')\n",
    "    with tarfile.open(dbfile, \"r:gz\") as tar:\n",
    "        member = tar.getmembers()[0]\n",
    "        raw_data[dbfile] = json.load(tar.extractfile(member), cls=MontyDecoder)\n",
    "        \n",
    "    print(dbfile, len(raw_data[dbfile]))"
   ]
  },
  {
   "cell_type": "markdown",
   "metadata": {},
   "source": [
    "Create contributions"
   ]
  },
  {
   "cell_type": "code",
   "execution_count": null,
   "metadata": {},
   "outputs": [],
   "source": [
    "def get_contrib(rd, identifier):\n",
    "    contrib = {'project': project, 'is_public': is_public, 'identifier': identifier, 'data': {}}\n",
    "    for t in rd:\n",
    "        contrib['data'][t] = {}\n",
    "        for k, col in config['columns'].items():\n",
    "            hdr, unit = col['name'], col.get('unit')\n",
    "            if k == 'jid':\n",
    "                contrib['data'][t][hdr] = config[hdr].format(rd[t][k])\n",
    "            elif k in rd[t]:\n",
    "                if unit:\n",
    "                    try:\n",
    "                        float(rd[t][k])\n",
    "                    except ValueError:\n",
    "                        continue\n",
    "                contrib['data'][t][hdr] = f'{rd[t][k]} {unit}' if unit else rd[t][k]\n",
    "    return contrib"
   ]
  },
  {
   "cell_type": "code",
   "execution_count": null,
   "metadata": {},
   "outputs": [],
   "source": [
    "# merge mp-ids from 2d and 3d datasets, prioritize by availability of both\n",
    "raw_data_grouped = defaultdict(dict)\n",
    "for t in ['2d', '3d']:\n",
    "    fn = f'jdft_{t}.json.tgz'\n",
    "    raw_data_sorted = sorted(raw_data[fn], key=itemgetter('mpid'))\n",
    "    for task_id, objects in groupby(raw_data_sorted, key=itemgetter('mpid')):\n",
    "        if task_id.startswith('mp-') or task_id.startswith('mvc-'):\n",
    "            raw_data_grouped[task_id][t] = list(objects)        \n",
    "    print(t, len(raw_data_sorted), len(raw_data_grouped))\n",
    "    \n",
    "task_ids = sorted(raw_data_grouped, key=lambda k: len(raw_data_grouped[k]), reverse=True)"
   ]
  },
  {
   "cell_type": "code",
   "execution_count": null,
   "metadata": {},
   "outputs": [],
   "source": [
    "for idx, task_id in enumerate(task_ids):\n",
    "    if idx >= 500:\n",
    "        break\n",
    "\n",
    "    try:\n",
    "        identifier = mpr.get_materials_id_from_task_id(task_id)\n",
    "    except Exception as ex:\n",
    "        print(idx, task_id, 'invalid')\n",
    "        continue\n",
    "\n",
    "    if not idx%25:\n",
    "        if idx > 0:\n",
    "            stop = time()\n",
    "            duration = stop-start\n",
    "            print(duration)\n",
    "        start = time()\n",
    "        print(idx, task_id, identifier)\n",
    "        \n",
    "    rd, structures = {}, []\n",
    "    for t, objects in raw_data_grouped[task_id].items():\n",
    "        rd[t.upper()] = objects[0]\n",
    "        for i, g in enumerate(group_structures([d['final_str'] for d in objects])):\n",
    "            comp = g[0].composition.reduced_formula\n",
    "            structures.append({'label': t.upper(), 'name': f'{comp}-{t}-{i}', 'is_public': is_public})\n",
    "            structures[-1].update(g[0].as_dict())\n",
    "    \n",
    "    contrib = get_contrib(rd, identifier)\n",
    "\n",
    "    ntries = 0\n",
    "    while ntries < 3:\n",
    "        try:\n",
    "            for d in client.contributions.get_entries(\n",
    "                project=project, identifier=identifier, _fields=['id'],\n",
    "            ).result()['data']:\n",
    "                client.contributions.delete_entry(pk=d['id']).result()\n",
    "                #print(idx, d['id'], 'deleted')\n",
    "\n",
    "            cid = client.contributions.create_entry(contribution=contrib).result()['id']\n",
    "            #print(client.contributions.get_entry(pk=cid, _fields=['_all']).result())\n",
    "            #print(idx, cid, 'created')\n",
    "\n",
    "            for sdct in structures:\n",
    "                sdct['contribution'] = cid\n",
    "                sid = client.structures.create_entry(structure=sdct).result()['id']\n",
    "                #print(idx, 'structure', sid, 'created')\n",
    "\n",
    "            break\n",
    "        except Exception as ex:\n",
    "            ntries += 1\n",
    "            print('waiting', ntries*30, 'seconds...')\n",
    "            sleep(ntries*30)\n",
    "            print(idx, identifier, 'continue ...')\n",
    "    else:\n",
    "        print('I give up.')\n",
    "        break"
   ]
  }
 ],
 "metadata": {
  "kernelspec": {
   "display_name": "Python 3",
   "language": "python",
   "name": "python3"
  },
  "language_info": {
   "codemirror_mode": {
    "name": "ipython",
    "version": 3
   },
   "file_extension": ".py",
   "mimetype": "text/x-python",
   "name": "python",
   "nbconvert_exporter": "python",
   "pygments_lexer": "ipython3",
   "version": "3.8.1"
  }
 },
 "nbformat": 4,
 "nbformat_minor": 4
}
