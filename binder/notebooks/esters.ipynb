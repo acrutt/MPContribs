{
 "cells": [
  {
   "cell_type": "code",
   "execution_count": null,
   "metadata": {},
   "outputs": [],
   "source": [
    "from mpcontribs.client import load_client\n",
    "from pymatgen import Structure, MPRester"
   ]
  },
  {
   "cell_type": "code",
   "execution_count": null,
   "metadata": {},
   "outputs": [],
   "source": [
    "project = 'esters'\n",
    "client = load_client('your-api-key-here')\n",
    "mpr = MPRester()"
   ]
  },
  {
   "cell_type": "markdown",
   "metadata": {},
   "source": [
    "Retrieve and update project info"
   ]
  },
  {
   "cell_type": "code",
   "execution_count": null,
   "metadata": {},
   "outputs": [],
   "source": [
    "client.projects.get_entry(pk=project, _fields=['_all']).result()"
   ]
  },
  {
   "cell_type": "code",
   "execution_count": null,
   "metadata": {},
   "outputs": [],
   "source": [
    "client.projects.update_entry(pk=project, project={'long_title': 'Improved c-axis parameter for BiSe'}).result()"
   ]
  },
  {
   "cell_type": "markdown",
   "metadata": {},
   "source": [
    "Create contribution"
   ]
  },
  {
   "cell_type": "code",
   "execution_count": null,
   "metadata": {},
   "outputs": [],
   "source": [
    "# clear out first (includes structure(s))\n",
    "contribs = client.contributions.get_entries(project=project, _fields=['id']).result()\n",
    "for contrib in contribs['data']:\n",
    "    client.contributions.delete_entry(pk=contrib['id']).result()\n",
    "    print(contrib['id'], 'deleted')\n",
    "    \n",
    "is_public = True\n",
    "structure = Structure.from_file('CONTCAR')\n",
    "mpids = mpr.find_structure(structure)\n",
    "contrib = {'project': project, 'identifier': mpids[0], 'is_public': is_public}\n",
    "cid = client.contributions.create_entry(contribution=contrib).result()['id']\n",
    "print('contribution', cid, 'created')\n",
    "\n",
    "comp = structure.composition.reduced_formula\n",
    "sdct = {'contribution': cid, 'is_public': is_public, 'label': '2019/05/21', 'name': comp}\n",
    "sdct.update(structure.as_dict())\n",
    "sid = client.structures.create_entry(structure=sdct).result()['id']\n",
    "print('structure', sid, 'created')"
   ]
  }
 ],
 "metadata": {
  "kernelspec": {
   "display_name": "Python 3",
   "language": "python",
   "name": "python3"
  },
  "language_info": {
   "codemirror_mode": {
    "name": "ipython",
    "version": 3
   },
   "file_extension": ".py",
   "mimetype": "text/x-python",
   "name": "python",
   "nbconvert_exporter": "python",
   "pygments_lexer": "ipython3",
   "version": "3.8.1"
  }
 },
 "nbformat": 4,
 "nbformat_minor": 4
}
