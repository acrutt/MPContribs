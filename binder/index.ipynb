{
 "cells": [
  {
   "cell_type": "code",
   "execution_count": null,
   "metadata": {},
   "outputs": [],
   "source": [
    "from mpcontribs.client import load_client\n",
    "from mpcontribs.io.core.recdict import RecursiveDict\n",
    "from mpcontribs.io.core.components.hdata import HierarchicalData\n",
    "from mpcontribs.io.core.components.tdata import Table\n",
    "from mpcontribs.io.core.components.gdata import Plot"
   ]
  },
  {
   "cell_type": "code",
   "execution_count": null,
   "metadata": {},
   "outputs": [],
   "source": [
    "api_key = '<your-api-key-here>' # from https://portal.mpcontribs.org/dashboard\n",
    "client = load_client(api_key)"
   ]
  },
  {
   "cell_type": "markdown",
   "metadata": {},
   "source": [
    "## project info & overview table"
   ]
  },
  {
   "cell_type": "code",
   "execution_count": null,
   "metadata": {},
   "outputs": [],
   "source": [
    "project = 'carrier_transport'\n",
    "info = client.projects.get_entry(project=project).response().result\n",
    "RecursiveDict(info)"
   ]
  },
  {
   "cell_type": "code",
   "execution_count": null,
   "metadata": {},
   "outputs": [],
   "source": [
    "data = client.projects.get_table(project=project).response().result\n",
    "Table(data['items'], project=project, api_key=api_key)"
   ]
  },
  {
   "cell_type": "markdown",
   "metadata": {},
   "source": [
    "## specific contribution"
   ]
  },
  {
   "cell_type": "code",
   "execution_count": null,
   "metadata": {},
   "outputs": [],
   "source": [
    "cid = '5ac0a333d4f1443de26744ab'\n",
    "contrib = client.contributions.get_entry(cid=cid).response().result"
   ]
  },
  {
   "cell_type": "markdown",
   "metadata": {},
   "source": [
    "### hierarchical data"
   ]
  },
  {
   "cell_type": "code",
   "execution_count": null,
   "metadata": {},
   "outputs": [],
   "source": [
    "HierarchicalData(contrib['content']['data']) # dictionary"
   ]
  },
  {
   "cell_type": "markdown",
   "metadata": {},
   "source": [
    "### tabular data"
   ]
  },
  {
   "cell_type": "code",
   "execution_count": null,
   "metadata": {},
   "outputs": [],
   "source": [
    "tid = contrib['content']['tables'][0]\n",
    "table = client.tables.get_entry(tid=tid).response().result\n",
    "Table.from_dict(table) # Pandas DataFrame format"
   ]
  },
  {
   "cell_type": "code",
   "execution_count": null,
   "metadata": {},
   "outputs": [],
   "source": [
    "Plot.from_dict(table) # plotly graph"
   ]
  },
  {
   "cell_type": "markdown",
   "metadata": {},
   "source": [
    "## query"
   ]
  },
  {
   "cell_type": "code",
   "execution_count": null,
   "metadata": {},
   "outputs": [],
   "source": [
    "# see https://portal.mpcontribs.org/<project> and\n",
    "# https://api.mpcontribs.org/#/contributions/get_entries\n",
    "\n",
    "per_page = 20 # 20 is max retrievable contributions at once\n",
    "fields = ['<S>', '<σ>', '<S²σ>'] # which data fields to retrieve\n",
    "mask = [f'content.data.{field}' for field in fields]\n",
    "mask += ['content.data.formula', 'identifier']\n",
    "filters = [\n",
    "    'formula__contains:Li3',\n",
    "    '<σ>.p__lt:2e15', '<σ>.n__lt:2e15',\n",
    "] # implicitly AND, only last filter kept for duplicate field/operator combinations\n",
    "\n",
    "contribs = client.contributions.get_entries(\n",
    "    projects=[project], filters=filters, mask=mask, per_page=per_page\n",
    ").response().result # -> see pagination\n",
    "\n",
    "print('found', len(contribs), 'materials')\n",
    "contribs[0]"
   ]
  },
  {
   "cell_type": "markdown",
   "metadata": {},
   "source": [
    "### pagination"
   ]
  },
  {
   "cell_type": "code",
   "execution_count": null,
   "metadata": {},
   "outputs": [],
   "source": [
    "# only run this once you've optimized masks and filters to what you actually need (see above)\n",
    "all_contribs = []\n",
    "while 1:\n",
    "    page = int(len(all_contribs) / per_page) + 1\n",
    "    contribs = client.contributions.get_entries(\n",
    "        projects=[project], filters=filters, mask=mask, per_page=per_page, page=page\n",
    "    ).response().result\n",
    "    all_contribs.extend(contribs)\n",
    "    if not contribs or len(contribs) < per_page:\n",
    "        break\n",
    "\n",
    "print('found', len(all_contribs), 'materials')\n",
    "all_contribs[-1]"
   ]
  }
 ],
 "metadata": {
  "kernelspec": {
   "display_name": "Python 3",
   "language": "python",
   "name": "python3"
  },
  "language_info": {
   "codemirror_mode": {
    "name": "ipython",
    "version": 3
   },
   "file_extension": ".py",
   "mimetype": "text/x-python",
   "name": "python",
   "nbconvert_exporter": "python",
   "pygments_lexer": "ipython3",
   "version": "3.7.3"
  }
 },
 "nbformat": 4,
 "nbformat_minor": 2
}
