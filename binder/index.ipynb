{
 "cells": [
  {
   "cell_type": "code",
   "execution_count": null,
   "metadata": {},
   "outputs": [],
   "source": [
    "from mpcontribs.client import load_client\n",
    "from mpcontribs.io.core.recdict import RecursiveDict"
   ]
  },
  {
   "cell_type": "code",
   "execution_count": null,
   "metadata": {},
   "outputs": [],
   "source": [
    "client = load_client() # add api key from https://portal.mpcontribs.org/dashboard as argument"
   ]
  },
  {
   "cell_type": "markdown",
   "metadata": {},
   "source": [
    "## project info & overview"
   ]
  },
  {
   "cell_type": "code",
   "execution_count": null,
   "metadata": {},
   "outputs": [],
   "source": [
    "project = 'carrier_transport'\n",
    "info = client.projects.get_entry(project=project).response().result\n",
    "RecursiveDict(info)"
   ]
  },
  {
   "cell_type": "markdown",
   "metadata": {},
   "source": [
    "## specific contribution"
   ]
  },
  {
   "cell_type": "code",
   "execution_count": null,
   "metadata": {},
   "outputs": [],
   "source": [
    "# use https://portal.mpcontribs.org to find material with contribution for specific project\n",
    "project, mpid = 'carrier_transport', 'mp-27502'\n",
    "cid = mpr.query_contributions(criteria={'mp_cat_id': mpid})[0]['_id']\n",
    "mpfile = mpr.find_contribution(cid)\n",
    "print 'see https://portal.mpcontribs.org/explorer/{}'.format(portal, cid)"
   ]
  },
  {
   "cell_type": "markdown",
   "metadata": {},
   "source": [
    "### hierarchical data"
   ]
  },
  {
   "cell_type": "code",
   "execution_count": null,
   "metadata": {},
   "outputs": [],
   "source": [
    "mpfile.hdata[mpid]['data'] # dictionary"
   ]
  },
  {
   "cell_type": "markdown",
   "metadata": {},
   "source": [
    "### tabular data"
   ]
  },
  {
   "cell_type": "code",
   "execution_count": null,
   "metadata": {},
   "outputs": [],
   "source": [
    "df = mpfile.tdata[mpid]['S(p)'] # Pandas DataFrame\n",
    "df.head()"
   ]
  },
  {
   "cell_type": "markdown",
   "metadata": {},
   "source": [
    "### graphs"
   ]
  },
  {
   "cell_type": "code",
   "execution_count": null,
   "metadata": {},
   "outputs": [],
   "source": [
    "mpfile.gdata[mpid]['σ(p)']"
   ]
  },
  {
   "cell_type": "markdown",
   "metadata": {},
   "source": [
    "## query"
   ]
  },
  {
   "cell_type": "code",
   "execution_count": null,
   "metadata": {},
   "outputs": [],
   "source": [
    "# direct querying of values will be possible once MPContribs has switched to SciData internally (better units handling)\n",
    "docs = mpr.query_contributions(projection={'content.data.σ.p.<ε>': 1, 'mp_cat_id': 1})\n",
    "print 'found {} contributions'.format(len(docs))"
   ]
  },
  {
   "cell_type": "code",
   "execution_count": null,
   "metadata": {},
   "outputs": [],
   "source": [
    "observable, doping, threshold = 'σ', 'p', 1e16\n",
    "results = {}\n",
    "for doc in docs:\n",
    "    identifier = doc['mp_cat_id']\n",
    "    v = doc['content']['data'][observable][doping]['<ε>'].split() # split value and unit (see note above)\n",
    "    if float(v[0]) > threshold:\n",
    "        results[identifier] = float(v[0])\n",
    "print 'found {} materials with {}({}) > {} {}'.format(len(results), observable, doping, threshold, v[1])"
   ]
  }
 ],
 "metadata": {
  "kernelspec": {
   "display_name": "Python 3",
   "language": "python",
   "name": "python3"
  },
  "language_info": {
   "codemirror_mode": {
    "name": "ipython",
    "version": 3
   },
   "file_extension": ".py",
   "mimetype": "text/x-python",
   "name": "python",
   "nbconvert_exporter": "python",
   "pygments_lexer": "ipython3",
   "version": "3.7.3"
  }
 },
 "nbformat": 4,
 "nbformat_minor": 2
}
