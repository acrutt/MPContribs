{
 "cells": [
  {
   "cell_type": "code",
   "execution_count": null,
   "metadata": {
    "collapsed": true
   },
   "outputs": [],
   "source": [
    "from mpcontribs.rest.rester import MPContribsRester\n",
    "from mpcontribs.io.core.recdict import RecursiveDict\n",
    "from mpcontribs.users.dtu.rest.rester import DtuRester\n",
    "from mpcontribs.io.core.components import Tree\n",
    "from mpcontribs.io.core.utils import nested_dict_iter"
   ]
  },
  {
   "cell_type": "code",
   "execution_count": null,
   "metadata": {
    "collapsed": false
   },
   "outputs": [],
   "source": [
    "mpr = DtuRester()\n",
    "contrib = mpr.query_contributions(criteria={'mp_cat_id': 'mp-5821'}, projection={'content': 1})[0]\n",
    "hdata = Tree(contrib['content'])\n",
    "sub_hdata = RecursiveDict(\n",
    "    (k,v) for k,v in hdata.items()\n",
    "    if k not in mpr.provenance_keys\n",
    ")\n",
    "list(nested_dict_iter(sub_hdata))"
   ]
  },
  {
   "cell_type": "code",
   "execution_count": null,
   "metadata": {
    "collapsed": false
   },
   "outputs": [],
   "source": [
    "mpr = DtuRester()\n",
    "#for idx, mpid in enumerate(mpids):\n",
    "mpid = 'mp-5821'\n",
    "r1 = mpr._make_request('/datasets/{}'.format(mpid))\n",
    "if r1:\n",
    "    for project in r1:\n",
    "        for cid in project['cids']:\n",
    "            r2 = mpr.get_card(cid=cid, prov_keys=project['provenance_keys'])\n",
    "            print project['title'], cid\n",
    "            if isinstance(r2, list):\n",
    "                print 'TODO: images'\n",
    "            else:\n",
    "                RecursiveDict(r2)._ipython_display_()\n",
    "    #if idx>5:\n",
    "    #break"
   ]
  }
 ],
 "metadata": {
  "kernelspec": {
   "display_name": "Python 2",
   "language": "python",
   "name": "python2"
  },
  "language_info": {
   "codemirror_mode": {
    "name": "ipython",
    "version": 2
   },
   "file_extension": ".py",
   "mimetype": "text/x-python",
   "name": "python",
   "nbconvert_exporter": "python",
   "pygments_lexer": "ipython2",
   "version": "2.7.12"
  }
 },
 "nbformat": 4,
 "nbformat_minor": 2
}
