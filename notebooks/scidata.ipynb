{
 "cells": [
  {
   "cell_type": "code",
   "execution_count": null,
   "metadata": {
    "collapsed": true
   },
   "outputs": [],
   "source": [
    "from mpcontribs.io.archieml.mpfile import MPFile\n",
    "from mpcontribs.rest.rester import MPContribsRester\n",
    "from mpcontribs.io.core.recdict import RecursiveDict"
   ]
  },
  {
   "cell_type": "code",
   "execution_count": null,
   "metadata": {
    "collapsed": true
   },
   "outputs": [],
   "source": [
    "mpr = MPContribsRester()"
   ]
  },
  {
   "cell_type": "code",
   "execution_count": null,
   "metadata": {
    "collapsed": false
   },
   "outputs": [],
   "source": [
    "docs = mpr.query_contributions(\n",
    "    projection={'content': 1, 'mp_cat_id': 1, 'project': 1},\n",
    "    contributor_only=True)"
   ]
  },
  {
   "cell_type": "code",
   "execution_count": null,
   "metadata": {
    "collapsed": false
   },
   "outputs": [],
   "source": [
    "len(docs)"
   ]
  },
  {
   "cell_type": "code",
   "execution_count": null,
   "metadata": {
    "collapsed": false
   },
   "outputs": [],
   "source": [
    "type(docs[0])"
   ]
  },
  {
   "cell_type": "code",
   "execution_count": null,
   "metadata": {
    "collapsed": false
   },
   "outputs": [],
   "source": [
    "d = RecursiveDict(docs[0])\n",
    "for doc in docs[1:]:\n",
    "    d.rec_update(other=doc, overwrite=True)"
   ]
  },
  {
   "cell_type": "code",
   "execution_count": null,
   "metadata": {
    "collapsed": false
   },
   "outputs": [],
   "source": [
    "for k, v in d['content'].items():\n",
    "    if k not in ['_gdata', '_structures'] and not k.startswith('_tdata'):\n",
    "        print k#,v # free-form hierarchical data (nested key-value pairs)\n",
    "    elif k == '_structures' and len(d['content'][k]) > 3:\n",
    "        for s in d['content'][k].keys()[3:]:\n",
    "            d['content'][k].pop(s)\n",
    "\n",
    "# MPFile components: hdata, tdata, gdata, sdata\n",
    "#['_gdata'] #graphs and their options: for default links x-axis to column name, and which table to be used for graph\n",
    "# prepend '_tdata'\n",
    "#['_tdata_refractive_index'] #mpcontribs.io.utils.pandas_to_dict\n",
    "#['_structures']['MnO2'] #pymatgen Structure.to_dict()\n",
    "# all else will be treated as free-form hierarchical data (nested key-value pairs)\n",
    "#mpfile = MPFile.from_contribution(d)"
   ]
  },
  {
   "cell_type": "code",
   "execution_count": null,
   "metadata": {
    "collapsed": false
   },
   "outputs": [],
   "source": [
    "import json\n",
    "with open('mpcontribs_scidata.json', 'w') as f:\n",
    "    json.dump(d, f, indent=4)"
   ]
  }
 ],
 "metadata": {
  "kernelspec": {
   "display_name": "Python 2",
   "language": "python",
   "name": "python2"
  },
  "language_info": {
   "codemirror_mode": {
    "name": "ipython",
    "version": 2
   },
   "file_extension": ".py",
   "mimetype": "text/x-python",
   "name": "python",
   "nbconvert_exporter": "python",
   "pygments_lexer": "ipython2",
   "version": "2.7.12"
  }
 },
 "nbformat": 4,
 "nbformat_minor": 2
}
