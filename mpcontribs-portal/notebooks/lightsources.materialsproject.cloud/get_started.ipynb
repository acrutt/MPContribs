{
 "cells": [
  {
   "cell_type": "code",
   "execution_count": null,
   "metadata": {},
   "outputs": [],
   "source": [
    "import wget, json, os\n",
    "from string import capwords\n",
    "from pybtex.database import parse_string\n",
    "import pybtex.errors\n",
    "from mpcontribs.client import load_client\n",
    "pybtex.errors.set_strict_mode(False)"
   ]
  },
  {
   "cell_type": "code",
   "execution_count": null,
   "metadata": {},
   "outputs": [],
   "source": [
    "client = load_client('your-api-key-here', host='ml-api.materialsproject.cloud')"
   ]
  },
  {
   "cell_type": "code",
   "execution_count": null,
   "metadata": {},
   "outputs": [],
   "source": [
    "fn = 'dataset_metadata.json'\n",
    "if not os.path.exists(fn):\n",
    "    wget.download(f'https://raw.githubusercontent.com/hackingmaterials/matminer/master/matminer/datasets/{fn}')"
   ]
  },
  {
   "cell_type": "code",
   "execution_count": null,
   "metadata": {},
   "outputs": [],
   "source": [
    "data = json.load(open(fn, 'r'))"
   ]
  },
  {
   "cell_type": "code",
   "execution_count": null,
   "metadata": {},
   "outputs": [],
   "source": [
    "for name, info in data.items():\n",
    "    if not name.startswith('matbench_'):\n",
    "        continue\n",
    "    \n",
    "    columns = {}\n",
    "    for col, text in info['columns'].items():\n",
    "        k = col.replace('_', '|').replace('-', '|').replace('(', ' ').replace(')', '')\n",
    "        columns[k] = text\n",
    "        \n",
    "    project = {\n",
    "        'project': name,\n",
    "        'is_public': True,\n",
    "        'owner': 'ardunn@lbl.gov',\n",
    "        'title': name, # TODO update and set long_title\n",
    "        'authors': 'A. Dunn, A. Jain',\n",
    "        'description': info['description'],\n",
    "        'other': {\n",
    "            'columns': columns,\n",
    "            'entries': info['num_entries']\n",
    "        },\n",
    "        'urls': {\n",
    "            'FigShare': info['url']\n",
    "        }   \n",
    "    }\n",
    "    \n",
    "    print(name)\n",
    "    for ref in info['bibtex_refs']:\n",
    "        bib = parse_string(ref, 'bibtex')\n",
    "        for key, entry in bib.entries.items():\n",
    "            key_is_doi = key.startswith('doi:')\n",
    "            url = 'https://doi.org/' + key.split(':', 1)[-1] if key_is_doi else entry.fields.get('url')\n",
    "            k = 'Zhuo2018' if key_is_doi else capwords(key.replace('_', ''))\n",
    "            if k.startswith('C2'):\n",
    "                k = 'Castelli2012'\n",
    "            elif k.startswith('Landolt'):\n",
    "                k = 'LB1997'\n",
    "            elif k == 'Citrine':\n",
    "                url = 'https://www.citrination.com'\n",
    "            \n",
    "            if len(k) > 8:\n",
    "                k = k[:4] + k[-4:]\n",
    "            project['urls'][k] = url\n",
    "\n",
    "    try:\n",
    "        print(client.projects.create_entry(project=project).result())\n",
    "    except Exception as ex:\n",
    "        print(ex)  # TODO should use get_entry to check existence -> use update_entry if project exists"
   ]
  }
 ],
 "metadata": {
  "kernelspec": {
   "display_name": "Python 3",
   "language": "python",
   "name": "python3"
  },
  "language_info": {
   "codemirror_mode": {
    "name": "ipython",
    "version": 3
   },
   "file_extension": ".py",
   "mimetype": "text/x-python",
   "name": "python",
   "nbconvert_exporter": "python",
   "pygments_lexer": "ipython3",
   "version": "3.8.1"
  }
 },
 "nbformat": 4,
 "nbformat_minor": 2
}
