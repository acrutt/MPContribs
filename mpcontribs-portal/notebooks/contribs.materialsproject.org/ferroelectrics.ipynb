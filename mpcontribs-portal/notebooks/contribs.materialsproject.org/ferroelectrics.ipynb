{
 "cells": [
  {
   "cell_type": "code",
   "execution_count": null,
   "id": "naughty-mills",
   "metadata": {},
   "outputs": [],
   "source": []
  },
  {
   "cell_type": "code",
   "execution_count": null,
   "id": "announced-enclosure",
   "metadata": {
    "lines_to_next_cell": 2
   },
   "outputs": [],
   "source": [
    "\n",
    "\n",
    "import json\n",
    "import numpy as np\n",
    "from mpcontribs.client import Client, Attachment\n",
    "from pathlib import Path\n",
    "from flatten_dict import flatten, unflatten\n",
    "from pymatgen.core import Structure"
   ]
  },
  {
   "cell_type": "code",
   "execution_count": null,
   "id": "light-yacht",
   "metadata": {
    "lines_to_next_cell": 2
   },
   "outputs": [],
   "source": [
    "\n",
    "\n",
    "client = Client(project=\"ferroelectrics\")"
   ]
  },
  {
   "cell_type": "code",
   "execution_count": null,
   "id": "communist-parent",
   "metadata": {
    "lines_to_next_cell": 2
   },
   "outputs": [],
   "source": [
    "\n",
    "\n",
    "# client.update_project(update={\n",
    "#     \"references\": [\n",
    "#         {\"label\": \"SciData\", \"url\": \"https://doi.org/10.1038/s41597-020-0407-9\"},\n",
    "#         {\"label\": \"PyMatGen\", \"url\": \"https://github.com/materialsproject/pymatgen/tree/master/pymatgen/analysis/ferroelectricity\"},\n",
    "#         {\"label\": \"Atomate\", \"url\": \"https://github.com/hackingmaterials/atomate/blob/master/atomate/vasp/workflows/base/ferroelectric.py\"},\n",
    "#         {\"label\": \"Website\", \"url\": \"https://blondegeek.github.io/ferroelectric_search_site/\"},\n",
    "#         {\"label\": \"Figshare\", \"url\": \"https://dx.doi.org/10.6084/m9.figshare.6025634\"}\n",
    "#     ]\n",
    "# })"
   ]
  },
  {
   "cell_type": "code",
   "execution_count": null,
   "id": "current-supply",
   "metadata": {
    "lines_to_next_cell": 2
   },
   "outputs": [],
   "source": [
    "\n",
    "\n",
    "datadir = Path(\"/Users/patrick/Downloads/6025634\")\n",
    "distortions_file = datadir / \"distortions.json\"\n",
    "workflow_data_file = datadir / \"workflow_data.json\"\n",
    "\n",
    "with distortions_file.open() as f:\n",
    "    distortions = json.load(f)\n",
    "    \n",
    "with workflow_data_file.open() as f:\n",
    "    workflow_data = json.load(f)"
   ]
  },
  {
   "cell_type": "code",
   "execution_count": null,
   "id": "renewable-spanish",
   "metadata": {
    "lines_to_next_cell": 2
   },
   "outputs": [],
   "source": [
    "\n",
    "\n",
    "columns = {\n",
    "    \"search_id\": {\"name\": \"id|search\", \"unit\": \"\"},\n",
    "    \"bilbao_nonpolar_spacegroup\": {\"name\": \"bilbao.spacegroup.nonpolar\", \"unit\": \"\"},\n",
    "    \"bilbao_polar_spacegroup\": {\"name\": \"bilbao.spacegroup.polar\", \"unit\": \"\"},\n",
    "    \"distortion.dmax\": {\"name\": \"distortion.dmax\", \"unit\": \"Å\"},\n",
    "    \"calculated_max_distance\": {\"name\": \"distortion.calc_dmax\", \"unit\": \"Å\"},\n",
    "    # \"distortion.delta\": {\"name\": \"distortion.delta\", \"unit\": \"\"},\n",
    "    # \"distortion.dav\": {\"name\": \"distortion.dav\", \"unit\": \"\"},\n",
    "    # \"distortion.s\": {\"name\": \"distortion.s\", \"unit\": \"\"},\n",
    "    \"nonpolar_band_gap\": {\"name\": \"nonpolar.bandgap\", \"unit\": \"eV\"},\n",
    "    \"nonpolar_icsd\": {\"name\": \"nonpolar.icsd\", \"unit\": \"\"},\n",
    "    \"nonpolar_id\": {\"name\": \"nonpolar.mpid\", \"unit\": None},\n",
    "    \"nonpolar_spacegroup\": {\"name\": \"nonpolar.spacegroup\", \"unit\": \"\"},\n",
    "    \"polar_band_gap\": {\"name\": \"polar.bandgap\", \"unit\": \"eV\"},\n",
    "    \"polar_icsd\": {\"name\": \"polar.icsd\", \"unit\": \"\"},\n",
    "    \"polar_id\": {\"name\": \"polar.mpid\", \"unit\": None},\n",
    "    \"polar_spacegroup\": {\"name\": \"polar.spacegroup\", \"unit\": \"\"},\n",
    "    \"energies_per_atom_max_spline_jumps\": {\"name\": \"energies.jumps|max\", \"unit\": \"eV/atom\"},\n",
    "    \"energies_per_atom_smoothness\": {\"name\": \"energies.smoothness\", \"unit\": \"eV\"},\n",
    "    \"polarization_max_spline_jumps\": {\"name\": \"polarization.jumps|max\", \"unit\": \"μC/cm²\"},\n",
    "    \"polarization_smoothness\": {\"name\": \"polarization.smoothness\", \"unit\": \"μC/cm²\"},\n",
    "    \"polarization_change_norm\": {\"name\": \"polarization.norm\", \"unit\": \"μC/cm²\"},\n",
    "    \"polarization_change\": {\"name\": \"polarization.vector\", \"unit\": \"μC/cm²\"},\n",
    "    \"polarization_quanta\": {\"name\":\"polarization.quanta\",\"unit\":\"μC/cm²\"},\n",
    "    \"workflow_status\": {\"name\": \"workflow|status\",\"unit\":None},\n",
    "}"
   ]
  },
  {
   "cell_type": "code",
   "execution_count": null,
   "id": "stylish-overall",
   "metadata": {},
   "outputs": [],
   "source": [
    "\n",
    "\n",
    "def get_category(wf):\n",
    "    if (wf['polarization_len'] == 10 and\n",
    "        'polarization_max_spline_jumps' in wf and\n",
    "        np.all(np.array(wf['polarization_max_spline_jumps']) <= 1) and\n",
    "        wf['energies_per_atom_max_spline_jumps'] <= 1e-2):\n",
    "        return \"smooth\"\n",
    "    \n",
    "    elif (wf['polarization_len'] == 10 and\n",
    "          'polarization_change_norm' in wf and\n",
    "          'polarization_max_spline_jumps' in wf and\n",
    "          (wf['energies_per_atom_max_spline_jumps'] > 1e-2 or\n",
    "           np.any(np.array(wf['polarization_max_spline_jumps']) > 1))):\n",
    "        return \"not_smooth\"\n",
    "    \n",
    "    elif (wf['static_len'] == 10 and\n",
    "          'polarization_change_norm' not in wf and\n",
    "          wf['workflow_status'] in (\"COMPLETED\",\"DEFUSED\")):\n",
    "        return \"static_only\"\n",
    "    \n",
    "    elif ((wf['polarization_len'] < 10 or 'polarization_change_norm' not in wf) and\n",
    "          ((wf['workflow_status'] == \"DEFUSED\" and wf['static_len'] < 10) or\n",
    "           wf['workflow_status'] in (\"FIZZLED\",\"RUNNING\"))):\n",
    "        return \"not_complete\"\n",
    "\n"
   ]
  },
  {
   "cell_type": "code",
   "execution_count": null,
   "id": "ruled-approach",
   "metadata": {
    "lines_to_next_cell": 2
   },
   "outputs": [],
   "source": [
    "\n",
    "\n",
    "contribs_distortions = {}\n",
    "\n",
    "for distortion in distortions:\n",
    "    k1, k2 = distortion[\"nonpolar_id\"], distortion[\"polar_id\"]\n",
    "    key = f\"{k1}_{k2}\"\n",
    "    contribs_distortions[key] = {\"data\": {}, \"structures\": [], \"attachments\": []}\n",
    "    \n",
    "    for k, v in flatten(distortion, reducer=\"dot\", max_flatten_depth=2).items():\n",
    "        if k.endswith(\"_pre\") or k.startswith(\"_id\"):\n",
    "            continue \n",
    "        elif not isinstance(v, (dict, list)):\n",
    "            conf = columns.get(k)\n",
    "            if conf:\n",
    "                name, unit = conf[\"name\"], conf[\"unit\"]\n",
    "                contribs_distortions[key][\"data\"][name] = f\"{v} {unit}\" if unit else v\n",
    "        elif isinstance(v, dict) and \"@class\" in v and v[\"@class\"] == \"Structure\":\n",
    "            structure = Structure.from_dict(v)\n",
    "            structure.name = k\n",
    "            contribs_distortions[key][\"structures\"].append(structure)\n",
    "            \n",
    "    attm = Attachment.from_data(\"distortion\", distortion)\n",
    "    contribs_distortions[key][\"attachments\"].append(attm)"
   ]
  },
  {
   "cell_type": "code",
   "execution_count": null,
   "id": "falling-landscape",
   "metadata": {
    "lines_to_next_cell": 2
   },
   "outputs": [],
   "source": [
    "\n",
    "\n",
    "contributions = []\n",
    "structure_keys = (\"orig_nonpolar_structure\", \"orig_polar_structure\")\n",
    "\n",
    "for wf in workflow_data:\n",
    "    k1, k2 = wf[\"nonpolar_id\"], wf[\"polar_id\"]\n",
    "    key = f\"{k1}_{k2}\"\n",
    "    distortion = contribs_distortions[key]\n",
    "    contrib = {\n",
    "        \"identifier\": wf[\"wfid\"], \"formula\": wf[\"pretty_formula\"],\n",
    "        \"data\": contribs_distortions[key][\"data\"],\n",
    "        \"structures\": contribs_distortions[key][\"structures\"],\n",
    "        \"attachments\": contribs_distortions[key][\"attachments\"]\n",
    "    }\n",
    "    for k in structure_keys:\n",
    "        if k in wf:\n",
    "            structure = Structure.from_dict(wf[k])\n",
    "            structure.name = k\n",
    "            contrib[\"structures\"].append(structure)\n",
    "    \n",
    "    for k, v in flatten(wf, reducer=\"dot\").items():\n",
    "        if k.startswith('polarization') and isinstance(v, list):\n",
    "            conf = columns.get(k)\n",
    "            if conf:\n",
    "                name, unit = conf[\"name\"], conf[\"unit\"]\n",
    "                contrib[\"data\"].setdefault(name, {})\n",
    "                if name.endswith((\"ness\",\"max\")):\n",
    "                    contrib[\"data\"][name]['max'] = f\"{max(v)} {unit}\" if unit else v           \n",
    "                    contrib[\"data\"][name]['max_idx'] = f\"{v.index(max(v))}\" \n",
    "                else:\n",
    "                    contrib[\"data\"][name] = {i:j for i,j in zip((\"a\",\"b\",\"c\"),(v[0]))}\n",
    "\n",
    "        elif k.startswith((\"_id\", \"cid\")) or isinstance(v, list) or k.startswith(structure_keys):\n",
    "            continue\n",
    "        else:\n",
    "            conf = columns.get(k)\n",
    "            if conf:\n",
    "                name, unit = conf[\"name\"], conf[\"unit\"]\n",
    "                contrib[\"data\"][name] = f\"{v} {unit}\" if unit else v\n",
    "\n",
    "        contrib['data']['category'] = get_category(wf)\n",
    "        \n",
    "    attm = Attachment.from_data(\"workflow\", wf)\n",
    "    contrib[\"attachments\"].append(attm)\n",
    "    contrib[\"data\"] = unflatten(contrib[\"data\"], splitter=\"dot\")\n",
    "    contributions.append(contrib)"
   ]
  },
  {
   "cell_type": "code",
   "execution_count": null,
   "id": "ruled-deployment",
   "metadata": {
    "lines_to_next_cell": 2
   },
   "outputs": [],
   "source": [
    "\n",
    "\n",
    "for l in (\"smooth\",\"not_smooth\",\"static_only\",\"not_complete\"):\n",
    "    print(l,len(list(filter(lambda c: c['data']['category']==l,contributions))))"
   ]
  },
  {
   "cell_type": "code",
   "execution_count": null,
   "id": "pressing-israeli",
   "metadata": {
    "lines_to_next_cell": 2
   },
   "outputs": [],
   "source": [
    "\n",
    "\n",
    "columns_map = {v[\"name\"]: v[\"unit\"] for k, v in columns.items()}\n",
    "client.delete_contributions()\n",
    "client.init_columns(columns_map)"
   ]
  },
  {
   "cell_type": "code",
   "execution_count": null,
   "id": "grave-press",
   "metadata": {
    "lines_to_next_cell": 2
   },
   "outputs": [],
   "source": [
    "\n",
    "\n",
    "client.submit_contributions(contributions, ignore_dupes=True)\n",
    "client.init_columns(columns_map)"
   ]
  },
  {
   "cell_type": "code",
   "execution_count": null,
   "id": "linear-atlantic",
   "metadata": {
    "lines_to_next_cell": 2
   },
   "outputs": [],
   "source": [
    "\n",
    "\n",
    "# client.make_public()"
   ]
  }
 ],
 "metadata": {
  "jupytext": {
   "cell_metadata_filter": "-all",
   "encoding": "# coding: utf-8",
   "executable": "/usr/bin/env python",
   "main_language": "python",
   "notebook_metadata_filter": "-all"
  }
 },
 "nbformat": 4,
 "nbformat_minor": 5
}
