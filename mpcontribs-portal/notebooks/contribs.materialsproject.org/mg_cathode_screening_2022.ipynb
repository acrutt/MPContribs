{
 "cells": [
  {
   "cell_type": "code",
   "execution_count": null,
   "id": "quick-recognition",
   "metadata": {},
   "outputs": [],
   "source": [
    "# https://contribs.materialsproject.org/projects/mg_cathode_screening_2022\n",
    "from mpcontribs.client import Client, Attachment\n",
    "from flatten_dict import flatten, unflatten\n",
    "from pymatgen.core import Structure\n",
    "from datetime import datetime"
   ]
  },
  {
   "cell_type": "code",
   "execution_count": null,
   "id": "square-fraction",
   "metadata": {},
   "outputs": [],
   "source": [
    "client = Client(project=\"mg_cathode_screening_2022\") # provide API key via `apikey` argument"
   ]
  },
  {
   "cell_type": "code",
   "execution_count": null,
   "id": "weekly-introduction",
   "metadata": {},
   "outputs": [],
   "source": [
    "# update project info\n",
    "client.update_project(update={\"title\": \"Mg Cathode Screening\"})"
   ]
  },
  {
   "cell_type": "code",
   "execution_count": null,
   "id": "threaded-rainbow",
   "metadata": {},
   "outputs": [],
   "source": [
    "# add legend for project in `other`\n",
    "client.update_project(update={\"other\": {\"Ef\": \"formation energy in eV\"}})"
   ]
  },
  {
   "cell_type": "code",
   "execution_count": null,
   "id": "universal-azerbaijan",
   "metadata": {},
   "outputs": [],
   "source": [
    "client.get_project()"
   ]
  },
  {
   "cell_type": "code",
   "execution_count": null,
   "id": "consistent-lighter",
   "metadata": {},
   "outputs": [],
   "source": [
    "from maggma.stores.advanced_stores import MongograntStore"
   ]
  },
  {
   "cell_type": "code",
   "execution_count": null,
   "id": "working-stocks",
   "metadata": {},
   "outputs": [],
   "source": [
    "rank_store = MongograntStore(\n",
    "    \"ro:mongodb07-ext.nersc.gov/fw_acr_mv\", \"rank_electrodes_2022\", key=\"battery_id\"\n",
    ")\n",
    "rank_store.connect()"
   ]
  },
  {
   "cell_type": "code",
   "execution_count": null,
   "id": "national-paint",
   "metadata": {},
   "outputs": [],
   "source": [
    "rank_store.count()"
   ]
  },
  {
   "cell_type": "code",
   "execution_count": null,
   "id": "common-pride",
   "metadata": {},
   "outputs": [],
   "source": [
    "docs = rank_store.query(limit=100)"
   ]
  },
  {
   "cell_type": "code",
   "execution_count": null,
   "id": "unknown-fellow",
   "metadata": {},
   "outputs": [],
   "source": [
    "columns = {\n",
    "    \"battery_id\": {\"name\": \"battery.id\", \"unit\": None}, # None indicates string type\n",
    "    \"battery_formula\": {\"name\": \"battery.formula\", \"unit\": None},\n",
    "    \"max_delta_volume\": {\"name\": \"ΔV|max\", \"unit\": \"Å³\"},\n",
    "    \"average_voltage\": {\"name\": \"V|avg\", \"unit\": \"V\"},\n",
    "    \"capacity_grav\": {\"name\": \"capacity.gravimetric\", \"unit\": \"\"}, # emptry string indicates dimensionless number\n",
    "    \"capacity_vol\": {\"name\": \"capacity.volumetric\", \"unit\": \"\"},\n",
    "    \"energy_grav\": {\"name\": \"energy.gravimetric\", \"unit\": \"\"},\n",
    "    \"energy_vol\": {\"name\": \"energy.volumetric\", \"unit\": \"\"},\n",
    "    \"fracA_discharge\": {\"name\": \"discharge.fracA\", \"unit\": \"\"},\n",
    "    \"formula_charge\": {\"name\": \"charge.formula\", \"unit\": None},\n",
    "    \"formula_discharge\": {\"name\": \"discharge.formula\", \"unit\": None},\n",
    "    \"stability_charge\": {\"name\": \"charge.stability\", \"unit\": \"\"},\n",
    "    \"stability_discharge\": {\"name\": \"discharge.stability\", \"unit\": \"\"},\n",
    "    \"id_charge\": {\"name\": \"charge.id\", \"unit\": \"\"},\n",
    "    \"id_discharge\": {\"name\": \"discharge.id\", \"unit\": \"\"},\n",
    "    \"framework_formula\": {\"name\": \"formulas.framework\", \"unit\": None},\n",
    "    \"formula_anonymous\": {\"name\": \"formulas.anonymous\", \"unit\": None},\n",
    "    \"num_steps\": {\"name\": \"nsteps\", \"unit\": \"\"},\n",
    "    \"nelements\": {\"name\": \"nelements\", \"unit\": \"\"},\n",
    "    \"chemsys\": {\"name\": \"chemsys\", \"unit\": None},\n",
    "    \"working_ion\": {\"name\": \"workingIon\", \"unit\": None},\n",
    "    \"icsd_experimental\": {\"name\": \"ICSD|exp\", \"unit\": None}, # convert bool to Yes/No string\n",
    "    \"hop_cutoff\": {\"name\": \"hop|cutoff\", \"unit\": \"\"},\n",
    "    \"num_paths_found\": {\"name\": \"npaths\", \"unit\": \"\"},\n",
    "    \"cost.total\": {\"name\": \"cost.total\", \"unit\": \"\"},\n",
    "    \"cost.voltage\": {\"name\": \"cost.voltage\", \"unit\": \"V\"},\n",
    "    \"cost.chg_stability\": {\"name\": \"cost.stability.charge\", \"unit\": \"\"},\n",
    "    \"cost.dchg_stability\": {\"name\": \"cost.stability.discharge\", \"unit\": \"\"},\n",
    "}"
   ]
  },
  {
   "cell_type": "code",
   "execution_count": null,
   "id": "quarterly-speaker",
   "metadata": {},
   "outputs": [],
   "source": [
    "columns_map = {v[\"name\"]: v[\"unit\"] for k, v in columns.items()}\n",
    "client.init_columns(columns_map)"
   ]
  },
  {
   "cell_type": "code",
   "execution_count": null,
   "id": "respective-certificate",
   "metadata": {},
   "outputs": [],
   "source": [
    "contributions = []\n",
    "structure_keys = [\"host_structure\", \"matrix_supercell_structure\"]\n",
    "attachment_keys = [\"electrode_object\", \"entries_for_generation\", \"migration_graph\", \"inserted_ion_coords\"]\n",
    "\n",
    "for doc in docs:\n",
    "    identifier = doc[\"host_mp_ids\"][0] if doc[\"host_mp_ids\"] else doc[\"battery_id\"]\n",
    "    contrib = {\"identifier\": identifier, \"data\": {}, \"structures\": [], \"attachments\": []}\n",
    "    \n",
    "    for k in structure_keys:\n",
    "        sdct = doc.pop(k, None)\n",
    "        if sdct:\n",
    "            structure = Structure.from_dict(sdct)\n",
    "            structure.name = k\n",
    "            contrib[\"structures\"].append(structure)\n",
    "        \n",
    "    for k in attachment_keys:\n",
    "        attm_dct = doc.pop(k, None)\n",
    "        if attm_dct:\n",
    "            attm = Attachment.from_data(k, attm_dct)\n",
    "            contrib[\"attachments\"].append(attm)\n",
    "        \n",
    "    clean = {k: v for k, v in doc.items() if k[0] != \"_\" and not isinstance(v, datetime)}\n",
    "    raw = Attachment.from_data(\"raw\", clean)\n",
    "    contrib[\"attachments\"].append(raw)\n",
    "        \n",
    "    flat_doc = flatten(clean, max_flatten_depth=2, reducer=\"dot\")\n",
    "    for col, config in columns.items():\n",
    "        value = flat_doc.get(col)\n",
    "        if value:\n",
    "            name, unit = config[\"name\"], config[\"unit\"]\n",
    "            contrib[\"data\"][name] = f\"{value:.3g} {unit}\" if unit else value\n",
    "    \n",
    "    contrib[\"data\"] = unflatten(contrib[\"data\"], splitter=\"dot\")\n",
    "    contributions.append({k: v for k, v in contrib.items() if v})\n",
    "\n",
    "len(contributions)"
   ]
  },
  {
   "cell_type": "code",
   "execution_count": null,
   "id": "persistent-evans",
   "metadata": {},
   "outputs": [],
   "source": [
    "contributions[0][\"data\"]"
   ]
  },
  {
   "cell_type": "code",
   "execution_count": null,
   "id": "special-attack",
   "metadata": {},
   "outputs": [],
   "source": [
    "client.delete_contributions()\n",
    "client.init_columns(columns_map)"
   ]
  },
  {
   "cell_type": "code",
   "execution_count": null,
   "id": "informal-radio",
   "metadata": {},
   "outputs": [],
   "source": [
    "client.submit_contributions(contributions, ignore_dupes=True)\n",
    "client.init_columns(columns_map)"
   ]
  },
  {
   "cell_type": "code",
   "execution_count": null,
   "id": "structural-voluntary",
   "metadata": {},
   "outputs": [],
   "source": [
    "# NOTE query example from different project\n",
    "# Material-screening: find materials with Bi element, spin-orbit spillage >= 0.5,\n",
    "# OptB88vdW bandgaps > 0.01, energy above convex hull < 0.1 eV/atom , and  SLME > 5%\n",
    "query = {\n",
    "    \"formula__contains\": \"Bi\",\n",
    "    \"data__spillage__value__gte\": 0.5,\n",
    "    \"data__bandgaps__OptB88vdW__value__gt\": 0.01,\n",
    "    \"data__energies__hull__value__lt\": 0.1,\n",
    "    \"data__SLME__value__gt\": 5\n",
    "}\n",
    "fields = [\n",
    "    \"identifier\", \"formula\", \"data.spillage.value\", \"data.bandgaps.OptB88vdW.value\",\n",
    "    \"data.energies.hull.value\", \"data.SLME.value\",\n",
    "]\n",
    "contribs = client.query_contributions(query=query, fields=fields, sort=sort, paginate=True)\n",
    "pd.json_normalize(contribs[\"data\"])"
   ]
  }
 ],
 "metadata": {
  "kernelspec": {
   "display_name": "Python 3",
   "language": "python",
   "name": "python3"
  },
  "language_info": {
   "codemirror_mode": {
    "name": "ipython",
    "version": 3
   },
   "file_extension": ".py",
   "mimetype": "text/x-python",
   "name": "python",
   "nbconvert_exporter": "python",
   "pygments_lexer": "ipython3",
   "version": "3.9.1"
  }
 },
 "nbformat": 4,
 "nbformat_minor": 5
}
