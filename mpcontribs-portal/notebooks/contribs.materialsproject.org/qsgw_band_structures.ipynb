{
 "cells": [
  {
   "cell_type": "code",
   "execution_count": null,
   "metadata": {},
   "outputs": [],
   "source": [
    "# - install https://pypi.org/project/mpcontribs-client/\n",
    "# - go to profile.materialsproject.org to get API key\n",
    "# - set environment variable MPCONTRIBS_API_KEY to API key\n",
    "# - more info about client functions in according docstrings\n",
    "from mpcontribs.client import Client\n",
    "name = \"qsgw_band_structures\"\n",
    "client = Client(project=name)"
   ]
  },
  {
   "cell_type": "code",
   "execution_count": null,
   "metadata": {},
   "outputs": [],
   "source": [
    "client.get_project()"
   ]
  },
  {
   "cell_type": "markdown",
   "metadata": {},
   "source": [
    "**Prep contributions**"
   ]
  },
  {
   "cell_type": "code",
   "execution_count": null,
   "metadata": {},
   "outputs": [],
   "source": [
    "contributions = [\n",
    "    {\n",
    "        'identifier': 'mp-1020712', # ZnSiN2\n",
    "        'data': {\n",
    "            'reference': 'https://doi.org/10.1103/PhysRevB.84.165204',\n",
    "            'Γ': {\n",
    "                'ΔE': {\n",
    "                    'indirect': '5.70 eV',\n",
    "                    'direct': '5.92 eV'\n",
    "                },\n",
    "                'VBM': {\n",
    "                    'b₁': '0',\n",
    "                    'a₂': '-20 meV',\n",
    "                    'b₂': '-40 meV',\n",
    "                    'a₁': '-180 meV'\n",
    "                }\n",
    "            }\n",
    "        }\n",
    "    }, {\n",
    "        'identifier': 'mp-2979', # ZnGeN2\n",
    "        'data': {\n",
    "            'reference': 'https://doi.org/10.1103/PhysRevB.84.165204',\n",
    "            'Γ': {\n",
    "                'ΔE': {'direct': '3.60 eV'},\n",
    "                'VBM': {\n",
    "                    'b₁': '0',\n",
    "                    'b₂': '-28 meV',\n",
    "                    'a₁': '-129 meV'\n",
    "                }\n",
    "            }\n",
    "        }\n",
    "    }, {\n",
    "        'identifier': 'mp-1029469', # ZnSnN2\n",
    "        'data': {\n",
    "            'reference': 'https://doi.org/10.1103/PhysRevB.91.205207',\n",
    "            'Γ': {\n",
    "                'ΔE': {'direct': '1.82 eV'},\n",
    "                'VBM': {\n",
    "                    'b₁': '0',\n",
    "                    'b₂': '-188 meV',\n",
    "                    'a₁': '-176 meV'\n",
    "                }\n",
    "            }\n",
    "        }\n",
    "    }, {\n",
    "        'identifier': 'mp-3677', # MgSiN2\n",
    "        'data': {\n",
    "            'reference': 'https://doi.org/10.1103/PhysRevB.94.125201',\n",
    "            'Γ': {\n",
    "                'ΔE': {\n",
    "                    'indirect': '6.08 eV',\n",
    "                    'direct': '6.53 eV',\n",
    "                    'direct3x4x4': '6.30 eV'\n",
    "                }\n",
    "            }\n",
    "        }\n",
    "    }, {\n",
    "        'identifier': 'mp-7798', # MgGeN2\n",
    "        'data': {\n",
    "            'reference': 'https://doi.org/10.1016/j.ssc.2019.113664',\n",
    "            'Γ' : {\n",
    "                'ΔE': {'direct': '4.11 eV'},\n",
    "                'VBM': {\n",
    "                    'b₁': '0',\n",
    "                    'b₂': '-82 meV',\n",
    "                    'a₁': '-238 meV'\n",
    "                }\n",
    "            }\n",
    "        }\n",
    "    }, {\n",
    "        'identifier': 'mp-1029791', # MgSnN2\n",
    "        'data': {\n",
    "            'reference': 'https://doi.org/10.1016/j.ssc.2019.113664',\n",
    "            'Γ' : {\n",
    "                'ΔE': {'direct': '2.28 eV'},\n",
    "                'VBM': {\n",
    "                    'b₁': '0',\n",
    "                    'b₂': '-116 meV',\n",
    "                    'a₁': '-144 meV'\n",
    "                }\n",
    "            }\n",
    "        }\n",
    "    }\n",
    "]"
   ]
  },
  {
   "cell_type": "markdown",
   "metadata": {},
   "source": [
    "**Submit contributions**"
   ]
  },
  {
   "cell_type": "code",
   "execution_count": null,
   "metadata": {},
   "outputs": [],
   "source": [
    "client.delete_contributions()\n",
    "client.submit_contributions(contributions)"
   ]
  },
  {
   "cell_type": "code",
   "execution_count": null,
   "metadata": {},
   "outputs": [],
   "source": [
    "# [optional] initialize columns to explicitly set order, visibility and units\n",
    "client.init_columns(columns={\n",
    "    \"reference\": None,\n",
    "    \"Γ.ΔE.direct\": \"eV\",\n",
    "    \"Γ.ΔE.direct3x4x4\": \"eV\",\n",
    "    \"Γ.ΔE.indirect\": \"eV\",\n",
    "    \"Γ.VBM.a₁\": \"meV\",\n",
    "    \"Γ.VBM.a₂\": \"meV\",\n",
    "    \"Γ.VBM.b₁\": \"\",\n",
    "    \"Γ.VBM.b₂\": \"meV\",\n",
    "})"
   ]
  }
 ],
 "metadata": {
  "kernelspec": {
   "display_name": "Python 3",
   "language": "python",
   "name": "python3"
  },
  "language_info": {
   "codemirror_mode": {
    "name": "ipython",
    "version": 3
   },
   "file_extension": ".py",
   "mimetype": "text/x-python",
   "name": "python",
   "nbconvert_exporter": "python",
   "pygments_lexer": "ipython3",
   "version": "3.9.1"
  }
 },
 "nbformat": 4,
 "nbformat_minor": 2
}
