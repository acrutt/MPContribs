{
 "cells": [
  {
   "cell_type": "code",
   "execution_count": null,
   "metadata": {},
   "outputs": [],
   "source": [
    "from mpcontribs.client import Client\n",
    "client = Client()\n",
    "name = \"qsgw_band_structures\""
   ]
  },
  {
   "cell_type": "markdown",
   "metadata": {},
   "source": [
    "**Retrieve project info**"
   ]
  },
  {
   "cell_type": "code",
   "execution_count": null,
   "metadata": {},
   "outputs": [],
   "source": [
    "client.get_project(name).display()"
   ]
  },
  {
   "cell_type": "markdown",
   "metadata": {},
   "source": [
    "**Create contributions**"
   ]
  },
  {
   "cell_type": "code",
   "execution_count": null,
   "metadata": {},
   "outputs": [],
   "source": [
    "contributions = [\n",
    "    {\n",
    "        'project': name,\n",
    "        'identifier': 'mp-1020712', # ZnSiN2\n",
    "        'data': {\n",
    "            'reference': 'https://doi.org/10.1103/PhysRevB.84.165204',\n",
    "            'Γ': {\n",
    "                'ΔE': {\n",
    "                    'indirect': '5.70 eV',\n",
    "                    'direct': '5.92 eV'\n",
    "                },\n",
    "                'VBM': {\n",
    "                    'b₁': '0',\n",
    "                    'a₂': '-20 meV',\n",
    "                    'b₂': '-40 meV',\n",
    "                    'a₁': '-180 meV'\n",
    "                }\n",
    "            }\n",
    "        }\n",
    "    }, {\n",
    "        'project': name,\n",
    "        'identifier': 'mp-2979', # ZnGeN2\n",
    "        'data': {\n",
    "            'reference': 'https://doi.org/10.1103/PhysRevB.84.165204',\n",
    "            'Γ': {\n",
    "                'ΔE': {'direct': '3.60 eV'},\n",
    "                'VBM': {\n",
    "                    'b₁': '0',\n",
    "                    'b₂': '-28 meV',\n",
    "                    'a₁': '-129 meV'\n",
    "                }\n",
    "            }\n",
    "        }\n",
    "    }, {\n",
    "        'project': name,\n",
    "        'identifier': 'mp-1029469', # ZnSnN2\n",
    "        'data': {\n",
    "            'reference': 'https://doi.org/10.1103/PhysRevB.91.205207',\n",
    "            'Γ': {\n",
    "                'ΔE': {'direct': '1.82 eV'},\n",
    "                'VBM': {\n",
    "                    'b₁': '0',\n",
    "                    'b₂': '-188 meV',\n",
    "                    'a₁': '-176 meV'\n",
    "                }\n",
    "            }\n",
    "        }\n",
    "    }, {\n",
    "        'project': name,\n",
    "        'identifier': 'mp-3677', # MgSiN2\n",
    "        'data': {\n",
    "            'reference': 'https://doi.org/10.1103/PhysRevB.94.125201',\n",
    "            'Γ': {\n",
    "                'ΔE': {\n",
    "                    'indirect': '6.08 eV',\n",
    "                    'direct': '6.53 eV',\n",
    "                    'direct|3x4x4': '6.30 eV'\n",
    "                }\n",
    "            }\n",
    "        }\n",
    "    }, {\n",
    "        'project': name,\n",
    "        'identifier': 'mp-7798', # MgGeN2\n",
    "        'data': {\n",
    "            'reference': 'https://doi.org/10.1016/j.ssc.2019.113664',\n",
    "            'Γ' : {\n",
    "                'ΔE': {'direct': '4.11 eV'},\n",
    "                'VBM': {\n",
    "                    'b₁': '0',\n",
    "                    'b₂': '-82 meV',\n",
    "                    'a₁': '-238 meV'\n",
    "                }\n",
    "            }\n",
    "        }\n",
    "    }, {\n",
    "        'project': name,\n",
    "        'identifier': 'mp-1029791', # MgSnN2\n",
    "        'data': {\n",
    "            'reference': 'https://doi.org/10.1016/j.ssc.2019.113664',\n",
    "            'Γ' : {\n",
    "                'ΔE': {'direct': '2.28 eV'},\n",
    "                'VBM': {\n",
    "                    'b₁': '0',\n",
    "                    'b₂': '-116 meV',\n",
    "                    'a₁': '-144 meV'\n",
    "                }\n",
    "            }\n",
    "        }\n",
    "    }\n",
    "]"
   ]
  },
  {
   "cell_type": "markdown",
   "metadata": {},
   "source": [
    "**Submit contributions**"
   ]
  },
  {
   "cell_type": "code",
   "execution_count": null,
   "metadata": {},
   "outputs": [],
   "source": [
    "client.delete_contributions(name)\n",
    "client.submit_contributions(contributions)"
   ]
  },
  {
   "cell_type": "markdown",
   "metadata": {},
   "source": [
    "**Query contributions**"
   ]
  },
  {
   "cell_type": "code",
   "execution_count": null,
   "metadata": {},
   "outputs": [],
   "source": [
    "query = {\n",
    "    \"project\": name,\n",
    "#     \"identifier\": \"mp-2979\",\n",
    "#     \"formula__contains\": \"Mg\",\n",
    "#     \"_order_by\": \"data__Γ__VBM__a₁__value\",\n",
    "#     \"order\": \"desc\",\n",
    "    \"data__Γ__VBM__a₁__value__lte\": -200,\n",
    "    \"_fields\": [\"id\", \"identifier\", \"formula\", \"data.Γ.VBM.a₁.value\"]\n",
    "}\n",
    "client.contributions.get_entries(**query).result()"
   ]
  }
 ],
 "metadata": {
  "kernelspec": {
   "display_name": "Python 3",
   "language": "python",
   "name": "python3"
  },
  "language_info": {
   "codemirror_mode": {
    "name": "ipython",
    "version": 3
   },
   "file_extension": ".py",
   "mimetype": "text/x-python",
   "name": "python",
   "nbconvert_exporter": "python",
   "pygments_lexer": "ipython3",
   "version": "3.8.3"
  }
 },
 "nbformat": 4,
 "nbformat_minor": 2
}
