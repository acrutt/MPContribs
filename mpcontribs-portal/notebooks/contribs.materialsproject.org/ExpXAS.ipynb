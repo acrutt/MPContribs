{
 "cells": [
  {
   "cell_type": "code",
   "execution_count": null,
   "id": "hollow-hunger",
   "metadata": {},
   "outputs": [],
   "source": [
    "from mpcontribs.client import Client\n",
    "from pathlib import Path\n",
    "from pandas import read_csv\n",
    "import pandas as pd\n",
    "import numpy as np"
   ]
  },
  {
   "cell_type": "code",
   "execution_count": null,
   "id": "afraid-namibia",
   "metadata": {},
   "outputs": [],
   "source": [
    "name = \"ExpXAS\"\n",
    "client = Client()  # NOTE: set MPCONTRIBS_API_KEY env var"
   ]
  },
  {
   "cell_type": "code",
   "execution_count": null,
   "id": "stupid-suffering",
   "metadata": {},
   "outputs": [],
   "source": [
    "indir = Path(\"/Users/patrick/GoogleDriveLBNL/MaterialsProject/gitrepos/mpcontribs-data/ExpXAS\")\n",
    "ref_path = indir / \"reference.data\"\n",
    "spec_path = indir / \"spectrum.mu\""
   ]
  },
  {
   "cell_type": "code",
   "execution_count": null,
   "id": "spectacular-showcase",
   "metadata": {},
   "outputs": [],
   "source": [
    "# add project-wide meta data to \"Other Info\" dropdown\n",
    "client.projects.update_entry(\n",
    "    pk=name, project={\"other\": {\n",
    "        'facility': 'NSLS-II',\n",
    "        'beamline': 'ISS (8-ID)',\n",
    "    }}\n",
    ").result()"
   ]
  },
  {
   "cell_type": "code",
   "execution_count": null,
   "id": "artificial-storm",
   "metadata": {},
   "outputs": [],
   "source": [
    "index = \"energy [eV]\"\n",
    "ref = read_csv(ref_path, sep=\" \", skiprows=[0, 1], index_col=0, names=[index, \"reference\"])\n",
    "spec = read_csv(spec_path, sep=\" \", skiprows=[0, 1], index_col=0, names=[index, \"spectrum\"])"
   ]
  },
  {
   "cell_type": "code",
   "execution_count": null,
   "id": "caroline-taxation",
   "metadata": {},
   "outputs": [],
   "source": [
    "df = pd.concat([ref, spec], axis=1)\n",
    "df.columns.name = \"type\"\n",
    "df.attrs[\"title\"] = \"Fe XAS\"\n",
    "df.attrs[\"labels\"] = {\"value\": \"flattened normalized μ(E)\"}    \n",
    "df.attrs[\"name\"] = \"Fe-XAS\""
   ]
  },
  {
   "cell_type": "code",
   "execution_count": null,
   "id": "protecting-event",
   "metadata": {},
   "outputs": [],
   "source": [
    "# will probably need to iterate on \"data\" depending on how a contribution is uniquely identified\n",
    "# within a project and whether there'll be XAS spectra for multiple elements in the same contribution\n",
    "contribution = {\n",
    "    \"project\": name,\n",
    "    \"identifier\": \"mp-1279742\",  # assign to mp-id or use custom identifier?\n",
    "    \"data\": {\n",
    "        'meta': {\n",
    "            'year': 2020,\n",
    "            'cycle': 1,\n",
    "            'SAF': 304823,\n",
    "            'proposal': 305112,\n",
    "            'PI': 'M. Liu',\n",
    "        },\n",
    "        'measurement': {\n",
    "            'method': 'XAS',\n",
    "            'name': 'FeO',\n",
    "            'composition': 'Fe',\n",
    "            'element': 'Fe',\n",
    "            'edge': 'K',\n",
    "            'E₀': '7112 eV',  # submit numbers with units as space-separated strings\n",
    "            'scanID': 77303,\n",
    "            'UID': 'de753795-be14-402e-9a3f-5089a44ff67c',  # could be linked to BNL raw data\n",
    "        },\n",
    "        'time': {\n",
    "            'start': '01/31/2020  17:20:43',  # TODO parse as datetime\n",
    "            'stop': '01/31/2020  17:21:44',\n",
    "            'total': '1 h'\n",
    "        }        \n",
    "    },\n",
    "    \"tables\": [df]\n",
    "}"
   ]
  },
  {
   "cell_type": "code",
   "execution_count": null,
   "id": "outer-monster",
   "metadata": {},
   "outputs": [],
   "source": [
    "client.delete_contributions(name)\n",
    "client.submit_contributions([contribution])"
   ]
  },
  {
   "cell_type": "code",
   "execution_count": null,
   "id": "original-hollywood",
   "metadata": {},
   "outputs": [],
   "source": [
    "cid = client.contributions.get_entries(\n",
    "    project=name, _fields=[\"id\", \"identifier\"]\n",
    ").result()[\"data\"][0][\"id\"]"
   ]
  },
  {
   "cell_type": "code",
   "execution_count": null,
   "id": "characteristic-latin",
   "metadata": {},
   "outputs": [],
   "source": [
    "contrib = client.get_contribution(cid)"
   ]
  },
  {
   "cell_type": "code",
   "execution_count": null,
   "id": "indonesian-wisconsin",
   "metadata": {},
   "outputs": [],
   "source": [
    "tid = contrib[\"tables\"][0][\"id\"]\n",
    "table = client.get_table(tid)  # pandas DataFrame"
   ]
  },
  {
   "cell_type": "code",
   "execution_count": null,
   "id": "outer-aside",
   "metadata": {},
   "outputs": [],
   "source": [
    "table.display()"
   ]
  }
 ],
 "metadata": {
  "kernelspec": {
   "display_name": "Python 3",
   "language": "python",
   "name": "python3"
  },
  "language_info": {
   "codemirror_mode": {
    "name": "ipython",
    "version": 3
   },
   "file_extension": ".py",
   "mimetype": "text/x-python",
   "name": "python",
   "nbconvert_exporter": "python",
   "pygments_lexer": "ipython3",
   "version": "3.9.1"
  }
 },
 "nbformat": 4,
 "nbformat_minor": 5
}
