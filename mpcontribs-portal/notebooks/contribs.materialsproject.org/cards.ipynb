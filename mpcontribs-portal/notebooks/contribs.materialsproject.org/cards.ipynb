{
 "cells": [
  {
   "cell_type": "code",
   "execution_count": null,
   "id": "single-daughter",
   "metadata": {},
   "outputs": [],
   "source": [
    "from mpcontribs.client import Client\n",
    "from collections import defaultdict"
   ]
  },
  {
   "cell_type": "code",
   "execution_count": null,
   "id": "still-variable",
   "metadata": {},
   "outputs": [],
   "source": [
    "client = Client()  # initiate with headers/get_consumer on server"
   ]
  },
  {
   "cell_type": "code",
   "execution_count": null,
   "id": "classified-census",
   "metadata": {},
   "outputs": [],
   "source": [
    "COMPONENTS = [\"data\", \"tables\", \"structures\", \"attachments\"] # supported contribution components\n",
    "identifier = \"mp-2715\"  # \"mp-6340\""
   ]
  },
  {
   "cell_type": "markdown",
   "id": "advance-guide",
   "metadata": {},
   "source": [
    "# initial requests on detail page load"
   ]
  },
  {
   "cell_type": "code",
   "execution_count": null,
   "id": "recorded-litigation",
   "metadata": {},
   "outputs": [],
   "source": [
    "# get all contribution IDs for this identifier\n",
    "all_ids = client.get_all_ids({\"identifier\": identifier})"
   ]
  },
  {
   "cell_type": "code",
   "execution_count": null,
   "id": "hydraulic-treaty",
   "metadata": {},
   "outputs": [],
   "source": [
    "# basic project info for all projects\n",
    "names = list(all_ids.keys())\n",
    "projects = client.projects.get_entries(\n",
    "    name__in=names, _fields=[\"name\", \"long_title\", \"authors\", \"description\", \"references\"]\n",
    ").result()"
   ]
  },
  {
   "cell_type": "code",
   "execution_count": null,
   "id": "heated-wrestling",
   "metadata": {},
   "outputs": [],
   "source": [
    "projects#[\"total_count\"]  # total number of projects for this identifier"
   ]
  },
  {
   "cell_type": "markdown",
   "id": "legislative-jacket",
   "metadata": {},
   "source": [
    "# click on \"Contributions\" for a specific project"
   ]
  },
  {
   "cell_type": "code",
   "execution_count": null,
   "id": "popular-confidence",
   "metadata": {},
   "outputs": [],
   "source": [
    "name = \"carrier_transport\" #names[0]  # selected project\n",
    "ids = list(all_ids[name][\"ids\"]) # list of contribution ObjectIDs"
   ]
  },
  {
   "cell_type": "code",
   "execution_count": null,
   "id": "familiar-style",
   "metadata": {},
   "outputs": [],
   "source": [
    "# retrieve legend (\"other\") and list of potential columns\n",
    "info = client.projects.get_entry(pk=name, _fields=[\"other\", \"columns\"]).result()\n",
    "# if set, use info[\"other\"] to show legend explaining columns\n",
    "info[\"other\"]"
   ]
  },
  {
   "cell_type": "code",
   "execution_count": null,
   "id": "pharmaceutical-seeker",
   "metadata": {},
   "outputs": [],
   "source": [
    "info[\"columns\"]"
   ]
  },
  {
   "cell_type": "code",
   "execution_count": null,
   "id": "specialized-macro",
   "metadata": {},
   "outputs": [],
   "source": [
    "data_columns = {} # potential data columns in dot-notation and their units\n",
    "root_data_columns = defaultdict(set) # potential root-level data columns and their (list of) unit(s)\n",
    "has_component = {c: False for c in COMPONENTS}  # potentially available components\n",
    "\n",
    "for column in info[\"columns\"]:\n",
    "    path, unit = column[\"path\"], column[\"unit\"]\n",
    "    if path.startswith(\"data.\"):\n",
    "        column = path.split(\".\", 1)[1]\n",
    "        clean_unit = None if unit == \"NaN\" else unit\n",
    "        data_columns[column] = clean_unit\n",
    "        root = column.split(\".\", 1)[0]\n",
    "        root_data_columns[root].add(clean_unit)\n",
    "        has_component[\"data\"] = True\n",
    "    elif path in COMPONENTS[1:]:\n",
    "        has_component[path] = True"
   ]
  },
  {
   "cell_type": "code",
   "execution_count": null,
   "id": "blind-arlington",
   "metadata": {},
   "outputs": [],
   "source": [
    "has_component"
   ]
  },
  {
   "cell_type": "markdown",
   "id": "latin-springfield",
   "metadata": {},
   "source": [
    "## select specific contribution"
   ]
  },
  {
   "cell_type": "code",
   "execution_count": null,
   "id": "czech-papua",
   "metadata": {},
   "outputs": [],
   "source": [
    "cid = ids[0]\n",
    "# use has_component to show list of potentially available contribution components\n",
    "has_component"
   ]
  },
  {
   "cell_type": "markdown",
   "id": "designed-worthy",
   "metadata": {},
   "source": [
    "### click on \"Data\" component"
   ]
  },
  {
   "cell_type": "code",
   "execution_count": null,
   "id": "flush-deadline",
   "metadata": {},
   "outputs": [],
   "source": [
    "# use root_data_columns to show a list of root-level columns and their unit(s)\n",
    "root_data_columns"
   ]
  },
  {
   "cell_type": "markdown",
   "id": "greek-brick",
   "metadata": {},
   "source": [
    "#### click on root-level data column"
   ]
  },
  {
   "cell_type": "code",
   "execution_count": null,
   "id": "mounted-expense",
   "metadata": {},
   "outputs": [],
   "source": [
    "# retrieve full sub-tree of values for the selected root data column\n",
    "root_column = \"PF\" # list(root_data_columns.keys())[0]\n",
    "fields = [\n",
    "    f\"data.{col}\" if unit is None else f\"data.{col}.display\"\n",
    "    for col, unit in data_columns.items() \n",
    "    if col.startswith(root_column)\n",
    "]\n",
    "resp = client.contributions.get_entry(pk=cid, _fields=fields).result()"
   ]
  },
  {
   "cell_type": "code",
   "execution_count": null,
   "id": "stable-rotation",
   "metadata": {},
   "outputs": [],
   "source": [
    "resp  # use this to display values for requested contribution root data column"
   ]
  },
  {
   "cell_type": "markdown",
   "id": "frank-oklahoma",
   "metadata": {},
   "source": [
    "### click on \"Tables\" component"
   ]
  },
  {
   "cell_type": "code",
   "execution_count": null,
   "id": "characteristic-yeast",
   "metadata": {},
   "outputs": [],
   "source": [
    "component = \"tables\"\n",
    "resp = client.contributions.get_entry(pk=cid, _fields=[component]).result()"
   ]
  },
  {
   "cell_type": "code",
   "execution_count": null,
   "id": "outer-prior",
   "metadata": {},
   "outputs": [],
   "source": [
    "resp[component] # use this to show list of available tables (and table ObjectIDs)"
   ]
  },
  {
   "cell_type": "markdown",
   "id": "architectural-morgan",
   "metadata": {},
   "source": [
    "#### preview specific table"
   ]
  },
  {
   "cell_type": "code",
   "execution_count": null,
   "id": "undefined-speaker",
   "metadata": {},
   "outputs": [],
   "source": [
    "tid = resp[component][0][\"id\"]\n",
    "fields = [\"id\", \"name\", \"md5\", \"attrs\", \"columns\", \"total_data_rows\"]\n",
    "client.tables.get_entry(pk=tid, _fields=fields).result()"
   ]
  },
  {
   "cell_type": "markdown",
   "id": "level-withdrawal",
   "metadata": {},
   "source": [
    "#### download specific table"
   ]
  },
  {
   "cell_type": "code",
   "execution_count": null,
   "id": "champion-judges",
   "metadata": {},
   "outputs": [],
   "source": [
    "# href to download URL\n",
    "print(f\"https://contribs.materialsproject.org/contributions/component/{tid}\")"
   ]
  },
  {
   "cell_type": "markdown",
   "id": "korean-myanmar",
   "metadata": {},
   "source": [
    "#### (optional/future) visualize table"
   ]
  },
  {
   "cell_type": "code",
   "execution_count": null,
   "id": "vertical-arena",
   "metadata": {},
   "outputs": [],
   "source": [
    "table = client.get_table(tid)\n",
    "table"
   ]
  },
  {
   "cell_type": "code",
   "execution_count": null,
   "id": "great-massage",
   "metadata": {},
   "outputs": [],
   "source": [
    "table.display()"
   ]
  },
  {
   "cell_type": "code",
   "execution_count": null,
   "id": "employed-terminal",
   "metadata": {},
   "outputs": [],
   "source": [
    "resp = client.contributions.get_entry(pk=cid, _fields=[\"notebook\"]).result()\n",
    "nid = resp[\"notebook\"][\"id\"]"
   ]
  },
  {
   "cell_type": "code",
   "execution_count": null,
   "id": "satisfactory-craps",
   "metadata": {},
   "outputs": [],
   "source": [
    "nb = client.notebooks.get_entry(pk=nid, _fields=[\"_all\"]).result()"
   ]
  },
  {
   "cell_type": "code",
   "execution_count": null,
   "id": "protective-ecology",
   "metadata": {},
   "outputs": [],
   "source": [
    "from base64 import b64decode\n",
    "from IPython.display import Image"
   ]
  },
  {
   "cell_type": "code",
   "execution_count": null,
   "id": "straight-syria",
   "metadata": {},
   "outputs": [],
   "source": [
    "img = b64decode(nb[\"cells\"][4][\"outputs\"][0][\"data\"][\"image/png\"], validate=True)"
   ]
  },
  {
   "cell_type": "code",
   "execution_count": null,
   "id": "classical-gibraltar",
   "metadata": {},
   "outputs": [],
   "source": [
    "Image(img)"
   ]
  }
 ],
 "metadata": {
  "kernelspec": {
   "display_name": "Python 3",
   "language": "python",
   "name": "python3"
  },
  "language_info": {
   "codemirror_mode": {
    "name": "ipython",
    "version": 3
   },
   "file_extension": ".py",
   "mimetype": "text/x-python",
   "name": "python",
   "nbconvert_exporter": "python",
   "pygments_lexer": "ipython3",
   "version": "3.9.1"
  }
 },
 "nbformat": 4,
 "nbformat_minor": 5
}
