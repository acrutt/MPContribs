{
 "cells": [
  {
   "cell_type": "code",
   "execution_count": null,
   "id": "9472aebe-b049-47da-95ac-9830c0550087",
   "metadata": {},
   "outputs": [],
   "source": [
    "import gzip\n",
    "from monty.json import MontyDecoder\n",
    "from ujson import load\n",
    "from pymatgen.core.structure import Molecule, Structure\n",
    "from pathlib import Path\n",
    "from time import time\n",
    "from mpcontribs.client import Client\n",
    "from tqdm.auto import tqdm"
   ]
  },
  {
   "cell_type": "code",
   "execution_count": null,
   "id": "ac064a36-4021-48f9-80a0-d93b1e5287fe",
   "metadata": {},
   "outputs": [],
   "source": [
    "name = \"open_catalyst_project\"\n",
    "client = Client()"
   ]
  },
  {
   "cell_type": "code",
   "execution_count": null,
   "id": "06d5381e-1093-4597-b40e-89a3fa147d65",
   "metadata": {},
   "outputs": [],
   "source": [
    "p = Path(\"/Users/patrick/is2res_train/is2res_train\")\n",
    "jsons = list(p.glob(\"*.json.gz\"))"
   ]
  },
  {
   "cell_type": "code",
   "execution_count": null,
   "id": "cddad6a7-7c16-460e-b351-46e80bb601de",
   "metadata": {},
   "outputs": [],
   "source": [
    "decoder = MontyDecoder()\n",
    "\n",
    "def get_contribution(path):\n",
    "    \n",
    "    if path.stat().st_size / 1024 / 1024 > 10:\n",
    "        return None\n",
    "    \n",
    "    with gzip.open(path) as f:\n",
    "        data = decoder.process_decoded(load(f))\n",
    "    \n",
    "    struct = data['trajectory'][-1]\n",
    "    struct.add_site_property('tags', [int(t) for t in data['tags']])\n",
    "\n",
    "    mol = Molecule.from_sites([site for site in struct if site.properties['tags'] == 2])\n",
    "    iupac_formula = mol.composition.iupac_formula\n",
    "    bulk_struct = Structure.from_sites([site for site in struct if site.properties['tags'] != 2])\n",
    "    bulk_formula = bulk_struct.composition.reduced_formula\n",
    "\n",
    "    search_data = {\n",
    "        \"mpid\": data['bulk_id'],\n",
    "        \"adsorptionEnergy\": data[\"adsorption_energy\"],\n",
    "        \"adsorbateSmiles\": data[\"adsorbate_smiles\"],\n",
    "        \"adsorbateIUPACFormula\": iupac_formula,\n",
    "        \"bulkFormula\": bulk_formula,\n",
    "        \"h\": data[\"surface_miller_indices\"][0],\n",
    "        \"k\": data[\"surface_miller_indices\"][1],\n",
    "        \"l\": data[\"surface_miller_indices\"][2],\n",
    "        \"surfaceTop\": data[\"surface_top\"],\n",
    "        \"surfaceShift\": data[\"surface_shift\"]\n",
    "    }\n",
    "\n",
    "    return {\n",
    "        \"project\": name,\n",
    "        \"formula\": struct.composition.reduced_formula,\n",
    "        \"identifier\": data[\"id\"],\n",
    "        \"data\": search_data,\n",
    "        \"structures\": [struct],\n",
    "        \"attachments\": [path]\n",
    "    }"
   ]
  },
  {
   "cell_type": "code",
   "execution_count": null,
   "id": "joint-interim",
   "metadata": {},
   "outputs": [],
   "source": [
    "client.get_totals({\"project\": name})"
   ]
  },
  {
   "cell_type": "code",
   "execution_count": null,
   "id": "treated-heaven",
   "metadata": {},
   "outputs": [],
   "source": [
    "all_ids = client.get_all_ids({\"project\": name}).get(name, {}).get(\"identifiers\", set())\n",
    "print(len(all_ids))\n",
    "\n",
    "contributions, cnt = [], 0\n",
    "\n",
    "for path in tqdm(jsons):\n",
    "    if Path(path.stem).stem not in all_ids:\n",
    "        contrib = get_contribution(path)\n",
    "        if not contrib:\n",
    "            continue\n",
    "            \n",
    "        contributions.append(contrib)\n",
    "        cnt += 1\n",
    "        \n",
    "        if not cnt % 5:\n",
    "            client.submit_contributions(\n",
    "                contributions, per_request=10,\n",
    "                ignore_dupes=True, skip_dupe_check=True, retry=True\n",
    "            )\n",
    "            contributions.clear()\n",
    "            \n",
    "print(cnt)"
   ]
  }
 ],
 "metadata": {
  "kernelspec": {
   "display_name": "Python 3",
   "language": "python",
   "name": "python3"
  },
  "language_info": {
   "codemirror_mode": {
    "name": "ipython",
    "version": 3
   },
   "file_extension": ".py",
   "mimetype": "text/x-python",
   "name": "python",
   "nbconvert_exporter": "python",
   "pygments_lexer": "ipython3",
   "version": "3.9.1"
  }
 },
 "nbformat": 4,
 "nbformat_minor": 5
}
