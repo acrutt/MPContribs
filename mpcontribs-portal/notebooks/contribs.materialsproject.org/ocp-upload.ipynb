{
 "cells": [
  {
   "cell_type": "code",
   "execution_count": null,
   "id": "9472aebe-b049-47da-95ac-9830c0550087",
   "metadata": {},
   "outputs": [],
   "source": [
    "from monty.serialization import loadfn\n",
    "from json import loads\n",
    "from pymatgen.core.structure import Molecule, Structure\n",
    "from pathlib import Path\n",
    "from time import time\n",
    "from mpcontribs.client import Client"
   ]
  },
  {
   "cell_type": "code",
   "execution_count": null,
   "id": "ac064a36-4021-48f9-80a0-d93b1e5287fe",
   "metadata": {},
   "outputs": [],
   "source": [
    "name = \"open_catalyst_project\"\n",
    "client = Client()"
   ]
  },
  {
   "cell_type": "markdown",
   "id": "endless-report",
   "metadata": {},
   "source": [
    "**prep contributions**"
   ]
  },
  {
   "cell_type": "code",
   "execution_count": null,
   "id": "06d5381e-1093-4597-b40e-89a3fa147d65",
   "metadata": {},
   "outputs": [],
   "source": [
    "p = Path(\"/Users/patrick/GoogleDriveLBNL/MaterialsProject/gitrepos/mpcontribs-data/ocp-sample\")\n",
    "jsons = list(p.glob(\"*.json.gz\"))"
   ]
  },
  {
   "cell_type": "code",
   "execution_count": null,
   "id": "cddad6a7-7c16-460e-b351-46e80bb601de",
   "metadata": {},
   "outputs": [],
   "source": [
    "def get_contribution(path):\n",
    "    data = loadfn(path)\n",
    "    struct = data['trajectory'][-1]\n",
    "    struct.add_site_property('tags', [int(t) for t in data['tags']])\n",
    "\n",
    "    mol = Molecule.from_sites([site for site in struct if site.properties['tags'] == 2])\n",
    "    iupac_formula = mol.composition.iupac_formula\n",
    "    bulk_struct = Structure.from_sites([site for site in struct if site.properties['tags'] != 2])\n",
    "    bulk_formula = bulk_struct.composition.reduced_formula\n",
    "\n",
    "    search_data = {\n",
    "        \"mpid\": data['bulk_id'],\n",
    "        \"adsorptionEnergy\": data[\"adsorption_energy\"],\n",
    "        \"adsorbateSmiles\": data[\"adsorbate_smiles\"],\n",
    "        \"adsorbateIUPACFormula\": iupac_formula,\n",
    "        \"bulkFormula\": bulk_formula,\n",
    "        \"h\": data[\"surface_miller_indices\"][0],\n",
    "        \"k\": data[\"surface_miller_indices\"][1],\n",
    "        \"l\": data[\"surface_miller_indices\"][2],\n",
    "        \"surfaceTop\": data[\"surface_top\"],\n",
    "        \"surfaceShift\": data[\"surface_shift\"]\n",
    "    }\n",
    "\n",
    "    return {\n",
    "        \"project\": name,\n",
    "        \"formula\": struct.composition.reduced_formula,\n",
    "        \"identifier\": data[\"id\"],\n",
    "        \"data\": search_data,\n",
    "        \"structures\": [struct],\n",
    "        \"attachments\": [path]\n",
    "    }"
   ]
  },
  {
   "cell_type": "code",
   "execution_count": null,
   "id": "joint-interim",
   "metadata": {},
   "outputs": [],
   "source": [
    "client.get_totals({\"project\": name})"
   ]
  },
  {
   "cell_type": "code",
   "execution_count": null,
   "id": "8bed6419-2a6e-4d25-9118-bf5ad2890fa3",
   "metadata": {},
   "outputs": [],
   "source": [
    "all_ids = client.get_all_ids({\"project\": name}).get(name, {}).get(\"identifiers\", set())\n",
    "len(all_ids)"
   ]
  },
  {
   "cell_type": "code",
   "execution_count": null,
   "id": "treated-heaven",
   "metadata": {},
   "outputs": [],
   "source": [
    "contributions = [get_contribution(path) for path in jsons if Path(path.stem).stem not in all_ids]\n",
    "len(contributions)"
   ]
  },
  {
   "cell_type": "markdown",
   "id": "incorporate-colors",
   "metadata": {},
   "source": [
    "**submit contributions**"
   ]
  },
  {
   "cell_type": "code",
   "execution_count": null,
   "id": "8c29365f-0243-4a01-bd5c-a03c1aa528d3",
   "metadata": {},
   "outputs": [],
   "source": [
    "client.submit_contributions(contributions)"
   ]
  }
 ],
 "metadata": {
  "kernelspec": {
   "display_name": "Python 3",
   "language": "python",
   "name": "python3"
  },
  "language_info": {
   "codemirror_mode": {
    "name": "ipython",
    "version": 3
   },
   "file_extension": ".py",
   "mimetype": "text/x-python",
   "name": "python",
   "nbconvert_exporter": "python",
   "pygments_lexer": "ipython3",
   "version": "3.9.1"
  }
 },
 "nbformat": 4,
 "nbformat_minor": 5
}
