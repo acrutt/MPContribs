{
 "cells": [
  {
   "cell_type": "code",
   "execution_count": null,
   "id": "vocal-equation",
   "metadata": {},
   "outputs": [],
   "source": [
    "from pandas import read_csv\n",
    "from mpcontribs.client import Client\n",
    "from io import StringIO"
   ]
  },
  {
   "cell_type": "code",
   "execution_count": null,
   "id": "ordered-prairie",
   "metadata": {},
   "outputs": [],
   "source": [
    "name = \"bioi_defects\"\n",
    "client = Client()"
   ]
  },
  {
   "cell_type": "code",
   "execution_count": null,
   "id": "preceding-project",
   "metadata": {},
   "outputs": [],
   "source": [
    "client.get_project(name)"
   ]
  },
  {
   "cell_type": "code",
   "execution_count": null,
   "id": "alpha-personal",
   "metadata": {},
   "outputs": [],
   "source": [
    "df1 = read_csv(StringIO(\"\"\"\n",
    "BiOI thickness [nm],Peak EQE [%],Integrated J|SC [mA/cm²],Measured J|SC [mA/cm²], Average J|SC [mA/cm²]\n",
    "440,79.5,6.4,6.2,5.5\n",
    "570,80.2,6.4,5.8,5.6\n",
    "720,72.6,6.5,6.6,6.3\n",
    "1090,46.4,3.5,3.9,4.0\n",
    "1670,17.6,1.3,0.6,0.4\n",
    "\"\"\"))\n",
    "df1.set_index(\"BiOI thickness [nm]\", inplace=True)\n",
    "df1.attrs[\"name\"] = \"Currents vs BiOI thickness\"\n",
    "\n",
    "df2 = read_csv(StringIO(\"\"\"\n",
    "layer,VB-Eᶠ [eV],WF [eV],VB [eV],Eᵍ [eV],CB [eV]\n",
    "NiOₓ on ITO,0.6,4.8,5.4,3.6,1.8\n",
    "220 nm BiOI on NiOₓ|ITO,1.3,4.6,5.9,1.9,4.0\n",
    "440 nm BiOI on NiOₓ|ITO,1.1,5.0,6.1,1.9,4.2\n",
    "720 nm BiOI on NiOₓ|ITO,0.9,5.1,6.0,1.9,4.1\n",
    "ZnO on BiOI|NiOₓ|ITO,2.8,4.5,7.3,3.5,3.8\n",
    "\"\"\"))\n",
    "df2.set_index(\"layer\", inplace=True)\n",
    "df2.attrs[\"name\"] = \"Voltages vs layer\""
   ]
  },
  {
   "cell_type": "code",
   "execution_count": null,
   "id": "closing-expense",
   "metadata": {},
   "outputs": [],
   "source": [
    "contributions = [{\n",
    "    \"project\": name, \"identifier\": \"mp-22987\", \"is_public\": True,\n",
    "    \"data\": {\n",
    "        \"rev\": {\"J\": \"6.3 mA/cm²\", \"V\": \"0.75 V\", \"FF\": \"39 %\", \"PCE\": \"1.79 %\"},\n",
    "        \"fwd\": {\"J\": \"6.3 mA/cm²\", \"V\": \"0.75 V\", \"FF\": \"37 %\", \"PCE\": \"1.74 %\"},\n",
    "    },\n",
    "    \"tables\": [df1, df2]\n",
    "}]"
   ]
  },
  {
   "cell_type": "code",
   "execution_count": null,
   "id": "valid-sauce",
   "metadata": {},
   "outputs": [],
   "source": [
    "client.submit_contributions(contributions)"
   ]
  }
 ],
 "metadata": {
  "kernelspec": {
   "display_name": "Python 3",
   "language": "python",
   "name": "python3"
  },
  "language_info": {
   "codemirror_mode": {
    "name": "ipython",
    "version": 3
   },
   "file_extension": ".py",
   "mimetype": "text/x-python",
   "name": "python",
   "nbconvert_exporter": "python",
   "pygments_lexer": "ipython3",
   "version": "3.9.1"
  }
 },
 "nbformat": 4,
 "nbformat_minor": 5
}
