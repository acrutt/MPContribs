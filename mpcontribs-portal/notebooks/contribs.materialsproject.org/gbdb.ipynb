{
 "cells": [
  {
   "cell_type": "code",
   "execution_count": null,
   "id": "qualified-storage",
   "metadata": {},
   "outputs": [],
   "source": [
    "# make sure to use mpcontribs-client>=5.4.0\n",
    "import hashlib\n",
    "import pandas as pd\n",
    "from pathlib import Path\n",
    "from mpcontribs.client import Client, Attachment\n",
    "from pymatgen.core import Structure\n",
    "from pymatgen.io.lammps.outputs import parse_lammps_dumps\n",
    "from flatten_dict import unflatten"
   ]
  },
  {
   "cell_type": "code",
   "execution_count": null,
   "id": "minus-stroke",
   "metadata": {},
   "outputs": [],
   "source": [
    "client = Client(project=\"gbdb\") # set your API key via the `apikey` keyword argument"
   ]
  },
  {
   "cell_type": "markdown",
   "id": "flush-williams",
   "metadata": {},
   "source": [
    "### add legend to project info"
   ]
  },
  {
   "cell_type": "code",
   "execution_count": null,
   "id": "earned-charity",
   "metadata": {},
   "outputs": [],
   "source": [
    "# add legend in `other`\n",
    "other = {\n",
    "    \"element\": \"element\",\n",
    "    \"indices\": \"hkl indices\",\n",
    "    \"boundary\": \"boundary type - tilt or twist\",\n",
    "    \"energy\": \"grain boundary energy in J/m2\",\n",
    "    \"n\": \"planar density parameter\",\n",
    "    \"translation\": \"amount of horizontal translation of top slab in x/y direction in Å\",\n",
    "    \"repetitions\": \"number of repetitions of the base structure in x/y direction\",\n",
    "    \"temperature\": \"temperature of MD simulation in Kelvin\",\n",
    "    \"steps\": \"number of steps of MD simulation\",\n",
    "    \"potential\": \"classical potential used\"\n",
    "}\n",
    "client.update_project({\"other\": other})"
   ]
  },
  {
   "cell_type": "markdown",
   "id": "continent-friendship",
   "metadata": {},
   "source": [
    "### Submit Data"
   ]
  },
  {
   "cell_type": "code",
   "execution_count": null,
   "id": "technical-career",
   "metadata": {},
   "outputs": [],
   "source": [
    "# initialize columns\n",
    "columns = {\n",
    "    \"element\": None, # string\n",
    "    \"indices.h\": \"\", # dimensionless\n",
    "    \"indices.k\": \"\",\n",
    "    \"indices.l\": \"\",\n",
    "    \"boundary\": None,\n",
    "    \"energy\": \"J/m²\",\n",
    "    \"n\": \"\",\n",
    "    \"translation.x\": \"Å\",\n",
    "    \"translation.y\": \"Å\",\n",
    "    \"repetitions.x\": \"\",\n",
    "    \"repetitions.y\": \"\",\n",
    "    \"temperature\": \"K\",\n",
    "    \"steps\": \"\",\n",
    "    \"potential\": None\n",
    "}\n",
    "client.init_columns(columns)"
   ]
  },
  {
   "cell_type": "code",
   "execution_count": null,
   "id": "geological-estonia",
   "metadata": {},
   "outputs": [],
   "source": [
    "# function to convert lammps dump to pymatgen structure\n",
    "def get_structure(elem, path):\n",
    "    dump = next(parse_lammps_dumps(str(path)))\n",
    "    lat = dump.box.to_lattice()\n",
    "    spec = [elem for i in range(dump.natoms)]\n",
    "    df = dump.data.copy()\n",
    "    df.drop(df.tail(1).index, inplace=True)\n",
    "    pos = df[['x', 'y', 'z']].to_numpy()\n",
    "    return Structure(lattice=lat, species=spec, coords=pos, coords_are_cartesian=True)"
   ]
  },
  {
   "cell_type": "code",
   "execution_count": null,
   "id": "fifty-management",
   "metadata": {},
   "outputs": [],
   "source": [
    "# prep contributions\n",
    "contributions = []\n",
    "indir = Path(\"/Users/patrick/GoogleDriveLBNL/My Drive/MaterialsProject/gitrepos/mpcontribs-data/gbdb\")\n",
    "keys = list(k for k in columns.keys() if not k.startswith(\"indices\"))\n",
    "keys.insert(1, \"indices\")\n",
    "\n",
    "for path in indir.glob(\"lammps_*\"):\n",
    "    identifier = hashlib.md5(path.name.encode(\"utf-8\")).hexdigest()\n",
    "    contrib = {\"identifier\": identifier, \"data\": {}}\n",
    "    \n",
    "    for idx, part in enumerate(path.name.split(\"_\")[1:]):\n",
    "        if idx == 1:\n",
    "            contrib[\"data\"][\"indices\"] = {k: int(v) for k, v in zip(\"hkl\", part)}\n",
    "        else:\n",
    "            key = keys[idx]\n",
    "            unit = columns[key]\n",
    "            contrib[\"data\"][key] = f\"{part} {unit}\" if unit else part\n",
    "    \n",
    "    contrib[\"data\"] = unflatten(contrib[\"data\"], splitter=\"dot\")\n",
    "    structure = get_structure(contrib[\"data\"][\"element\"], path)\n",
    "    contrib[\"formula\"] = structure.composition.reduced_formula\n",
    "    contrib[\"structures\"] = [structure]\n",
    "    contrib[\"attachments\"] = [Attachment.from_textfile(path)]\n",
    "    contributions.append(contrib)\n",
    "\n",
    "\n",
    "contributions[0]"
   ]
  },
  {
   "cell_type": "code",
   "execution_count": null,
   "id": "hydraulic-passage",
   "metadata": {},
   "outputs": [],
   "source": [
    "# delete contributions and reinit columns, if needed\n",
    "client.delete_contributions()\n",
    "client.init_columns(columns)"
   ]
  },
  {
   "cell_type": "code",
   "execution_count": null,
   "id": "occupational-haven",
   "metadata": {},
   "outputs": [],
   "source": [
    "# submit contributions\n",
    "client.submit_contributions(contributions)\n",
    "client.init_columns(columns) # this should not be needed but doesn't hurt, possible API bug"
   ]
  },
  {
   "cell_type": "markdown",
   "id": "municipal-latvia",
   "metadata": {},
   "source": [
    "### Query Data"
   ]
  },
  {
   "cell_type": "code",
   "execution_count": null,
   "id": "alternate-example",
   "metadata": {},
   "outputs": [],
   "source": [
    "#client._reinit() # only needed if data just uploaded\n",
    "ncontribs, _ = client.get_totals()\n",
    "ncontribs"
   ]
  },
  {
   "cell_type": "code",
   "execution_count": null,
   "id": "middle-costs",
   "metadata": {},
   "outputs": [],
   "source": [
    "# available query parameters\n",
    "client.available_query_params()"
   ]
  },
  {
   "cell_type": "code",
   "execution_count": null,
   "id": "entertaining-stationery",
   "metadata": {},
   "outputs": [],
   "source": [
    "query = {\"data__boundary__exact\": \"tilt\", \"data__n__value__gt\": 0}\n",
    "count, _ = client.get_totals(query=query)\n",
    "print(f\"grain boundaries of type tilt and n>0: {count/ncontribs*100:.1f}%\")\n",
    "fields = [\"identifier\", \"formula\", \"data.energy.value\", \"data.potential\"]\n",
    "sort = \"data.energy.value\"\n",
    "contribs = client.query_contributions(query=query, fields=fields, sort=sort, paginate=True)\n",
    "pd.json_normalize(contribs[\"data\"])"
   ]
  }
 ],
 "metadata": {
  "kernelspec": {
   "display_name": "Python 3",
   "language": "python",
   "name": "python3"
  },
  "language_info": {
   "codemirror_mode": {
    "name": "ipython",
    "version": 3
   },
   "file_extension": ".py",
   "mimetype": "text/x-python",
   "name": "python",
   "nbconvert_exporter": "python",
   "pygments_lexer": "ipython3",
   "version": "3.9.1"
  }
 },
 "nbformat": 4,
 "nbformat_minor": 5
}
