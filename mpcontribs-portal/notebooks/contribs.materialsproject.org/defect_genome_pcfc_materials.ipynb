{
 "cells": [
  {
   "cell_type": "code",
   "execution_count": null,
   "metadata": {},
   "outputs": [],
   "source": [
    "from mpcontribs.client import Client\n",
    "from pandas import read_excel, MultiIndex\n",
    "from pymatgen.ext.matproj import MPRester\n",
    "from unflatten import unflatten"
   ]
  },
  {
   "cell_type": "code",
   "execution_count": null,
   "metadata": {},
   "outputs": [],
   "source": [
    "name = 'defect_genome_pcfc_materials'\n",
    "client = Client()\n",
    "mpr = MPRester()"
   ]
  },
  {
   "cell_type": "markdown",
   "metadata": {},
   "source": [
    "**Retrieve and update project info**"
   ]
  },
  {
   "cell_type": "code",
   "execution_count": null,
   "metadata": {},
   "outputs": [],
   "source": [
    "client.get_project(name).display()"
   ]
  },
  {
   "cell_type": "code",
   "execution_count": null,
   "metadata": {},
   "outputs": [],
   "source": [
    "client.projects.update_entry(pk=name, project={\n",
    "    \"references[0]\": {\"label\": \"ACS\", \"url\": \"https://doi.org/10.1021/acs.jpcc.7b08716\"}\n",
    "}).result()"
   ]
  },
  {
   "cell_type": "markdown",
   "metadata": {},
   "source": [
    "**Prepare contributions**"
   ]
  },
  {
   "cell_type": "code",
   "execution_count": null,
   "metadata": {},
   "outputs": [],
   "source": [
    "df = read_excel('/Users/patrick/gitrepos/mp/MPContribs/mpcontribs-data/DefectGenome_JPCC-data_MP.xlsx')\n",
    "df.columns = MultiIndex.from_arrays([\n",
    "    ['', '', '', 'Eᶠ', 'Eᶠ', 'Eᶠ', 'Eᶠ', 'ΔEᵢ'],\n",
    "    ['A', 'B', 'a', 'ABO₃', 'Yᴮ', 'Vᴼ', 'Hᵢ', 'Yᴮ−Hᵢ']\n",
    "])\n",
    "units = {'A': '', 'B': '', 'a': 'Å'}\n",
    "df"
   ]
  },
  {
   "cell_type": "code",
   "execution_count": null,
   "metadata": {},
   "outputs": [],
   "source": [
    "contributions = []\n",
    "for idx, row in df.iterrows():\n",
    "    A, B = row[df.columns[0]], row[df.columns[1]]\n",
    "    formula = f'{A}{B}O3'\n",
    "    data = mpr.get_data(formula, prop=\"volume\")\n",
    "\n",
    "    if len(data) > 1:\n",
    "        volume = row[df.columns[2]]**3\n",
    "        for d in data:\n",
    "            d['dV'] = abs(d['volume']-volume)\n",
    "        data = sorted(data, key=lambda item: item['dV'])\n",
    "    elif not data:\n",
    "        print(formula, 'not found on MP')\n",
    "        continue\n",
    "\n",
    "    identifier = data[0]['material_id']\n",
    "    #print(idx, formula, identifier)\n",
    "    \n",
    "    data = {}\n",
    "    for col in df.columns:\n",
    "        flat_col = \".\".join([c for c in col if c])\n",
    "        unit = units.get(flat_col, 'eV')\n",
    "        data[flat_col] = f'{row[col]} {unit}' if unit else row[col]\n",
    "\n",
    "    contrib = {\n",
    "        'project': name, 'identifier': identifier, 'is_public': True,\n",
    "        'data': unflatten(data)\n",
    "    }\n",
    "    contributions.append(contrib)\n",
    "    \n",
    "len(contributions)"
   ]
  },
  {
   "cell_type": "markdown",
   "metadata": {},
   "source": [
    "**Submit contributions**"
   ]
  },
  {
   "cell_type": "code",
   "execution_count": null,
   "metadata": {},
   "outputs": [],
   "source": [
    "client.delete_contributions(name)\n",
    "client.submit_contributions(contributions)"
   ]
  },
  {
   "cell_type": "markdown",
   "metadata": {},
   "source": [
    "**Query contributions**"
   ]
  },
  {
   "cell_type": "code",
   "execution_count": null,
   "metadata": {},
   "outputs": [],
   "source": [
    "query = {\n",
    "    \"project\": name,\n",
    "#     \"formula__contains\": \"Mg\",\n",
    "    \"data__A__contains\": \"Mg\",\n",
    "    \"data__a__value__lte\": 4.1,\n",
    "    \"data__Eᶠ__ABO₃__value__lte\": 3.2,\n",
    "    \"_order_by\": \"data__a__value\",\n",
    "    \"order\": \"desc\",\n",
    "    \"_fields\": [\n",
    "        \"id\", \"identifier\", \"formula\",\n",
    "        \"data.A\", \"data.a.value\", \"data.Eᶠ.ABO₃.value\"\n",
    "    ]   \n",
    "}\n",
    "client.contributions.get_entries(**query).result()"
   ]
  }
 ],
 "metadata": {
  "kernelspec": {
   "display_name": "Python 3",
   "language": "python",
   "name": "python3"
  },
  "language_info": {
   "codemirror_mode": {
    "name": "ipython",
    "version": 3
   },
   "file_extension": ".py",
   "mimetype": "text/x-python",
   "name": "python",
   "nbconvert_exporter": "python",
   "pygments_lexer": "ipython3",
   "version": "3.8.3"
  }
 },
 "nbformat": 4,
 "nbformat_minor": 4
}
