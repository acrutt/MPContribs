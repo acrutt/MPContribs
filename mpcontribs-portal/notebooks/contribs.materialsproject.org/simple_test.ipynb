{
 "cells": [
  {
   "cell_type": "code",
   "execution_count": null,
   "id": "cross-weapon",
   "metadata": {},
   "outputs": [],
   "source": [
    "from mpcontribs.client import Client\n",
    "from pandas import DataFrame\n",
    "\n",
    "client = Client()"
   ]
  },
  {
   "cell_type": "code",
   "execution_count": null,
   "id": "broad-milton",
   "metadata": {},
   "outputs": [],
   "source": [
    "client.delete_contributions(\"sandbox\")"
   ]
  },
  {
   "cell_type": "code",
   "execution_count": null,
   "id": "valid-southwest",
   "metadata": {},
   "outputs": [],
   "source": [
    "client.get_project(\"sandbox\").get(\"columns\")"
   ]
  },
  {
   "cell_type": "code",
   "execution_count": null,
   "id": "linear-statement",
   "metadata": {},
   "outputs": [],
   "source": [
    "data = [['tom', 10], ['nick', 15], ['juli', 14]]\n",
    "df = DataFrame(data, columns=['Name', 'Age'])\n",
    "df.set_index(\"Name\", inplace=True)\n",
    "df"
   ]
  },
  {
   "cell_type": "code",
   "execution_count": null,
   "id": "secondary-stroke",
   "metadata": {},
   "outputs": [],
   "source": [
    "contributions = [{\n",
    "    \"project\": \"sandbox\",\n",
    "    \"identifier\": \"mp-4\",\n",
    "    \"data\": {\n",
    "        \"a\": \"3 eV\",\n",
    "        \"b\": {\"c\": \"hello\", \"d\": 5},\n",
    "        \"d.e.f\": \"nest via dot-notation\"\n",
    "    },\n",
    "    \"tables\": [df]\n",
    "}, {\n",
    "    \"project\": \"sandbox\",\n",
    "    \"identifier\": \"mp-6\",\n",
    "    \"data\": {\n",
    "        \"a\": \"4 eV\",\n",
    "        \"b\": {\"c\": \"what\", \"d\": 6},\n",
    "        \"d.e.f\": \"duh\"\n",
    "    },\n",
    "    \"tables\": [df]\n",
    "}]\n",
    "client.submit_contributions(contributions, ignore_dupes=True)"
   ]
  },
  {
   "cell_type": "code",
   "execution_count": null,
   "id": "further-arbor",
   "metadata": {},
   "outputs": [],
   "source": [
    "client.get_project(\"sandbox\").get(\"columns\")"
   ]
  }
 ],
 "metadata": {
  "kernelspec": {
   "display_name": "Python 3",
   "language": "python",
   "name": "python3"
  },
  "language_info": {
   "codemirror_mode": {
    "name": "ipython",
    "version": 3
   },
   "file_extension": ".py",
   "mimetype": "text/x-python",
   "name": "python",
   "nbconvert_exporter": "python",
   "pygments_lexer": "ipython3",
   "version": "3.9.1"
  }
 },
 "nbformat": 4,
 "nbformat_minor": 5
}
