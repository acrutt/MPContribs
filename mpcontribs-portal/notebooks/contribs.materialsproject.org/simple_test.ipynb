{
 "cells": [
  {
   "cell_type": "code",
   "execution_count": null,
   "id": "cross-weapon",
   "metadata": {},
   "outputs": [],
   "source": [
    "from mpcontribs.client import Client\n",
    "from pandas import DataFrame\n",
    "\n",
    "client = Client(\n",
    "    host=\"localhost.workshop-contribs-api.materialsproject.org\",\n",
    "    apikey=\"uZ0vulA09IBtqcGk9U5OYRNt6elCzETM\"\n",
    ")"
   ]
  },
  {
   "cell_type": "code",
   "execution_count": null,
   "id": "appropriate-lambda",
   "metadata": {},
   "outputs": [],
   "source": [
    "query = {\n",
    "    \"project\": \"carrier_transport\",\n",
    "    \"formula__contains\": \"Au\",\n",
    "    \"data__PF__p__value__lt\": 10,\n",
    "    \"data__PF__n__value__gt\": 1,\n",
    "\n",
    "    \"_sort\": \"-data.S.n.value\", # descending order\n",
    "    \"_limit\": 170, # up to maximum 500 per request\n",
    "    \"_fields\": [\n",
    "        \"identifier\", \"formula\", \"data.metal\",\n",
    "        \"data.S.n.value\", \"data.S.p.value\",\n",
    "        \"data.PF.n.value\", \"data.PF.p.value\"\n",
    "    ],\n",
    "}"
   ]
  },
  {
   "cell_type": "code",
   "execution_count": null,
   "id": "frank-neutral",
   "metadata": {},
   "outputs": [],
   "source": [
    "contributions = []\n",
    "has_more, page = True, 1\n",
    "\n",
    "while has_more:\n",
    "    print(\"page\", page)\n",
    "    resp = client.contributions.get_entries(\n",
    "        page=page, **query\n",
    "    ).result()\n",
    "    contributions += resp[\"data\"]\n",
    "    has_more = resp[\"has_more\"]\n",
    "    page += 1\n",
    "    \n",
    "len(contributions)"
   ]
  },
  {
   "cell_type": "code",
   "execution_count": null,
   "id": "favorite-wilson",
   "metadata": {},
   "outputs": [],
   "source": [
    "client.contributions.get_entries(**query).result()"
   ]
  },
  {
   "cell_type": "code",
   "execution_count": null,
   "id": "worst-spain",
   "metadata": {},
   "outputs": [],
   "source": [
    "name = \"ws_phuck\"\n",
    "client.projects.create_entry(project={\n",
    "    \"name\": name,\n",
    "    \"title\": \"Workshop Test\",\n",
    "    \"long_title\": \"Long Workshop Test Title\",\n",
    "    \"authors\": \"P. Huck, J. Huck\",\n",
    "    \"description\": \"This is temp. Can be removed anytime\",\n",
    "    \"references\": [{\"label\": \"google\", \"url\": \"https://google.com\"}],\n",
    "    \"owner\": \"google:phuck@lbl.gov\"\n",
    "}).result()"
   ]
  },
  {
   "cell_type": "code",
   "execution_count": null,
   "id": "broad-milton",
   "metadata": {},
   "outputs": [],
   "source": [
    "client.delete_contributions(name)"
   ]
  },
  {
   "cell_type": "code",
   "execution_count": null,
   "id": "valid-southwest",
   "metadata": {},
   "outputs": [],
   "source": [
    "client.get_project(name)"
   ]
  },
  {
   "cell_type": "code",
   "execution_count": null,
   "id": "apparent-occurrence",
   "metadata": {},
   "outputs": [],
   "source": [
    "client.init_columns(name, {\n",
    "    \"a\": \"eV\", \"b.c\": None, \"b.d\": None, \"d.e.f\": None, \"x\": None, \"tables\": None\n",
    "})"
   ]
  },
  {
   "cell_type": "code",
   "execution_count": null,
   "id": "linear-statement",
   "metadata": {},
   "outputs": [],
   "source": [
    "data = [['tom', 10], ['nick', 15], ['juli', 14]]\n",
    "df = DataFrame(data, columns=['Name', 'Age'])\n",
    "df.set_index(\"Name\", inplace=True)\n",
    "df"
   ]
  },
  {
   "cell_type": "code",
   "execution_count": null,
   "id": "secondary-stroke",
   "metadata": {},
   "outputs": [],
   "source": [
    "contributions = [{\n",
    "    \"project\": name,\n",
    "    \"identifier\": \"mp-4\",\n",
    "    \"data\": {\n",
    "        \"a\": \"3 eV\",\n",
    "        \"b\": {\"c\": \"hello\", \"d\": 5},\n",
    "        \"d.e.f\": \"nest via dot-notation\",\n",
    "        \"x\": \"(101)\"\n",
    "    },\n",
    "    \"tables\": [df]\n",
    "}, {\n",
    "    \"project\": name,\n",
    "    \"identifier\": \"mp-6\",\n",
    "    \"data\": {\n",
    "        \"a\": \"4 eV\",\n",
    "        \"b\": {\"c\": \"what\", \"d\": 6},\n",
    "        \"d.e.f\": \"duh\"\n",
    "    },\n",
    "    \"tables\": [df]\n",
    "}]\n",
    "client.submit_contributions(contributions, ignore_dupes=True)"
   ]
  },
  {
   "cell_type": "code",
   "execution_count": null,
   "id": "legal-genealogy",
   "metadata": {},
   "outputs": [],
   "source": [
    "client.update_contributions(name, data={\"data.y\": \"test\"}, query={\"identifier\": \"mp-6\"})"
   ]
  },
  {
   "cell_type": "code",
   "execution_count": null,
   "id": "further-arbor",
   "metadata": {},
   "outputs": [],
   "source": [
    "client.get_project(name).get(\"is_public\")"
   ]
  },
  {
   "cell_type": "code",
   "execution_count": null,
   "id": "spread-rainbow",
   "metadata": {},
   "outputs": [],
   "source": [
    "client.contributions.get_entries(project=name, _fields=[\"identifier\", \"is_public\"]).result()"
   ]
  },
  {
   "cell_type": "code",
   "execution_count": null,
   "id": "seasonal-invite",
   "metadata": {},
   "outputs": [],
   "source": [
    "client.make_private(name, recursive=True)"
   ]
  },
  {
   "cell_type": "code",
   "execution_count": null,
   "id": "hydraulic-hardware",
   "metadata": {},
   "outputs": [],
   "source": [
    "from datetime import datetime\n",
    "\n",
    "after = datetime(2021, 7, 15, 4, 20, 0, 0)\n",
    "before = datetime(2021, 7, 15, 6, 58, 29, 400000)\n",
    "\n",
    "query = {\n",
    "    \"project\": \"carrier_transport\",\n",
    "    #\"id__not__in\": [\"5f8a3d9183a19cc44d02243e\", \"5f8a3d9283a19cc44d022447\"],\n",
    "    #\"data__functional__endswith\": \"+U\",\n",
    "    #\"data__mₑᶜ__p__ε₁__value__gte\": 0,\n",
    "    \"last_modified__after\": after,\n",
    "    \"last_modified__before\": before,\n",
    "    \"_fields\": [\"id\", \"last_modified\"],\n",
    "    \"_limit\": 10, \"_sort\": \"last_modified\"\n",
    "}\n",
    "client.contributions.get_entries(**query).result()"
   ]
  },
  {
   "cell_type": "code",
   "execution_count": null,
   "id": "advisory-coral",
   "metadata": {},
   "outputs": [],
   "source": []
  },
  {
   "cell_type": "code",
   "execution_count": null,
   "id": "premier-jewel",
   "metadata": {},
   "outputs": [],
   "source": [
    "client.projects.get_entries(\n",
    "    stats__tables__gt=0, _fields=[\"name\", \"stats.tables\"], _sort=\"-stats.contributions\"\n",
    ").result()"
   ]
  },
  {
   "cell_type": "code",
   "execution_count": null,
   "id": "periodic-jesus",
   "metadata": {},
   "outputs": [],
   "source": [
    "client.tables.get_entries(\n",
    "    #attrs__title__icontains=\"xas\",\n",
    "    #attrs__labels__index__startswith=\"T\",\n",
    "    attrs__labels__value__startswith=\"PF\",\n",
    "    _fields=[\"name\", \"attrs\", \"columns\", \"total_data_rows\"]\n",
    ").result()"
   ]
  },
  {
   "cell_type": "code",
   "execution_count": null,
   "id": "existing-accident",
   "metadata": {},
   "outputs": [],
   "source": []
  }
 ],
 "metadata": {
  "kernelspec": {
   "display_name": "Python 3",
   "language": "python",
   "name": "python3"
  },
  "language_info": {
   "codemirror_mode": {
    "name": "ipython",
    "version": 3
   },
   "file_extension": ".py",
   "mimetype": "text/x-python",
   "name": "python",
   "nbconvert_exporter": "python",
   "pygments_lexer": "ipython3",
   "version": "3.9.1"
  }
 },
 "nbformat": 4,
 "nbformat_minor": 5
}
