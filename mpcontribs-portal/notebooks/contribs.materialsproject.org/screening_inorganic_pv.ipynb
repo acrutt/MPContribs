{
 "cells": [
  {
   "cell_type": "code",
   "execution_count": null,
   "metadata": {},
   "outputs": [],
   "source": [
    "import os, json\n",
    "from pathlib import Path\n",
    "from pandas import DataFrame\n",
    "from mpcontribs.client import Client\n",
    "from unflatten import unflatten"
   ]
  },
  {
   "cell_type": "code",
   "execution_count": null,
   "metadata": {},
   "outputs": [],
   "source": [
    "client = Client()"
   ]
  },
  {
   "cell_type": "markdown",
   "metadata": {},
   "source": [
    "**Load raw data**"
   ]
  },
  {
   "cell_type": "code",
   "execution_count": null,
   "metadata": {},
   "outputs": [],
   "source": [
    "name = \"screening_inorganic_pv\"\n",
    "indir = Path(\"/Users/patrick/gitrepos/mp/mpcontribs-data/ThinFilmPV\")\n",
    "files = {\n",
    "    \"summary\": \"SUMMARY.json\",\n",
    "    \"absorption\": \"ABSORPTION-CLIPPED.json\",\n",
    "    \"dos\": \"DOS.json\",\n",
    "    \"formulae\": \"FORMATTED-FORMULAE.json\"\n",
    "}\n",
    "data = {}\n",
    "\n",
    "for k, v in files.items():\n",
    "    path = indir / v\n",
    "    with path.open(mode=\"r\") as f:\n",
    "        data[k] = json.load(f)\n",
    "        \n",
    "for k, v in data.items():\n",
    "    print(k, len(v))"
   ]
  },
  {
   "cell_type": "markdown",
   "metadata": {},
   "source": [
    "**Prepare contributions**"
   ]
  },
  {
   "cell_type": "code",
   "execution_count": null,
   "metadata": {},
   "outputs": [],
   "source": [
    "config = {\n",
    "    \"SLME_500_nm\": {\"path\": \"SLME.500nm\", \"unit\": \"%\"},\n",
    "    \"SLME_1000_nm\": {\"path\": \"SLME.1000nm\", \"unit\": \"%\"},\n",
    "    \"E_g\": {\"path\": \"ΔE.corrected\", \"unit\": \"eV\"},\n",
    "    \"E_g_d\": {\"path\": \"ΔE.direct\", \"unit\": \"eV\"},\n",
    "    \"E_g_da\": {\"path\": \"ΔE.dipole\", \"unit\": \"eV\"},\n",
    "    \"m_e\": {\"path\": \"mᵉ\", \"unit\": \"mₑ\"},\n",
    "    \"m_h\": {\"path\": \"mʰ\", \"unit\": \"mₑ\"}\n",
    "}\n",
    "columns = {c[\"path\"]: c[\"unit\"] for c in config.values()}\n",
    "contributions = []\n",
    "\n",
    "for mp_id, d in data[\"summary\"].items():\n",
    "    formula = data[\"formulae\"][mp_id].replace(\"<sub>\", \"\").replace(\"</sub>\", \"\")\n",
    "    contrib = {\"project\": name, \"identifier\": mp_id, \"data\": {\"formula\": formula}}\n",
    "    cdata = {v[\"path\"]: f'{d[k]} {v[\"unit\"]}' for k, v in config.items()}\n",
    "    contrib[\"data\"] = unflatten(cdata)\n",
    "        \n",
    "    df_abs = DataFrame(data=data[\"absorption\"][mp_id])\n",
    "    df_abs.columns = [\"hν [eV]\", \"α [cm⁻¹]\"]\n",
    "    df_abs.set_index(\"hν [eV]\", inplace=True)\n",
    "    df_abs.columns.name = \"\" # legend name\n",
    "    df_abs.attrs[\"name\"] = \"absorption\"\n",
    "    df_abs.attrs[\"title\"] = \"optical absorption spectrum\"\n",
    "    df_abs.attrs[\"labels\"] = {\"variable\": \"\", \"value\": \"α [cm⁻¹]\"}\n",
    "\n",
    "    df_dos = DataFrame(data=data[\"dos\"][mp_id])\n",
    "    df_dos.columns = ['E [eV]', 'DOS [eV⁻¹]']\n",
    "    df_dos.set_index(\"E [eV]\", inplace=True)\n",
    "    df_dos.columns.name = \"\" # legend name\n",
    "    df_dos.attrs[\"name\"] = \"DOS\"\n",
    "    df_dos.attrs[\"title\"] = \"electronic density of states\"\n",
    "    df_dos.attrs[\"labels\"] = {\"variable\": \"\", \"value\": \"DOS [eV⁻¹]\"}\n",
    "\n",
    "    contrib[\"tables\"] = [df_abs, df_dos]\n",
    "    contributions.append(contrib)\n",
    "    \n",
    "len(contributions)"
   ]
  },
  {
   "cell_type": "markdown",
   "metadata": {},
   "source": [
    "**Submit contributions**"
   ]
  },
  {
   "cell_type": "code",
   "execution_count": null,
   "metadata": {},
   "outputs": [],
   "source": [
    "client.delete_contributions(name)\n",
    "client.init_columns(name, columns)\n",
    "client.submit_contributions(contributions[:5])"
   ]
  },
  {
   "cell_type": "markdown",
   "metadata": {},
   "source": [
    "**Retrieve and plot tables**"
   ]
  },
  {
   "cell_type": "code",
   "execution_count": null,
   "metadata": {},
   "outputs": [],
   "source": [
    "all_ids = client.get_all_ids(\n",
    "    {\"project\": \"screening_inorganic_pv\"}, include=[\"tables\"]\n",
    ").get(name, {})\n",
    "cids = list(all_ids[\"ids\"])\n",
    "tids = list(all_ids[\"tables\"][\"ids\"])\n",
    "len(cids), len(tids)"
   ]
  },
  {
   "cell_type": "code",
   "execution_count": null,
   "metadata": {},
   "outputs": [],
   "source": [
    "client.get_contribution(cids[0])"
   ]
  },
  {
   "cell_type": "code",
   "execution_count": null,
   "metadata": {},
   "outputs": [],
   "source": [
    "t = client.get_table(tids[0])  # pandas DataFrame"
   ]
  },
  {
   "cell_type": "code",
   "execution_count": null,
   "metadata": {},
   "outputs": [],
   "source": [
    "t.display()"
   ]
  }
 ],
 "metadata": {
  "kernelspec": {
   "display_name": "Python 3",
   "language": "python",
   "name": "python3"
  },
  "language_info": {
   "codemirror_mode": {
    "name": "ipython",
    "version": 3
   },
   "file_extension": ".py",
   "mimetype": "text/x-python",
   "name": "python",
   "nbconvert_exporter": "python",
   "pygments_lexer": "ipython3",
   "version": "3.9.1"
  }
 },
 "nbformat": 4,
 "nbformat_minor": 4
}
