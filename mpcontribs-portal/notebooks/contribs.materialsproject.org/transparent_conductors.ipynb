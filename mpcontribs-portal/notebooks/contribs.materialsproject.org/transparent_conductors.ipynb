{
 "cells": [
  {
   "cell_type": "code",
   "execution_count": null,
   "id": "alive-laptop",
   "metadata": {},
   "outputs": [],
   "source": [
    "import tarfile, os\n",
    "import numpy as np\n",
    "from pandas import read_excel\n",
    "from mpcontribs.client import Client"
   ]
  },
  {
   "cell_type": "code",
   "execution_count": null,
   "id": "scenic-polls",
   "metadata": {},
   "outputs": [],
   "source": [
    "name = \"transparent_conductors\"\n",
    "client = Client()"
   ]
  },
  {
   "cell_type": "code",
   "execution_count": null,
   "id": "sapphire-probe",
   "metadata": {},
   "outputs": [],
   "source": [
    "# set unique_identifiers=False for project: allow multiple contributions with same identifier (disable dupe-check)\n",
    "# client.projects.update_entry(pk=name, project={\"unique_identifiers\": False}).result()"
   ]
  },
  {
   "cell_type": "markdown",
   "id": "continent-machine",
   "metadata": {},
   "source": [
    "**prep contributions**"
   ]
  },
  {
   "cell_type": "code",
   "execution_count": null,
   "id": "discrete-vampire",
   "metadata": {},
   "outputs": [],
   "source": [
    "google_id = \"1bgQAdSfyrPEDI4iljwWlkyUPt_mo84jWr4N_1DKQDUI\"\n",
    "google_sheet = f\"https://docs.google.com/spreadsheets/d/{google_id}/export?format=xlsx\"\n",
    "raw_contributions = []\n",
    "\n",
    "for sheet_name in [\"n-type TCs\", \"p-type TCs\"]:\n",
    "    df = read_excel(google_sheet, sheet_name=sheet_name, header=[0, 1, 2])\n",
    "    doping = sheet_name.split(\" \")[0]\n",
    "    done = False\n",
    "\n",
    "    for row in df.to_dict(orient=\"records\"):\n",
    "        identifier = None\n",
    "        data = {\"doping\": doping}\n",
    "        \n",
    "        for keys, value in row.items():\n",
    "            key = \".\".join(\n",
    "                [\n",
    "                    k.replace(\"TC\", \"\").strip()\n",
    "                    for k in keys\n",
    "                    if not k.startswith(\"Unnamed:\")\n",
    "                ]\n",
    "            )\n",
    "            \n",
    "            if key.endswith(\"experimental doping type\"):\n",
    "                key = key.replace(\"Transport.\", \"\")\n",
    "                \n",
    "            key_split = key.split(\".\")\n",
    "            if len(key_split) > 2:\n",
    "                key = \".\".join(key_split[1:])\n",
    "            if key.endswith(\"MP link\") or key.endswith(\"range\"):\n",
    "                continue\n",
    "            if key.endswith(\"google scholar\"):\n",
    "                key = key.replace(\".google scholar\", \"\")\n",
    "            if key == \"Material.mpid\":\n",
    "                if identifier is None:\n",
    "                    if not isinstance(value, str) and np.isnan(value):\n",
    "                        done = True\n",
    "                        break\n",
    "                    identifier = value.strip()\n",
    "                    print(identifier)\n",
    "            else:\n",
    "                if key == \"Material.p pretty formula\":\n",
    "                    key = \"formula\"\n",
    "                if isinstance(value, str):\n",
    "                    val = value.strip()\n",
    "                else:\n",
    "                    if isinstance(value, float) and np.isnan(value):\n",
    "                        continue\n",
    "                    if key.endswith(\")\"):\n",
    "                        key, unit = key.rsplit(\" (\", 1)\n",
    "                        unit = unit[:-1].replace(\"^-3\", \"⁻³\").replace(\"^20\", \"²⁰\")\n",
    "                        unit = unit.replace(\"V2/cms\", \"cm²/V/s\").replace(\"cm^2/Vs\", \"cm²/V/s\")\n",
    "                        if \",\" in unit:\n",
    "                            extra_key = key.rsplit(\".\", 1)[0].lower() + \".conditions\"\n",
    "                            data[extra_key] = unit\n",
    "                            unit = \"\"\n",
    "                        val = f\"{value} {unit}\"\n",
    "                    else:\n",
    "                        val = value\n",
    "                if not val:\n",
    "                    continue\n",
    "                clean_key = key.replace(\" for VB:CB = 4:2\", \"\").replace(\"?\", \"\").lower()\n",
    "                data[clean_key] = val\n",
    "\n",
    "        if done:\n",
    "            break\n",
    "        \n",
    "        raw_contributions.append({\n",
    "            \"identifier\": identifier,\n",
    "            \"data\": data\n",
    "        })\n",
    "        \n",
    "len(raw_contributions)"
   ]
  },
  {
   "cell_type": "code",
   "execution_count": null,
   "id": "musical-bridge",
   "metadata": {},
   "outputs": [],
   "source": [
    "# set(k for contrib in contributions for k in contrib[\"data\"].keys())"
   ]
  },
  {
   "cell_type": "code",
   "execution_count": null,
   "id": "behind-driver",
   "metadata": {},
   "outputs": [],
   "source": [
    "keys_map = {\n",
    "    'doping': {},  # don't rename, no unit\n",
    "    'number of studies': {'rename': 'studies', 'unit': ''},  # dimensionless\n",
    "    'quality.good or ok': {'rename': 'quality'},\n",
    "    'structure and composition.common dopants': {'rename': 'dopants'},\n",
    "    'structure and composition.space group symbol': {'rename': 'spacegroup'},\n",
    "    \n",
    "    'branch point energy.bpe min ratio': {'rename': 'BPE.ratio.min', 'unit': ''},\n",
    "    'branch point energy.bpe max ratio': {'rename': 'BPE.ratio.max', 'unit': ''},\n",
    "    'branch point energy.bpe ratio': {'rename': 'BPE.ratio.mean', 'unit': ''},\n",
    "    'branch point energy.has degenerate bands': {'rename': 'BPE.degenerate'},\n",
    "    \n",
    "    'computed gap.hse06 band gap': {'rename': 'computed.gap.HSE06.band', 'unit': 'eV'},\n",
    "    'computed gap.hse06 direct gap': {'rename': 'computed.gap.HSE06.direct', 'unit': 'eV'},\n",
    "    'computed gap.pbe band gap': {'rename': 'computed.gap.PBE.band', 'unit': 'eV'},\n",
    "    'computed gap.pbe direct gap': {'rename': 'computed.gap.PBE.direct', 'unit': 'eV'},\n",
    "\n",
    "    'computed m*.conditions': {'rename': 'computed.m*.conditions'},\n",
    "    'computed m*.m* avg': {'rename': 'computed.m*.average', 'unit': ''},\n",
    "    'computed m*.m* planar': {'rename': 'computed.m*.planar', 'unit': ''},\n",
    "    'computed stability.e_above_hull': {'rename': 'computed.stability.Eₕ', 'unit': 'eV'},\n",
    "    'computed stability.e_above_pourbaix_hull': {'rename': 'computed.stability.Eₚₕ', 'unit': 'eV'},\n",
    "\n",
    "    'experimental doping type': {'rename': 'experimental.doping'},\n",
    "    'experimental gap.max experimental gap': {'rename': 'experimental.gap.range.max', 'unit': 'eV'},\n",
    "    'experimental gap.max gap reference': {'rename': 'experimental.gap.references.max'},\n",
    "    'experimental gap.min experimental gap': {'rename': 'experimental.gap.range.min', 'unit': 'eV'},\n",
    "    'experimental gap.min gap reference': {'rename': 'experimental.gap.references.min'},\n",
    "\n",
    "    'max experimental conductivity.associated carrier concentration': {\n",
    "        'rename': 'experimental.conductivity.concentration', 'unit': 'cm⁻³'\n",
    "    },\n",
    "    'max experimental conductivity.dopant': {'rename': 'experimental.conductivity.dopant'},\n",
    "    'max experimental conductivity.max conductivity': {\n",
    "        'rename': 'experimental.conductivity.max', 'unit': 'S/cm'\n",
    "    },\n",
    "    'max experimental conductivity.reference link': {'rename': 'experimental.conductivity.reference'},\n",
    "    'max experimental conductivity.synthesis method': {'rename': 'experimental.conductivity.method'},\n",
    "\n",
    "    'max experimental mobility.dopant': {'rename': 'experimental.mobility.dopant'},\n",
    "    'max experimental mobility.max mobility': {'rename': 'experimental.mobility.max', 'unit': 'cm²/V/s'},\n",
    "    'max experimental mobility.reference link': {'rename': 'experimental.mobility.reference'},\n",
    "    'max experimental mobility.synthesis method': {'rename': 'experimental.mobility.method'},\n",
    "}"
   ]
  },
  {
   "cell_type": "code",
   "execution_count": null,
   "id": "working-store",
   "metadata": {},
   "outputs": [],
   "source": [
    "columns = {\n",
    "    cfg.get(\"rename\", k): cfg.get(\"unit\")\n",
    "    for k, cfg in keys_map.items()\n",
    "}"
   ]
  },
  {
   "cell_type": "code",
   "execution_count": null,
   "id": "raised-relation",
   "metadata": {},
   "outputs": [],
   "source": [
    "contributions = []\n",
    "\n",
    "for contrib in raw_contributions:\n",
    "    contributions.append({\n",
    "        \"project\": name,\n",
    "        \"identifier\": contrib[\"identifier\"],\n",
    "        \"is_public\": True,\n",
    "    })\n",
    "    contributions[-1][\"data\"] = {\n",
    "        cfg.get(\"rename\", k): contrib[\"data\"][k]\n",
    "        for k, cfg in keys_map.items()\n",
    "        if k in contrib[\"data\"]\n",
    "    }"
   ]
  },
  {
   "cell_type": "markdown",
   "id": "unlike-january",
   "metadata": {},
   "source": [
    "**submit contributions**"
   ]
  },
  {
   "cell_type": "code",
   "execution_count": null,
   "id": "seasonal-minneapolis",
   "metadata": {},
   "outputs": [],
   "source": [
    "client.delete_contributions(name)\n",
    "client.init_columns(name=name, columns=columns)\n",
    "client.submit_contributions(contributions)"
   ]
  }
 ],
 "metadata": {
  "kernelspec": {
   "display_name": "Python 3",
   "language": "python",
   "name": "python3"
  },
  "language_info": {
   "codemirror_mode": {
    "name": "ipython",
    "version": 3
   },
   "file_extension": ".py",
   "mimetype": "text/x-python",
   "name": "python",
   "nbconvert_exporter": "python",
   "pygments_lexer": "ipython3",
   "version": "3.9.1"
  }
 },
 "nbformat": 4,
 "nbformat_minor": 5
}
