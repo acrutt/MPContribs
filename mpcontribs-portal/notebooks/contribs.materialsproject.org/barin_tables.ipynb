{
 "cells": [
  {
   "cell_type": "code",
   "execution_count": null,
   "id": "lesbian-vegetarian",
   "metadata": {},
   "outputs": [],
   "source": [
    "from mpcontribs.client import Client"
   ]
  },
  {
   "cell_type": "code",
   "execution_count": null,
   "id": "collaborative-physiology",
   "metadata": {},
   "outputs": [],
   "source": [
    "name = \"barin_tables\"\n",
    "client = Client()"
   ]
  },
  {
   "cell_type": "code",
   "execution_count": null,
   "id": "dominant-details",
   "metadata": {},
   "outputs": [],
   "source": [
    "client.get_project(name)"
   ]
  },
  {
   "cell_type": "code",
   "execution_count": null,
   "id": "laughing-presence",
   "metadata": {},
   "outputs": [],
   "source": [
    "client.get_totals({\"project\": name})"
   ]
  },
  {
   "cell_type": "code",
   "execution_count": null,
   "id": "accurate-singapore",
   "metadata": {},
   "outputs": [],
   "source": [
    "# col = \"SOLM21\"\n",
    "# query = {f\"data__{col}__Ti__value__gte\": 0}\n",
    "# client.contributions.get_entries(\n",
    "#     project=name, _fields=[\"identifier\", f\"data.{col}.Ti.value\"],\n",
    "#     **query\n",
    "# ).result()"
   ]
  },
  {
   "cell_type": "code",
   "execution_count": null,
   "id": "nuclear-purpose",
   "metadata": {},
   "outputs": [],
   "source": [
    "all_ids = list(client.get_all_ids({\"project\": name}).get(name, {}).get(\"ids\", set()))"
   ]
  },
  {
   "cell_type": "code",
   "execution_count": null,
   "id": "completed-tsunami",
   "metadata": {},
   "outputs": [],
   "source": [
    "tables = client.get_contribution(cid=all_ids[0]).get(\"tables\")"
   ]
  },
  {
   "cell_type": "code",
   "execution_count": null,
   "id": "changing-plant",
   "metadata": {},
   "outputs": [],
   "source": [
    "t = client.get_table(tables[0][\"id\"])"
   ]
  },
  {
   "cell_type": "code",
   "execution_count": null,
   "id": "minus-beach",
   "metadata": {},
   "outputs": [],
   "source": [
    "t.display()"
   ]
  }
 ],
 "metadata": {
  "kernelspec": {
   "display_name": "Python 3",
   "language": "python",
   "name": "python3"
  },
  "language_info": {
   "codemirror_mode": {
    "name": "ipython",
    "version": 3
   },
   "file_extension": ".py",
   "mimetype": "text/x-python",
   "name": "python",
   "nbconvert_exporter": "python",
   "pygments_lexer": "ipython3",
   "version": "3.9.1"
  }
 },
 "nbformat": 4,
 "nbformat_minor": 5
}
