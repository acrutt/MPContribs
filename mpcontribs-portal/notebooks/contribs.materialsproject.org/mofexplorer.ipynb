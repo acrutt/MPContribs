{
 "cells": [
  {
   "cell_type": "code",
   "execution_count": null,
   "id": "naked-spokesman",
   "metadata": {},
   "outputs": [],
   "source": [
    "import json\n",
    "from pathlib import Path\n",
    "from flatten_dict import flatten, unflatten\n",
    "from mpcontribs.client import ureg, Client"
   ]
  },
  {
   "cell_type": "code",
   "execution_count": null,
   "id": "violent-tucson",
   "metadata": {},
   "outputs": [],
   "source": [
    "name = \"sandbox\"\n",
    "client = Client(project=\"sandbox\")"
   ]
  },
  {
   "cell_type": "code",
   "execution_count": null,
   "id": "indonesian-italian",
   "metadata": {},
   "outputs": [],
   "source": [
    "with Path(\"/Users/patrick/Downloads/1000mofs.json\").open() as f:\n",
    "    data = json.load(f)"
   ]
  },
  {
   "cell_type": "markdown",
   "id": "expired-theater",
   "metadata": {},
   "source": [
    "**get full list of columns and their (clean) units**"
   ]
  },
  {
   "cell_type": "code",
   "execution_count": null,
   "id": "assured-effectiveness",
   "metadata": {},
   "outputs": [],
   "source": [
    "# flatten all contributions into one dict and use last value as representative to deduce unit\n",
    "reduced = {k: v for c in data for k, v in flatten(c[\"data\"], reducer=\"dot\").items()}"
   ]
  },
  {
   "cell_type": "code",
   "execution_count": null,
   "id": "authentic-empty",
   "metadata": {},
   "outputs": [],
   "source": [
    "# function to get a clean value/unit from str/float/int\n",
    "def get_value_unit(v):\n",
    "    value, unit = None, None\n",
    "    if isinstance(v, str) and v.strip():\n",
    "        v = v.strip()\n",
    "        try:\n",
    "            float(v)\n",
    "            value, unit = v, \"\"\n",
    "        except:\n",
    "            vs = v.split()\n",
    "            if len(vs) > 1:\n",
    "                try:\n",
    "                    raw = vs[-1].replace(\"^3\", \"³\")\n",
    "                    if raw in ureg:\n",
    "                        value, unit = vs[0], raw\n",
    "                except Exception as e:\n",
    "                    value, unit = v, None\n",
    "            else:\n",
    "                value, unit = vs[0], None\n",
    "    elif isinstance(v, (float, int)):\n",
    "        value, unit = v, \"\"\n",
    "    else:\n",
    "        raise ValueError(f\"{k} = {v} not a know value type\")\n",
    "\n",
    "    if value is None:\n",
    "        raise ValueError(f\"failed parsing {v}\")\n",
    "        \n",
    "    return value, unit"
   ]
  },
  {
   "cell_type": "code",
   "execution_count": null,
   "id": "twenty-commission",
   "metadata": {},
   "outputs": [],
   "source": [
    "columns = {k: get_value_unit(v)[1] for k, v in reduced.items()}"
   ]
  },
  {
   "cell_type": "code",
   "execution_count": null,
   "id": "czech-somerset",
   "metadata": {},
   "outputs": [],
   "source": [
    "client.init_columns({}) # force reset columns\n",
    "client.init_columns(columns)"
   ]
  },
  {
   "cell_type": "markdown",
   "id": "sealed-anthropology",
   "metadata": {},
   "source": [
    "**parse contributions and ensure clean units**"
   ]
  },
  {
   "cell_type": "code",
   "execution_count": null,
   "id": "crude-blink",
   "metadata": {},
   "outputs": [],
   "source": [
    "contributions = []\n",
    "\n",
    "for d in data:\n",
    "    contrib = {\n",
    "        \"identifier\": d[\"identifier\"], \"formula\": d[\"formula\"], \"data\": {}\n",
    "    }\n",
    "    \n",
    "    for k, v in flatten(d[\"data\"], reducer=\"dot\").items():\n",
    "        value, unit = get_value_unit(v)\n",
    "        contrib[f\"data.{k}\"] = f\"{value} {unit}\" if unit else value\n",
    "        \n",
    "    contributions.append(unflatten(contrib, splitter=\"dot\"))"
   ]
  },
  {
   "cell_type": "code",
   "execution_count": null,
   "id": "north-albert",
   "metadata": {},
   "outputs": [],
   "source": [
    "client.submit_contributions(contributions)"
   ]
  }
 ],
 "metadata": {
  "kernelspec": {
   "display_name": "Python 3",
   "language": "python",
   "name": "python3"
  },
  "language_info": {
   "codemirror_mode": {
    "name": "ipython",
    "version": 3
   },
   "file_extension": ".py",
   "mimetype": "text/x-python",
   "name": "python",
   "nbconvert_exporter": "python",
   "pygments_lexer": "ipython3",
   "version": "3.9.1"
  }
 },
 "nbformat": 4,
 "nbformat_minor": 5
}
