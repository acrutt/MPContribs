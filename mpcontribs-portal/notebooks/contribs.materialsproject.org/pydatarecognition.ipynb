{
 "cells": [
  {
   "cell_type": "code",
   "execution_count": null,
   "id": "hundred-mileage",
   "metadata": {},
   "outputs": [],
   "source": [
    "%env MPRESTER_MUTE_PROGRESS_BARS 1\n",
    "import os\n",
    "from pathlib import Path\n",
    "from mpcontribs.client import Client\n",
    "from mp_api.client import MPRester\n",
    "from flatten_dict import unflatten, flatten\n",
    "from pymatgen.io.cif import CifParser\n",
    "from pandas import DataFrame\n",
    "import numpy as np"
   ]
  },
  {
   "cell_type": "markdown",
   "id": "increasing-sister",
   "metadata": {},
   "source": [
    "**init client and load raw data**"
   ]
  },
  {
   "cell_type": "code",
   "execution_count": null,
   "id": "external-initial",
   "metadata": {},
   "outputs": [],
   "source": [
    "client = Client(project=\"pydatarecognition\")"
   ]
  },
  {
   "cell_type": "code",
   "execution_count": null,
   "id": "chief-edinburgh",
   "metadata": {},
   "outputs": [],
   "source": [
    "drivedir = Path(\"/Users/patrick/GoogleDriveLBNL/My Drive/\")\n",
    "datadir = drivedir / \"MaterialsProject/gitrepos/mpcontribs-data/pydatarecognition\"\n",
    "cifs = datadir / \"cifs\""
   ]
  },
  {
   "cell_type": "markdown",
   "id": "employed-diagnosis",
   "metadata": {},
   "source": [
    "**prepare contributions by converting CIFs to `data`, `tables`, and `attachments`**"
   ]
  },
  {
   "cell_type": "code",
   "execution_count": null,
   "id": "anonymous-adult",
   "metadata": {},
   "outputs": [],
   "source": [
    "# calculated cifs (NOTE make sure to gzip all CIFs)\n",
    "contributions = []\n",
    "columns = {\"type\": None, \"date\": None, \"wavelength\": \"Å\"} # sets fields and their units\n",
    "\n",
    "for path in (cifs / \"calculated\").iterdir():\n",
    "    for identifier, v in CifParser(path).as_dict().items():\n",
    "        typ, date = v[\"_publcif_pd_cifplot\"].strip().split()\n",
    "        wavelength = f'{v[\"_diffrn_radiation_wavelength\"]} Å'\n",
    "        intensities = v[\"_pd_calc_intensity_total\"]\n",
    "        prefix, nbins = \"_pd_proc_2theta_range\", len(intensities)\n",
    "        inc, start, end = float(v[f\"{prefix}_inc\"]), float(v[f\"{prefix}_min\"]), float(v[f\"{prefix}_max\"])\n",
    "        two_theta = np.arange(0, end, inc) # BUG? getting 1999 bins for start=0.02 (converted to Q)\n",
    "        spectrum = DataFrame({\"2θ\": two_theta, \"intensity\": intensities}).set_index(\"2θ\")\n",
    "        spectrum.attrs = {\"name\": \"powder diffraction\", \"title\": \"Powder Diffraction Pattern\"}\n",
    "        contributions.append({\n",
    "            \"identifier\": identifier, \"formula\": v[\"_chemical_formula\"],\n",
    "            \"data\": {\"type\": typ, \"date\": date, \"wavelength\": wavelength, \"proc\": d[\"proc\"]},\n",
    "            #\"tables\": [spectrum], \"attachments\": [path]\n",
    "        })\n",
    "\n",
    "len(contributions)"
   ]
  },
  {
   "cell_type": "markdown",
   "id": "uniform-burton",
   "metadata": {},
   "source": [
    "**(re)submit all contributions**"
   ]
  },
  {
   "cell_type": "code",
   "execution_count": null,
   "id": "thorough-world",
   "metadata": {},
   "outputs": [],
   "source": [
    "client.delete_contributions()\n",
    "client.init_columns(columns)\n",
    "client.submit_contributions(contributions, ignore_dupes=True, per_request=6)\n",
    "# this shouldn't be necessary but need to re-init columns likely due to bug in API server\n",
    "client.init_columns(columns) \n",
    "\n",
    "# NOTE submit_contributions can also be used to submit partial updates (can provide example in the future)"
   ]
  },
  {
   "cell_type": "markdown",
   "id": "compound-cleanup",
   "metadata": {},
   "source": [
    "**query contributions and retrieve `tables` and `attachments`**"
   ]
  },
  {
   "cell_type": "code",
   "execution_count": null,
   "id": "adult-estate",
   "metadata": {},
   "outputs": [],
   "source": [
    "client.available_query_params()"
   ]
  },
  {
   "cell_type": "code",
   "execution_count": null,
   "id": "loved-retirement",
   "metadata": {},
   "outputs": [],
   "source": [
    "query = {\"data__wavelength__value__lt\": 1.59, \"identifier__contains\": \"III_\"}\n",
    "\n",
    "result = client.query_contributions(\n",
    "    query=query, fields=[\"identifier\", \"data.wavelength.value\", \"attachments\", \"tables\"]\n",
    ")"
   ]
  },
  {
   "cell_type": "code",
   "execution_count": null,
   "id": "handled-wallpaper",
   "metadata": {},
   "outputs": [],
   "source": [
    "attm = client.get_attachment(result[\"data\"][0][\"attachments\"][0][\"id\"]) # use attm.unpack() to get file contents"
   ]
  },
  {
   "cell_type": "code",
   "execution_count": null,
   "id": "executive-amateur",
   "metadata": {},
   "outputs": [],
   "source": [
    "table = client.get_table(result[\"data\"][0][\"tables\"][0][\"id\"]) # pandas Dataframe"
   ]
  },
  {
   "cell_type": "code",
   "execution_count": null,
   "id": "ethical-understanding",
   "metadata": {},
   "outputs": [],
   "source": [
    "table.display()"
   ]
  },
  {
   "cell_type": "markdown",
   "id": "sonic-dominant",
   "metadata": {},
   "source": [
    "**query `attachments` and `tables` directly**"
   ]
  },
  {
   "cell_type": "code",
   "execution_count": null,
   "id": "grateful-manitoba",
   "metadata": {},
   "outputs": [],
   "source": [
    "# TODO can implement client.query_attachments() to make this easier\n",
    "client.attachments.queryAttachments(name__contains=\"he5606Sr\").result()"
   ]
  },
  {
   "cell_type": "code",
   "execution_count": null,
   "id": "unlikely-swift",
   "metadata": {},
   "outputs": [],
   "source": [
    "client.tables.queryTables(attrs__title__contains=\"Pattern\").result()"
   ]
  },
  {
   "cell_type": "markdown",
   "id": "affecting-angola",
   "metadata": {},
   "source": [
    "**use unflatten to convert underscores to nested dict**"
   ]
  },
  {
   "cell_type": "code",
   "execution_count": null,
   "id": "invalid-gathering",
   "metadata": {},
   "outputs": [],
   "source": [
    "unflatten({\"_pd_proc_range_min\": 1, \"_pd_proc_range_max\": 2}, splitter=\"underscore\")"
   ]
  }
 ],
 "metadata": {
  "kernelspec": {
   "display_name": "Python 3",
   "language": "python",
   "name": "python3"
  },
  "language_info": {
   "codemirror_mode": {
    "name": "ipython",
    "version": 3
   },
   "file_extension": ".py",
   "mimetype": "text/x-python",
   "name": "python",
   "nbconvert_exporter": "python",
   "pygments_lexer": "ipython3",
   "version": "3.9.1"
  }
 },
 "nbformat": 4,
 "nbformat_minor": 5
}
