{
 "cells": [
  {
   "cell_type": "code",
   "execution_count": null,
   "id": "south-skirt",
   "metadata": {},
   "outputs": [],
   "source": [
    "from mpcontribs.client import Client"
   ]
  },
  {
   "cell_type": "code",
   "execution_count": null,
   "id": "pending-bookmark",
   "metadata": {},
   "outputs": [],
   "source": [
    "name = \"intermatch\"\n",
    "client = Client()"
   ]
  },
  {
   "cell_type": "code",
   "execution_count": null,
   "id": "polar-disaster",
   "metadata": {
    "scrolled": true
   },
   "outputs": [],
   "source": [
    "client.get_project(name).display()"
   ]
  },
  {
   "cell_type": "code",
   "execution_count": null,
   "id": "statutory-sampling",
   "metadata": {},
   "outputs": [],
   "source": [
    "contributions = [\n",
    "    {\n",
    "        \"project\": name,\n",
    "        \"identifier\": \"mp-48\",\n",
    "        \"data\": {\n",
    "            \"interface\": \"mp-22850\",\n",
    "            \"Δn\": 1.3, \"ε\": 3.6199, \"atoms\": 208, \"θ\": \"0 °\",\n",
    "            \"surface\": {\"N₁\": 40, \"N₂\": 6, \"ratio\": 6.666},\n",
    "            \"v₁\": {\"i₁₁\": -8, \"i₁₂\": 8, \"i₂₁\": -3, \"i₂₂\": 3},\n",
    "            \"v₂\": {\"j₁₁\": -13, \"j₁₂\": 8, \"j₂₁\": -5, \"j₂₂\": 3}\n",
    "        }\n",
    "    }\n",
    "]"
   ]
  },
  {
   "cell_type": "code",
   "execution_count": null,
   "id": "legal-oxide",
   "metadata": {},
   "outputs": [],
   "source": [
    "client.delete_contributions(name)"
   ]
  },
  {
   "cell_type": "code",
   "execution_count": null,
   "id": "south-function",
   "metadata": {},
   "outputs": [],
   "source": [
    "client.submit_contributions(contributions)"
   ]
  },
  {
   "cell_type": "code",
   "execution_count": null,
   "id": "victorian-tennis",
   "metadata": {},
   "outputs": [],
   "source": [
    "client.session.close()"
   ]
  }
 ],
 "metadata": {
  "kernelspec": {
   "display_name": "Python 3",
   "language": "python",
   "name": "python3"
  },
  "language_info": {
   "codemirror_mode": {
    "name": "ipython",
    "version": 3
   },
   "file_extension": ".py",
   "mimetype": "text/x-python",
   "name": "python",
   "nbconvert_exporter": "python",
   "pygments_lexer": "ipython3",
   "version": "3.9.1"
  }
 },
 "nbformat": 4,
 "nbformat_minor": 5
}
