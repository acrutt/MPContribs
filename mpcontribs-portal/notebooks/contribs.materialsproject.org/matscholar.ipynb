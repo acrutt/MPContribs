{
 "cells": [
  {
   "cell_type": "code",
   "execution_count": null,
   "id": "antique-helicopter",
   "metadata": {},
   "outputs": [],
   "source": [
    "from pathlib import Path\n",
    "from mpcontribs.client import Client, Attachment"
   ]
  },
  {
   "cell_type": "code",
   "execution_count": null,
   "id": "insured-favor",
   "metadata": {},
   "outputs": [],
   "source": [
    "client = Client(apikey=\"your-api-key-here\", project=\"matscholar\")"
   ]
  },
  {
   "cell_type": "code",
   "execution_count": null,
   "id": "loving-pottery",
   "metadata": {
    "scrolled": true
   },
   "outputs": [],
   "source": [
    "# show available query parameters (updates as data is added to the project)\n",
    "client.available_query_params()"
   ]
  },
  {
   "cell_type": "code",
   "execution_count": null,
   "id": "immune-confirmation",
   "metadata": {},
   "outputs": [],
   "source": [
    "# define columns and their units (use dot notation to indicate grouping/nesting)\n",
    "# None = string field, \"\" = dimensionless number\n",
    "columns = {\n",
    "    \"doi\": None,\n",
    "    \"symmetry.symbol\": None,\n",
    "    \"symmetry.system\": None,\n",
    "    \"symmetry.number\": \"\",\n",
    "    \"bandgap\": \"eV\"\n",
    "}"
   ]
  },
  {
   "cell_type": "code",
   "execution_count": null,
   "id": "educated-stanford",
   "metadata": {},
   "outputs": [],
   "source": [
    "# generate list of contribution dictionaries\n",
    "contributions = [\n",
    "    {\n",
    "        \"identifier\": \"custom_hash\", # or any string to uniquely identify entry/contribution\n",
    "        \"formula\": \"Fe3S4\",\n",
    "        \"data\": {\n",
    "            \"doi\": \"https://doi.org/10.17188/1196965\", # if saved as full URL, a link will be shown in the explorer\n",
    "            \"symmetry\": {\n",
    "                \"symbol\": \"Fd3̅m\",\n",
    "                \"system\": \"cubic\",\n",
    "                \"number\": 227\n",
    "            },\n",
    "            \"bandgap\": \"3.12 eV\"\n",
    "        },\n",
    "#         \"attachments\": [ # create from data, or load gzipped text or images from disk using Path\n",
    "#             Attachment.from_data(\"other\", {\"hello\": \"world\", \"test\": [1,2,4]})\n",
    "#             Path(\"2021-02-19_scan_mpids_changed.json.gz\"),\n",
    "#             Path(\"IMG-20210224-WA0010.jpg\")\n",
    "#         ],\n",
    "#         \"structures\": [pymatgen.Structure, ...],\n",
    "#         \"tables\": [pandas.DataFrame, ...]\n",
    "    },\n",
    "    # ...\n",
    "]"
   ]
  },
  {
   "cell_type": "code",
   "execution_count": null,
   "id": "fifth-professor",
   "metadata": {},
   "outputs": [],
   "source": [
    "client.delete_contributions()\n",
    "client.init_columns(columns)\n",
    "client.submit_contributions(contributions)\n",
    "# this shouldn't be necessary but need to re-init columns likely due to bug in API server\n",
    "client.init_columns(columns)\n",
    "client.available_query_params()"
   ]
  },
  {
   "cell_type": "code",
   "execution_count": null,
   "id": "atmospheric-disney",
   "metadata": {},
   "outputs": [],
   "source": [
    "# query contributions\n",
    "query = {\n",
    "    \"data__bandgap__value__gt\": 3,\n",
    "    \"data__doi__endswith\": \"/1196965\",\n",
    "    \"data__symmetry__system__exact\": \"cubic\"\n",
    "}\n",
    "fields = [\"identifier\", \"formula\", \"data.doi\"]\n",
    "client.query_contributions(query=query, fields=fields, paginate=True)"
   ]
  }
 ],
 "metadata": {
  "kernelspec": {
   "display_name": "Python 3",
   "language": "python",
   "name": "python3"
  },
  "language_info": {
   "codemirror_mode": {
    "name": "ipython",
    "version": 3
   },
   "file_extension": ".py",
   "mimetype": "text/x-python",
   "name": "python",
   "nbconvert_exporter": "python",
   "pygments_lexer": "ipython3",
   "version": "3.9.1"
  }
 },
 "nbformat": 4,
 "nbformat_minor": 5
}
