{
 "cells": [
  {
   "cell_type": "code",
   "execution_count": null,
   "id": "1cb88fde-b5ac-4edb-867f-fe9da4ced92e",
   "metadata": {},
   "outputs": [],
   "source": [
    "from mpcontribs.client import Client\n",
    "from monty.serialization import loadfn\n",
    "from json import loads\n",
    "from pymatgen.core.structure import Molecule, Structure\n",
    "from pathlib import Path\n",
    "from time import time"
   ]
  },
  {
   "cell_type": "code",
   "execution_count": null,
   "id": "ac064a36-4021-48f9-80a0-d93b1e5287fe",
   "metadata": {},
   "outputs": [],
   "source": [
    "name = \"sandbox\"  # open_catalyst_project\n",
    "client = Client()"
   ]
  },
  {
   "cell_type": "code",
   "execution_count": null,
   "id": "0f9c4758-12a4-4ecf-b15f-b1cd561de974",
   "metadata": {},
   "outputs": [],
   "source": [
    "client.get_project(name)"
   ]
  },
  {
   "cell_type": "code",
   "execution_count": null,
   "id": "fe775de9-1862-4927-8e95-75cbb50a0052",
   "metadata": {},
   "outputs": [],
   "source": [
    "authors = \"Facebook AI Research (FAIR) and Carnegie Mellon University’s (CMU) Department of Chemical Engineering\"\n",
    "# client.projects.update_entry(pk=name, project={\n",
    "#     \"authors\": authors, \"unique_identifiers\": False # use data.id as unique ID in this project\n",
    "# }).result()"
   ]
  },
  {
   "cell_type": "code",
   "execution_count": null,
   "id": "prospective-conclusion",
   "metadata": {},
   "outputs": [],
   "source": [
    "client.init_columns(name, {\n",
    "    \"id\": None, # id\n",
    "    \"energy\": \"meV\", # adsorption_energy\n",
    "    \"smiles\": None, # adsorbate_smiles\n",
    "    \"formulas.IUPAC\": None,\n",
    "    \"formulas.bulk\": None,\n",
    "    \"formulas.trajectory\": None,\n",
    "    \"surface.miller\": None,\n",
    "    \"surface.top\": None,\n",
    "    \"surface.shift\": \"\"\n",
    "})"
   ]
  },
  {
   "cell_type": "code",
   "execution_count": null,
   "id": "ddb1b95a-e999-44cb-80f0-6f28a0253fbc",
   "metadata": {},
   "outputs": [],
   "source": [
    "p = Path(\"/Users/patrick/GoogleDriveLBNL/MaterialsProject/gitrepos/mpcontribs-data/ocp-sample\")\n",
    "jsons = list(p.glob(\"*.json.gz\"))"
   ]
  },
  {
   "cell_type": "code",
   "execution_count": null,
   "id": "cddad6a7-7c16-460e-b351-46e80bb601de",
   "metadata": {},
   "outputs": [],
   "source": [
    "def get_miller(indices):\n",
    "    return f\"[{indices[0]}{indices[1]}{indices[2]}]\"\n",
    "\n",
    "def get_contribution(path):\n",
    "    \n",
    "    if path.stat().st_size / 1024 < 150:\n",
    "    \n",
    "        data = loadfn(path)\n",
    "        struct = data['trajectory'][-1]\n",
    "        struct.add_site_property('tags', [int(t) for t in data['tags']])\n",
    "\n",
    "        mol = Molecule.from_sites([site for site in struct if site.properties['tags'] == 2])\n",
    "        iupac_formula = mol.composition.iupac_formula\n",
    "        bulk_struct = Structure.from_sites([site for site in struct if site.properties['tags'] != 2])\n",
    "        bulk_formula = bulk_struct.composition.reduced_formula\n",
    "\n",
    "        search_data = {\n",
    "            \"id\": data['id'],\n",
    "            \"energy\": f'{data[\"adsorption_energy\"]} meV',\n",
    "            \"smiles\": data[\"adsorbate_smiles\"],\n",
    "            \"formulas.IUPAC\": iupac_formula,\n",
    "            \"formulas.bulk\": bulk_formula,\n",
    "            \"formulas.trajectory\": struct.composition.reduced_formula,\n",
    "            \"surface.miller\": get_miller(data[\"surface_miller_indices\"]),\n",
    "            \"surface.top\": str(data[\"surface_top\"]),\n",
    "            \"surface.shift\": data[\"surface_shift\"]\n",
    "        }\n",
    "\n",
    "        contribution = {\n",
    "            \"project\": name,\n",
    "            \"identifier\": data[\"bulk_id\"],\n",
    "            \"data\": search_data,\n",
    "            \"structures\": [struct],\n",
    "            \"attachments\": [path]\n",
    "        }\n",
    "\n",
    "        return contribution"
   ]
  },
  {
   "cell_type": "code",
   "execution_count": null,
   "id": "45ce4773-786d-4c7a-9b5d-2c615094b39a",
   "metadata": {},
   "outputs": [],
   "source": [
    "contributions = [get_contribution(json) for json in jsons[:50]]\n",
    "len(contributions)"
   ]
  },
  {
   "cell_type": "code",
   "execution_count": null,
   "id": "8c29365f-0243-4a01-bd5c-a03c1aa528d3",
   "metadata": {},
   "outputs": [],
   "source": [
    "client.submit_contributions(contributions[:5])"
   ]
  },
  {
   "cell_type": "code",
   "execution_count": null,
   "id": "derived-clone",
   "metadata": {},
   "outputs": [],
   "source": [
    "all_ids = client.get_all_ids(\n",
    "    {\"project\": name},\n",
    "    include=[\"structures\", \"attachments\"],\n",
    "    data_id_fields={name: \"id\"}\n",
    ").get(name)"
   ]
  },
  {
   "cell_type": "code",
   "execution_count": null,
   "id": "complicated-height",
   "metadata": {},
   "outputs": [],
   "source": [
    "cids = list(all_ids[\"ids\"])\n",
    "sids = list(all_ids[\"structures\"][\"ids\"])\n",
    "aids = list(all_ids[\"attachments\"][\"ids\"])"
   ]
  },
  {
   "cell_type": "code",
   "execution_count": null,
   "id": "wound-athletics",
   "metadata": {},
   "outputs": [],
   "source": [
    "client.get_contribution(cids[0])"
   ]
  },
  {
   "cell_type": "code",
   "execution_count": null,
   "id": "eb35c98b-5047-4719-b70b-0e8bce26bc56",
   "metadata": {},
   "outputs": [],
   "source": [
    "client.delete_contributions(name)"
   ]
  }
 ],
 "metadata": {
  "kernelspec": {
   "display_name": "Python 3",
   "language": "python",
   "name": "python3"
  },
  "language_info": {
   "codemirror_mode": {
    "name": "ipython",
    "version": 3
   },
   "file_extension": ".py",
   "mimetype": "text/x-python",
   "name": "python",
   "nbconvert_exporter": "python",
   "pygments_lexer": "ipython3",
   "version": "3.9.1"
  }
 },
 "nbformat": 4,
 "nbformat_minor": 5
}
