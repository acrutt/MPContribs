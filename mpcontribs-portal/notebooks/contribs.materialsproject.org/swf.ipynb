{
 "cells": [
  {
   "cell_type": "code",
   "execution_count": null,
   "id": "special-producer",
   "metadata": {},
   "outputs": [],
   "source": [
    "import pandas as pd\n",
    "from mpcontribs.client import Client\n",
    "from pathlib import Path"
   ]
  },
  {
   "cell_type": "code",
   "execution_count": null,
   "id": "spoken-stations",
   "metadata": {},
   "outputs": [],
   "source": [
    "name = \"swf\"\n",
    "client = Client()"
   ]
  },
  {
   "cell_type": "code",
   "execution_count": null,
   "id": "adaptive-picture",
   "metadata": {},
   "outputs": [],
   "source": [
    "client.get_project(name)"
   ]
  },
  {
   "cell_type": "code",
   "execution_count": null,
   "id": "necessary-strap",
   "metadata": {},
   "outputs": [],
   "source": [
    "datadir = Path(\"/Users/patrick/GoogleDriveLBNL/MaterialsProject/gitrepos/mpcontribs-data/swf\")\n",
    "identifier = \"mp-1216347\""
   ]
  },
  {
   "cell_type": "code",
   "execution_count": null,
   "id": "mobile-tucson",
   "metadata": {},
   "outputs": [],
   "source": [
    "kondorsky = pd.read_csv(datadir / \"kondorsky.csv\")\n",
    "kondorsky.set_index(\"Angle\", inplace=True)\n",
    "kondorsky.index.name = \"Angle [°]\"\n",
    "kondorsky.columns.name = \"Type\"\n",
    "kondorsky.attrs = {\n",
    "    \"title\": \"Angular Dependence of Switching Field\",\n",
    "    \"labels\": {\"value\": \"Switching Field [T]\"},\n",
    "    \"log_y\": True # TODO check if goes through\n",
    "}\n",
    "kondorsky.plot(**kondorsky.attrs)"
   ]
  },
  {
   "cell_type": "code",
   "execution_count": null,
   "id": "removable-election",
   "metadata": {},
   "outputs": [],
   "source": [
    "ip = pd.read_csv(datadir / \"ip_energy_product.csv\")\n",
    "ip.set_index(\"IP\", inplace=True)\n",
    "ip.index.name = \"IP Energy Product [kJ/m³]\"\n",
    "ip.columns.name = \"Elements\"\n",
    "ip.attrs = {\n",
    "    \"title\": \"IP Energy Product\",\n",
    "    \"labels\": {\"value\": \"Composition [at%]\"},\n",
    "    \"kind\": \"scatter\" # TODO check if goes through\n",
    "}\n",
    "ip.plot(**ip.attrs)"
   ]
  },
  {
   "cell_type": "code",
   "execution_count": null,
   "id": "suitable-management",
   "metadata": {},
   "outputs": [],
   "source": [
    "# TODO moke, vsm, total"
   ]
  },
  {
   "cell_type": "code",
   "execution_count": null,
   "id": "abroad-replication",
   "metadata": {},
   "outputs": [],
   "source": [
    "# set table names\n",
    "kondorsky.attrs[\"name\"] = \"Kondorsky\"\n",
    "#ip.attrs[\"name\"] = \"IP Energy Product\""
   ]
  },
  {
   "cell_type": "code",
   "execution_count": null,
   "id": "continent-velvet",
   "metadata": {
    "scrolled": true
   },
   "outputs": [],
   "source": [
    "contributions = [{\n",
    "    \"project\": name, \"identifier\": identifier, \"is_public\": True,\n",
    "    \"data\": {\"kondorsky\": {\"Fe\": \"42.1707 %\", \"Co\": \"8.034 %\", \"V\": \"49.7953 %\"}},\n",
    "    \"tables\": [kondorsky, ip]#, moke, vsm, total˜]\n",
    "}]\n",
    "len(contributions)"
   ]
  },
  {
   "cell_type": "code",
   "execution_count": null,
   "id": "packed-prisoner",
   "metadata": {},
   "outputs": [],
   "source": [
    "client.delete_contributions(name)\n",
    "client.submit_contributions(contributions)"
   ]
  },
  {
   "cell_type": "code",
   "execution_count": null,
   "id": "simplified-standard",
   "metadata": {},
   "outputs": [],
   "source": [
    "all_ids = client.get_all_ids({\"project\": name}, include=[\"tables\"]).get(name, {})\n",
    "cids = list(all_ids[\"ids\"])\n",
    "tids = list(all_ids[\"tables\"][\"ids\"])"
   ]
  },
  {
   "cell_type": "code",
   "execution_count": null,
   "id": "sweet-pierre",
   "metadata": {},
   "outputs": [],
   "source": [
    "client.get_contribution(cids[0])"
   ]
  },
  {
   "cell_type": "code",
   "execution_count": null,
   "id": "chicken-compression",
   "metadata": {},
   "outputs": [],
   "source": [
    "t = client.get_table(tids[0])"
   ]
  },
  {
   "cell_type": "code",
   "execution_count": null,
   "id": "alpha-therapist",
   "metadata": {},
   "outputs": [],
   "source": [
    "t.display()"
   ]
  }
 ],
 "metadata": {
  "kernelspec": {
   "display_name": "Python 3",
   "language": "python",
   "name": "python3"
  },
  "language_info": {
   "codemirror_mode": {
    "name": "ipython",
    "version": 3
   },
   "file_extension": ".py",
   "mimetype": "text/x-python",
   "name": "python",
   "nbconvert_exporter": "python",
   "pygments_lexer": "ipython3",
   "version": "3.9.1"
  }
 },
 "nbformat": 4,
 "nbformat_minor": 5
}
