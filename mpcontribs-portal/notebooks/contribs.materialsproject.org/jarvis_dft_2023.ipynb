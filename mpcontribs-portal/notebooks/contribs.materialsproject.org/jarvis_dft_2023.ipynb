{
 "cells": [
  {
   "cell_type": "code",
   "execution_count": null,
   "id": "committed-sculpture",
   "metadata": {},
   "outputs": [],
   "source": [
    "from mpcontribs.client import Client, Attachment\n",
    "from jarvis.db.figshare import data as jarvis_db\n",
    "from pymatgen.io.jarvis import JarvisAtomsAdaptor\n",
    "from jarvis.core.atoms import Atoms\n",
    "from flatten_dict import flatten, unflatten\n",
    "import pandas as pd"
   ]
  },
  {
   "cell_type": "code",
   "execution_count": null,
   "id": "korean-client",
   "metadata": {},
   "outputs": [],
   "source": [
    "client = Client(project=\"jarvis_dft_2023\")"
   ]
  },
  {
   "cell_type": "code",
   "execution_count": null,
   "id": "nominated-classics",
   "metadata": {},
   "outputs": [],
   "source": [
    "name = 'dft_3d' # TODO dft_2d\n",
    "data = jarvis_db(name)"
   ]
  },
  {
   "cell_type": "code",
   "execution_count": null,
   "id": "antique-charleston",
   "metadata": {},
   "outputs": [],
   "source": [
    "columns = {\n",
    "    'jid': {'name': 'jarvis', 'unit': None},\n",
    "    'Tc_supercon': {'name': 'Tc', 'unit': 'K'},\n",
    "    'avg_elec_mass': {'name': 'mass|avg.elec', 'unit': 'mₑ'},\n",
    "    'avg_hole_mass': {'name': 'mass|avg.hole', 'unit': 'mₑ'},\n",
    "    'bulk_modulus_kv': {'name': 'moduli.bulk|voigt', 'unit': 'GPa'},\n",
    "    'shear_modulus_gv': {'name': 'moduli.shear', 'unit': 'GPa'},\n",
    "    'crys': {'name': 'crystal', 'unit': None},\n",
    "    'density': {'name': 'density', 'unit': 'g/cm³'},\n",
    "    'dfpt_piezo_max_dielectric': {'name': 'piezo|max.dielectric.total', 'unit': 'C/m²'},\n",
    "    'dfpt_piezo_max_dielectric_electronic': {'name': 'piezo|max.dielectric.electronic', 'unit': 'C/m²'},\n",
    "    'dfpt_piezo_max_dielectric_ionic': {'name': 'piezo|max.dielectric.ionic', 'unit': 'C/m²'},\n",
    "    'dfpt_piezo_max_dij': {'name': 'piezo|max.dij', 'unit': 'C/m²'},\n",
    "    'dfpt_piezo_max_eij': {'name': 'piezo|max.eij', 'unit': 'C/m²'},\n",
    "    'dimensionality': {'name': 'dimensionality', 'unit': None},\n",
    "    'effective_masses_300K.n': {'name': 'mass|eff.n|300K', 'unit': ''},\n",
    "    'effective_masses_300K.p': {'name': 'mass|eff.p|300K', 'unit': ''},\n",
    "    'spg_number': {'name': 'spacegroup.number', 'unit': ''},\n",
    "    'spg_symbol': {'name': 'spacegroup.symbol', 'unit': None},\n",
    "    'hse_gap': {'name': 'bandgaps.HSE', 'unit': 'eV'},\n",
    "    'mbj_bandgap': {'name': 'bandgaps.TBmBJ', 'unit': 'eV'},\n",
    "    'optb88vdw_bandgap': {'name': 'bandgaps.OptB88vdW', 'unit': 'eV'},\n",
    "    'n-powerfact': {'name': 'powerfactor.n', 'unit': 'µW/K²/m²'},\n",
    "    'p-powerfact': {'name': 'powerfactor.p', 'unit': 'µW/K²/m²'},\n",
    "    'slme': {'name': 'SLME', 'unit': '%'},\n",
    "    'spillage': {'name': 'spillage', 'unit': ''},\n",
    "    'encut': {'name': 'ENCUT', 'unit': 'eV'},\n",
    "    'magmom_oszicar': {'name': 'magmoms.oszicar', 'unit': 'µB'},\n",
    "    'magmom_outcar': {'name': 'magmoms.outcar', 'unit': 'µB'},\n",
    "    'n-Seebeck': {'name': 'seebeck.n', 'unit': 'µV/K'},\n",
    "    'p-Seebeck': {'name': 'seebeck.p', 'unit': 'µV/K'},\n",
    "    'epsx': {'name': 'refractive.x', 'unit': ''},\n",
    "    'epsy': {'name': 'refractive.y', 'unit': ''},\n",
    "    'epsz': {'name': 'refractive.z', 'unit': ''},\n",
    "    'max_ir_mode': {'name': 'IR.max', 'unit': 'cm⁻¹'},\n",
    "    'min_ir_mode': {'name': 'IR.min', 'unit': 'cm⁻¹'},\n",
    "    'ncond': {'name': 'Ncond', 'unit': ''},\n",
    "    'nkappa': {'name': 'kappa.n', 'unit': ''},\n",
    "    'pkappa': {'name': 'kappa.p', 'unit': ''},\n",
    "    'exfoliation_energy': {'name': 'energies.exfoliation', 'unit': 'eV'},\n",
    "    'formation_energy_peratom': {'name': 'energies.formation', 'unit': 'eV/atom'},\n",
    "    'ehull': {'name': 'energies.hull', 'unit': 'eV'},\n",
    "    'optb88vdw_total_energy': {'name': 'energies.OptB88vdW', 'unit': 'eV'},    \n",
    "    'max_efg': {'name': 'EFG', 'unit': 'V/m²'},\n",
    "    'func': {'name': 'functional', 'unit': None},\n",
    "    'kpoint_length_unit': {'name': 'kpoints', 'unit': ''},\n",
    "    'typ': {'name': 'type', 'unit': None},\n",
    "    'nat': {'name': 'natoms', 'unit': ''},    \n",
    "    'search': {'name': 'search', 'unit': None},\n",
    "    'maxdiff_bz': {'name': 'maxdiff.bz', 'unit': ''},\n",
    "    'maxdiff_mesh': {'name': 'maxdiff.mesh', 'unit': ''},\n",
    "    'mepsx': {'name': 'meps.x', 'unit': ''},\n",
    "    'mepsy': {'name': 'meps.y', 'unit': ''},\n",
    "    'mepsz': {'name': 'meps.z', 'unit': ''},\n",
    "    'pcond': {'name': 'pcond', 'unit': ''},\n",
    "    'poisson': {'name': 'poisson', 'unit': ''},\n",
    "}"
   ]
  },
  {
   "cell_type": "code",
   "execution_count": null,
   "id": "hazardous-rings",
   "metadata": {
    "scrolled": true
   },
   "outputs": [],
   "source": [
    "contributions = []\n",
    "list_keys = ['efg', 'elastic_tensor', 'modes', 'icsd']\n",
    "identifier_key = \"reference\"\n",
    "formula_key = \"formula\"\n",
    "prefixes = (\"mp-\", \"mvc-\")\n",
    "jarvis_url = 'https://www.ctcms.nist.gov/~knc6/static/JARVIS-DFT/'\n",
    "identifiers = set()\n",
    "\n",
    "for entry in data:\n",
    "    identifier = entry[identifier_key]\n",
    "    if not entry[identifier_key].startswith(prefixes) or identifier in identifiers:\n",
    "        continue\n",
    "        \n",
    "    identifiers.add(identifier)\n",
    "    contrib = {\"identifier\": identifier, \"formula\": entry[formula_key], \"data\": {}}\n",
    "    attm_data = {}\n",
    "    \n",
    "    for k, v in entry.items():\n",
    "        if not v or v == \"na\" or k == \"xml_data_link\":\n",
    "            continue\n",
    "        if k == \"jid\":\n",
    "            contrib[\"data\"][columns[k][\"name\"]] = f\"{jarvis_url}{v}.xml\"\n",
    "        elif k == \"atoms\":\n",
    "            continue\n",
    "#             if \"structures\" not in contrib:\n",
    "#                 contrib[\"structures\"] = []\n",
    "#             atoms = Atoms.from_dict(entry[k])\n",
    "#             contrib[\"structures\"].append(JarvisAtomsAdaptor.get_structure(atoms))\n",
    "        elif k == \"raw_files\":\n",
    "            contrib[\"data\"][\"files\"] = {}\n",
    "            for x in v:\n",
    "                xs = [s for s in x.split(\",\")]\n",
    "                name, url = xs[0].replace(\"-\", \"|\"), xs[2]\n",
    "                contrib[\"data\"][f\"files.{name}\"] = url\n",
    "        elif k in list_keys:\n",
    "            if isinstance(v, str) and \",\" in v:\n",
    "                attm_data[k] = v.split(\",\")\n",
    "            else:\n",
    "                attm_data[k] = v\n",
    "        elif k in columns:\n",
    "            name, unit = columns[k][\"name\"], columns[k][\"unit\"]\n",
    "            contrib[\"data\"][name] = f\"{v} {unit}\" if unit else v\n",
    "    \n",
    "    if attm_data:\n",
    "        contrib[\"attachments\"] = [Attachment.from_data(\"lists\", attm_data)]\n",
    "\n",
    "    contrib[\"data\"] = unflatten(contrib[\"data\"], splitter=\"dot\")\n",
    "    contributions.append(contrib)\n",
    "\n",
    "len(contributions)"
   ]
  },
  {
   "cell_type": "code",
   "execution_count": null,
   "id": "associate-mustang",
   "metadata": {},
   "outputs": [],
   "source": [
    "# get column names for \"files\"\n",
    "files_columns = set()\n",
    "\n",
    "for contrib in contributions:\n",
    "    if \"files\" in contrib[\"data\"]:\n",
    "        flat_files = flatten(contrib[\"data\"][\"files\"], reducer=\"dot\")\n",
    "        files_columns.update(flat_files.keys())\n",
    "        \n",
    "files_columns"
   ]
  },
  {
   "cell_type": "code",
   "execution_count": null,
   "id": "prime-catering",
   "metadata": {},
   "outputs": [],
   "source": [
    "columns_map = {v[\"name\"]: v[\"unit\"] for k, v in columns.items()}\n",
    "for k in files_columns:\n",
    "    columns_map[f\"files.{k}\"] = None"
   ]
  },
  {
   "cell_type": "code",
   "execution_count": null,
   "id": "valued-cloud",
   "metadata": {},
   "outputs": [],
   "source": [
    "client.delete_contributions()\n",
    "client.init_columns(columns_map)"
   ]
  },
  {
   "cell_type": "code",
   "execution_count": null,
   "id": "suburban-possession",
   "metadata": {},
   "outputs": [],
   "source": [
    "client.submit_contributions(contributions, ignore_dupes=True)\n",
    "client.init_columns(columns_map)"
   ]
  },
  {
   "cell_type": "code",
   "execution_count": null,
   "id": "voluntary-deputy",
   "metadata": {},
   "outputs": [],
   "source": [
    "client._reinit()"
   ]
  },
  {
   "cell_type": "code",
   "execution_count": null,
   "id": "disturbed-enclosure",
   "metadata": {},
   "outputs": [],
   "source": [
    "ncontribs, _ = client.get_totals()\n",
    "ncontribs"
   ]
  },
  {
   "cell_type": "code",
   "execution_count": null,
   "id": "pacific-wilson",
   "metadata": {},
   "outputs": [],
   "source": [
    "[p for p in client.available_query_params() if p.startswith(\"data__energies\")]"
   ]
  },
  {
   "cell_type": "code",
   "execution_count": null,
   "id": "fifty-lingerie",
   "metadata": {},
   "outputs": [],
   "source": [
    "query = {\"data__energies__hull__value__lte\": 0.05}\n",
    "count, _ = client.get_totals(query=query)\n",
    "print(f\"materials with ehull <= 0.05 eV/atom: {count/ncontribs*100:.1f}%\")\n",
    "fields = [\"identifier\", \"formula\", \"data.energies.hull.value\"]\n",
    "sort = \"data.energies.hull.value\"\n",
    "contribs = client.query_contributions(query=query, fields=fields, sort=sort, paginate=True)\n",
    "pd.json_normalize(contribs[\"data\"])"
   ]
  },
  {
   "cell_type": "code",
   "execution_count": null,
   "id": "assured-protection",
   "metadata": {},
   "outputs": [],
   "source": [
    "# Material-screening: find materials with Bi element, spin-orbit spillage >= 0.5,\n",
    "# OptB88vdW bandgaps > 0.01, energy above convex hull < 0.1 eV/atom , and  SLME > 5%\n",
    "query = {\n",
    "    \"formula__contains\": \"Bi\",\n",
    "    \"data__spillage__value__gte\": 0.5,\n",
    "    \"data__bandgaps__OptB88vdW__value__gt\": 0.01,\n",
    "    \"data__energies__hull__value__lt\": 0.1,\n",
    "    \"data__SLME__value__gt\": 5\n",
    "}\n",
    "fields = [\n",
    "    \"identifier\", \"formula\", \"data.spillage.value\", \"data.bandgaps.OptB88vdW.value\",\n",
    "    \"data.energies.hull.value\", \"data.SLME.value\",\n",
    "]\n",
    "contribs = client.query_contributions(query=query, fields=fields, sort=sort, paginate=True)\n",
    "pd.json_normalize(contribs[\"data\"])"
   ]
  },
  {
   "cell_type": "code",
   "execution_count": null,
   "id": "wireless-recovery",
   "metadata": {},
   "outputs": [],
   "source": [
    "# find all cubic materials\n",
    "query = {\"data__crystal__exact\": \"cubic\"}\n",
    "fields = [\"identifier\", \"formula\", \"data.crystal\", \"data.energies.hull.value\"]\n",
    "contribs = client.query_contributions(query=query, fields=fields, sort=sort, paginate=True)\n",
    "pd.json_normalize(contribs[\"data\"])"
   ]
  }
 ],
 "metadata": {
  "kernelspec": {
   "display_name": "Python 3",
   "language": "python",
   "name": "python3"
  },
  "language_info": {
   "codemirror_mode": {
    "name": "ipython",
    "version": 3
   },
   "file_extension": ".py",
   "mimetype": "text/x-python",
   "name": "python",
   "nbconvert_exporter": "python",
   "pygments_lexer": "ipython3",
   "version": "3.9.1"
  }
 },
 "nbformat": 4,
 "nbformat_minor": 5
}
