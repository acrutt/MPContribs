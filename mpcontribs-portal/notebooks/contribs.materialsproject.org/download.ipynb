{
 "cells": [
  {
   "cell_type": "code",
   "execution_count": null,
   "id": "catholic-tiffany",
   "metadata": {},
   "outputs": [],
   "source": [
    "from mpcontribs.client import Client"
   ]
  },
  {
   "cell_type": "code",
   "execution_count": null,
   "id": "approximate-colleague",
   "metadata": {},
   "outputs": [],
   "source": [
    "# see docstrings for more info about arguments to all methods\n",
    "client = Client(project=\"carrier_transport\")"
   ]
  },
  {
   "cell_type": "code",
   "execution_count": null,
   "id": "naval-strand",
   "metadata": {},
   "outputs": [],
   "source": [
    "fields = [\"id\", \"identifier\", \"formula\", \"data.mₑᶜ.p.ε̄.value\"] # which fields to retrieve\n",
    "sort = \"-data__mₑᶜ__p__ε̄__value\" # field to sort by (NOTE `__value`!); use +/- for asc/desc\n",
    "# see https://contribs-api.materialsproject.org/#/contributions/get_entries for available query parameters\n",
    "query = {\n",
    "#     \"formula_contains\": \"ZnS\",\n",
    "#    \"identifier__in\": [\"mp-10695\", \"mp-760381\"], # ZnS, CuS\n",
    "    \"data__functional__exact\": \"GGA+U\",\n",
    "    \"data__metal__contains\": \"Y\",\n",
    "    \"data__mₑᶜ__p__ε̄__value__gte\": 1000,\n",
    "}\n",
    "client.get_totals(query=query) # lightweight call to count results"
   ]
  },
  {
   "cell_type": "code",
   "execution_count": null,
   "id": "consolidated-bidding",
   "metadata": {},
   "outputs": [],
   "source": [
    "# retrieve a list of results in dictionary\n",
    "# paginate=True to retrieve all results if needed\n",
    "client.query_contributions(query=query, fields=fields, sort=sort)"
   ]
  },
  {
   "cell_type": "code",
   "execution_count": null,
   "id": "charitable-nation",
   "metadata": {},
   "outputs": [],
   "source": [
    "query[\"_fields\"] = fields\n",
    "query[\"sort\"] = sort\n",
    "query[\"format\"] = \"csv\" # \"csv\" or \"json\"\n",
    "client.download_contributions(\n",
    "    query=query,\n",
    "    outdir=\"mpcontribs-downloads/my-query\", # change outdir for different queries\n",
    "    #include=[\"tables\"]  # include the tables in the download\n",
    ")"
   ]
  }
 ],
 "metadata": {
  "kernelspec": {
   "display_name": "Python 3",
   "language": "python",
   "name": "python3"
  },
  "language_info": {
   "codemirror_mode": {
    "name": "ipython",
    "version": 3
   },
   "file_extension": ".py",
   "mimetype": "text/x-python",
   "name": "python",
   "nbconvert_exporter": "python",
   "pygments_lexer": "ipython3",
   "version": "3.9.1"
  }
 },
 "nbformat": 4,
 "nbformat_minor": 5
}
