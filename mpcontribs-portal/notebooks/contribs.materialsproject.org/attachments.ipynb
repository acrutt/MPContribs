{
 "cells": [
  {
   "cell_type": "code",
   "execution_count": null,
   "id": "stopped-herald",
   "metadata": {},
   "outputs": [],
   "source": [
    "from mpcontribs.client import Client, Attachment\n",
    "from pathlib import Path"
   ]
  },
  {
   "cell_type": "code",
   "execution_count": null,
   "id": "electoral-usage",
   "metadata": {},
   "outputs": [],
   "source": [
    "name = \"sandbox\"\n",
    "client = Client()"
   ]
  },
  {
   "cell_type": "code",
   "execution_count": null,
   "id": "banner-choice",
   "metadata": {},
   "outputs": [],
   "source": [
    "downloads = Path(\"/Users/patrick/Downloads\")\n",
    "path_gz = downloads / \"2021-02-19_scan_mpids_changed.json.gz\"\n",
    "path_img = downloads / \"IMG-20210224-WA0010.jpg\"\n",
    "\n",
    "attachment = Attachment.from_data(\"other\", {\"hello\": \"world\", \"test\": [1,2,4]})\n",
    "\n",
    "contributions = [{\n",
    "    \"project\": name,\n",
    "    \"identifier\": \"mp-2\",\n",
    "    \"attachments\": [path_gz, path_img, attachment]\n",
    "}]"
   ]
  },
  {
   "cell_type": "code",
   "execution_count": null,
   "id": "utility-contest",
   "metadata": {},
   "outputs": [],
   "source": [
    "attachment.write(outdir=\"/Users/patrick/Downloads/\")"
   ]
  },
  {
   "cell_type": "code",
   "execution_count": null,
   "id": "flush-speech",
   "metadata": {},
   "outputs": [],
   "source": [
    "client.delete_contributions(name)"
   ]
  },
  {
   "cell_type": "code",
   "execution_count": null,
   "id": "forward-package",
   "metadata": {},
   "outputs": [],
   "source": [
    "client.submit_contributions(contributions)"
   ]
  },
  {
   "cell_type": "code",
   "execution_count": null,
   "id": "bronze-client",
   "metadata": {},
   "outputs": [],
   "source": [
    "query = {\"project\": name}\n",
    "client.get_totals(query=query)"
   ]
  },
  {
   "cell_type": "code",
   "execution_count": null,
   "id": "killing-veteran",
   "metadata": {},
   "outputs": [],
   "source": [
    "all_ids = client.get_all_ids(query=query, include=[\"attachments\"]).get(name)\n",
    "md5s = list(all_ids[\"attachments\"][\"md5s\"])"
   ]
  },
  {
   "cell_type": "code",
   "execution_count": null,
   "id": "imposed-application",
   "metadata": {},
   "outputs": [],
   "source": [
    "attms = client.attachments.get_entries(md5__in=md5s, mime__contains=\"jpeg\", _fields=[\"id\"]).result()\n",
    "aid = attms[\"data\"][0][\"id\"]"
   ]
  },
  {
   "cell_type": "code",
   "execution_count": null,
   "id": "rental-dublin",
   "metadata": {},
   "outputs": [],
   "source": [
    "a = client.get_attachment(aid)\n",
    "a.display()"
   ]
  },
  {
   "cell_type": "code",
   "execution_count": null,
   "id": "invisible-criminal",
   "metadata": {},
   "outputs": [],
   "source": [
    "client.contributions.get_entries(project=name, _fields=[\"attachments\"]).result()"
   ]
  },
  {
   "cell_type": "code",
   "execution_count": null,
   "id": "instructional-north",
   "metadata": {},
   "outputs": [],
   "source": [
    "client.attachments.get_entries(_fields=[\"_all\"]).result()"
   ]
  }
 ],
 "metadata": {
  "kernelspec": {
   "display_name": "Python 3",
   "language": "python",
   "name": "python3"
  },
  "language_info": {
   "codemirror_mode": {
    "name": "ipython",
    "version": 3
   },
   "file_extension": ".py",
   "mimetype": "text/x-python",
   "name": "python",
   "nbconvert_exporter": "python",
   "pygments_lexer": "ipython3",
   "version": "3.9.1"
  }
 },
 "nbformat": 4,
 "nbformat_minor": 5
}
