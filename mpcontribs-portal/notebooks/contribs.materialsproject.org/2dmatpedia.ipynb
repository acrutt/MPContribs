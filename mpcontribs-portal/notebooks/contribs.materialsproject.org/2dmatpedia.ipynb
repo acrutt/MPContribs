{
 "cells": [
  {
   "cell_type": "code",
   "execution_count": null,
   "metadata": {},
   "outputs": [],
   "source": [
    "import os, gzip, json\n",
    "from mpcontribs.client import Client\n",
    "from pymatgen.core import Structure\n",
    "from pymatgen.ext.matproj import MPRester\n",
    "from urllib.request import urlretrieve\n",
    "from monty.json import MontyDecoder"
   ]
  },
  {
   "cell_type": "code",
   "execution_count": null,
   "metadata": {},
   "outputs": [],
   "source": [
    "name = '2dmatpedia'\n",
    "client = Client()\n",
    "mpr = MPRester()"
   ]
  },
  {
   "cell_type": "markdown",
   "metadata": {},
   "source": [
    "**Configure Project**"
   ]
  },
  {
   "cell_type": "code",
   "execution_count": null,
   "metadata": {},
   "outputs": [],
   "source": [
    "description = \"\"\"\n",
    "We start from the around 80000 inorganic compounds in the Materials Project database. A geometry-based\n",
    "algorithm [PRL] was used to identify layered structures among these compounds. Two-dimensional (2D)\n",
    "materials were theoretically exfoliated by extracting one cluster in the standard conventional unit cell\n",
    "of the layered structures screened in the above steps. A 20 Å vacuum along the c axis was imposed to\n",
    "minimize the interactions of image slabs by periodic condition. Structure matcher tools from Pymatgen were\n",
    "used to find duplicates of the exfoliated 2D materials. The standard workflow developed by the Materials\n",
    "Project was used to perform high-throughput calculations for all the layered bulk and 2D materials screened\n",
    "in this project. The calculations were performed by density functional theory as implemented in the Vienna\n",
    "Ab Initio Simulation Package (VASP) software with Perdew-Burke-Ernzerhof (PBE) approximation for the\n",
    "exchange-correlation functional and the frozen-core all-electron projector-augmented wave (PAW) method for\n",
    "the electron-ion interaction. The cutoff energy for the plane wave expansion was set to 520 eV.\n",
    "\"\"\"\n",
    "\n",
    "legend = {\n",
    "    \"details\": \"link to detail page on 2dMatPedia\",\n",
    "    \"source\": \"link to source material\",\n",
    "    \"process\": \"discovery process (top-down or bottom-up)\",\n",
    "    \"ΔE\": \"band gap\",\n",
    "    \"Eᵈ\": \"decomposition energy\",\n",
    "    \"Eˣ\": \"exfoliation energy\",\n",
    "    \"E\": \"energy\",\n",
    "    \"Eᵛᵈʷ\": \"van-der-Waals energy\",\n",
    "    \"µ\": \"total magnetization\"\n",
    "}\n",
    "\n",
    "project = {\n",
    "    'is_public': True,\n",
    "    'title': '2DMatPedia',\n",
    "    'long_title': '2D Materials Encyclopedia',\n",
    "    'owner': 'migueldiascosta@nus.edu.sg',\n",
    "    'authors': 'M. Dias Costa, F.Y. Ping, Z. Jun',\n",
    "    'description': description,\n",
    "    'references': [\n",
    "        {'label': 'WWW', 'url': 'http://www.2dmatpedia.org'},\n",
    "        {'label': 'PRL', 'url': 'https://doi.org/10.1103/PhysRevLett.118.106101'}\n",
    "    ]\n",
    "}\n",
    "\n",
    "# client.projects.update_entry(pk=name, project=project).result()\n",
    "# client.projects.update_entry(pk=name, project={\"other\": legend}).result()\n",
    "client.projects.update_entry(pk=name, project={\"unique_identifiers\": False}).result()"
   ]
  },
  {
   "cell_type": "code",
   "execution_count": null,
   "metadata": {},
   "outputs": [],
   "source": [
    "columns = {\n",
    "    'material_id': {'name': 'details'},\n",
    "    'source_id': {'name': 'source'},\n",
    "    'discovery_process': {'name': 'process'},\n",
    "    'bandgap': {'name': 'ΔE', 'unit': 'eV'},\n",
    "    'decomposition_energy': {'name': 'Eᵈ', 'unit': 'eV/atom'},\n",
    "    'exfoliation_energy_per_atom': {'name': 'Eˣ', 'unit': 'eV/atom'},\n",
    "    'energy_per_atom': {'name': 'E', 'unit': 'eV/atom'},\n",
    "    'energy_vdw_per_atom': {'name': 'Eᵛᵈʷ', 'unit': 'eV/atom'},\n",
    "    'total_magnetization': {'name': 'µ', 'unit': 'µᵇ'}    \n",
    "}\n",
    "\n",
    "init_columns = {\n",
    "    v[\"name\"]: v.get(\"unit\")\n",
    "    for v in columns.values()\n",
    "}\n",
    "\n",
    "client.init_columns(name, init_columns)\n",
    "client.get_project(name).display()"
   ]
  },
  {
   "cell_type": "markdown",
   "metadata": {},
   "source": [
    "**Prepare Contributions**"
   ]
  },
  {
   "cell_type": "code",
   "execution_count": null,
   "metadata": {},
   "outputs": [],
   "source": [
    "db_json = \"http://www.2dmatpedia.org/static/db.json.gz\"\n",
    "raw_data = []  # as read from raw files\n",
    "dbfile = db_json.rsplit('/')[-1]\n",
    "\n",
    "if not os.path.exists(dbfile):\n",
    "    print('downloading', dbfile, '...')\n",
    "    urlretrieve(db_json, dbfile)\n",
    "\n",
    "with gzip.open(dbfile, 'rb') as f:\n",
    "    for line in f:\n",
    "        raw_data.append(json.loads(line, cls=MontyDecoder))\n",
    "\n",
    "len(raw_data)"
   ]
  },
  {
   "cell_type": "code",
   "execution_count": null,
   "metadata": {},
   "outputs": [],
   "source": [
    "details_url = \"http://www.2dmatpedia.org/2dmaterials/doc/\"\n",
    "contributions = []\n",
    "prefixes = {'mp', 'mvc', '2dm'}\n",
    "\n",
    "for rd in raw_data:\n",
    "    source_id = rd['source_id']\n",
    "    prefix = source_id.split('-')[0]\n",
    "    \n",
    "    if prefix not in prefixes:\n",
    "        continue\n",
    "        \n",
    "    identifier = rd['material_id'] if prefix == \"2dm\" else source_id \n",
    "    d = {}\n",
    "    \n",
    "    for k, col in columns.items():\n",
    "        value = rd.get(k)\n",
    "        if not value:\n",
    "            continue\n",
    "        \n",
    "        unit = col.get(\"unit\")\n",
    "\n",
    "        if k == \"material_id\" or (k == \"source_id\" and rd[k].startswith(\"2dm\")):\n",
    "            value = f\"{details_url}{rd[k]}\"\n",
    "        elif k == \"source_id\":\n",
    "            value = f\"https://materialsproject.org/materials/{rd[k]}\"\n",
    "        elif unit:\n",
    "            value = f\"{rd[k]} {unit}\"\n",
    "\n",
    "        d[col[\"name\"]] = value\n",
    "\n",
    "    contrib = {\n",
    "        'project': name, 'is_public': True, 'identifier': identifier,\n",
    "        'data': d, 'structures': [rd[\"structure\"]]\n",
    "    }\n",
    "\n",
    "    contributions.append(contrib)\n",
    "\n",
    "len(contributions)"
   ]
  },
  {
   "cell_type": "markdown",
   "metadata": {},
   "source": [
    "**Submit Contributions**"
   ]
  },
  {
   "cell_type": "code",
   "execution_count": null,
   "metadata": {},
   "outputs": [],
   "source": [
    "client.delete_contributions(name)\n",
    "client.init_columns(name, init_columns)\n",
    "client.submit_contributions(contributions[:10])"
   ]
  },
  {
   "cell_type": "markdown",
   "metadata": {},
   "source": [
    "**Query Contributions**"
   ]
  },
  {
   "cell_type": "code",
   "execution_count": null,
   "metadata": {},
   "outputs": [],
   "source": []
  }
 ],
 "metadata": {
  "kernelspec": {
   "display_name": "Python 3",
   "language": "python",
   "name": "python3"
  },
  "language_info": {
   "codemirror_mode": {
    "name": "ipython",
    "version": 3
   },
   "file_extension": ".py",
   "mimetype": "text/x-python",
   "name": "python",
   "nbconvert_exporter": "python",
   "pygments_lexer": "ipython3",
   "version": "3.8.1"
  }
 },
 "nbformat": 4,
 "nbformat_minor": 4
}
