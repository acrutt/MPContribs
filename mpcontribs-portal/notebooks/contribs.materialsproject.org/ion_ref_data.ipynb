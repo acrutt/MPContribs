{
 "cells": [
  {
   "cell_type": "markdown",
   "metadata": {},
   "source": [
    "# Move Ion Reference data into an MPContribs Project"
   ]
  },
  {
   "cell_type": "markdown",
   "metadata": {},
   "source": [
    "---\n",
    "## Header"
   ]
  },
  {
   "cell_type": "markdown",
   "metadata": {},
   "source": [
    "#### Imports"
   ]
  },
  {
   "cell_type": "code",
   "execution_count": null,
   "metadata": {},
   "outputs": [],
   "source": [
    "from pprint import pprint\n",
    "from monty.serialization import loadfn, dumpfn\n",
    "from pymatgen.core.ion import Ion"
   ]
  },
  {
   "cell_type": "markdown",
   "metadata": {},
   "source": [
    "---\n",
    "## Main Code"
   ]
  },
  {
   "cell_type": "markdown",
   "metadata": {},
   "source": [
    "### Load the ion reference data from the .json file and examine its format\n",
    "\n",
    "`aqeuous_ions.json` can be downloaded from https://github.com/materialsproject/pymatpro/blob/master/pymatpro/pourbaix_tools/aqueous_ions.json"
   ]
  },
  {
   "cell_type": "code",
   "execution_count": null,
   "metadata": {},
   "outputs": [],
   "source": [
    "ion_ref_data = loadfn(\"aqueous_ions.json\")"
   ]
  },
  {
   "cell_type": "code",
   "execution_count": null,
   "metadata": {},
   "outputs": [],
   "source": [
    "# NOTE: all energy units are eV/formula unit\n",
    "ion_ref_data[0]"
   ]
  },
  {
   "cell_type": "markdown",
   "metadata": {},
   "source": [
    "### Path one entry according to `patch_aqueous_ions.json` on pymatpro\n",
    "https://github.com/materialsproject/pymatpro/blob/master/pymatpro/pourbaix_tools/patch_aqueous_ions.json\n"
   ]
  },
  {
   "cell_type": "code",
   "execution_count": null,
   "metadata": {},
   "outputs": [],
   "source": [
    "for i, e in enumerate(ion_ref_data):\n",
    "    if e[\"Name\"] == \"HGaO2[2-]\":\n",
    "        ion_ref_data[i] = {\n",
    "            \"Energy\": -7.1099,\n",
    "            \"Major_Elements\": [\n",
    "                \"Ga\"\n",
    "            ],\n",
    "            \"Name\": \"HGaO3[2-]\",\n",
    "            \"Reference Solid\": \"Ga2O3\",\n",
    "            \"Reference solid energy\": -10.347724703224722,\n",
    "            \"Source\": \"D. D. Wagman et al., Selected values for inorganic and C1 and C2 Organic substances in SI units, The NBS table of chemical thermodynamic properties, Washington (1982)\"\n",
    "        }\n",
    "        print(\"Replaced entry at index {}\".format(i))"
   ]
  },
  {
   "cell_type": "code",
   "execution_count": null,
   "metadata": {},
   "outputs": [],
   "source": [
    "ion_ref_data[121]"
   ]
  },
  {
   "cell_type": "markdown",
   "metadata": {},
   "source": [
    "### Initialize the MPContribs client"
   ]
  },
  {
   "cell_type": "code",
   "execution_count": null,
   "metadata": {},
   "outputs": [],
   "source": [
    "from mpcontribs.client import Client\n",
    "name = 'ion_ref_data' # this should be your project, see from the project URL\n",
    "client = Client()"
   ]
  },
  {
   "cell_type": "markdown",
   "metadata": {},
   "source": [
    "### Reshape the data"
   ]
  },
  {
   "cell_type": "code",
   "execution_count": null,
   "metadata": {},
   "outputs": [],
   "source": [
    "ion_contribs =[]\n",
    "\n",
    "for d in ion_ref_data:\n",
    "    ret = {}\n",
    "    ret[\"project\"] = name\n",
    "    ret[\"is_public\"] = True\n",
    "    ret[\"identifier\"] = d[\"Name\"]\n",
    "    ret[\"data\"] = {}\n",
    "    ret[\"data\"][\"charge\"] = Ion.from_formula(d[\"Name\"]).charge\n",
    "    ret[\"data\"][\"ΔGᶠ\"] = \"{:.5g} kJ/mol\".format(d[\"Energy\"]*96.485) # convert from eV/f.u. to kJ/mol\n",
    "    ret[\"data\"][\"MajElements\"] = d[\"Major_Elements\"][0]\n",
    "    ret[\"data\"][\"RefSolid\"] = d[\"Reference Solid\"]\n",
    "    ret[\"data\"][\"ΔGᶠRefSolid\"] = \"{:.4g} kJ/mol\".format(d[\"Reference solid energy\"]*96.485)# convert from eV/f.u. to kJ/mol\n",
    "    ret[\"data\"][\"reference\"] = d[\"Source\"]\n",
    "    \n",
    "    ion_contribs.append(ret)"
   ]
  },
  {
   "cell_type": "code",
   "execution_count": null,
   "metadata": {},
   "outputs": [],
   "source": [
    "# did we miss any data?\n",
    "len(ion_ref_data) - len(ion_contribs)"
   ]
  },
  {
   "cell_type": "code",
   "execution_count": null,
   "metadata": {},
   "outputs": [],
   "source": [
    "pprint(ion_contribs[30])"
   ]
  },
  {
   "cell_type": "markdown",
   "metadata": {},
   "source": [
    "### Update project references, column descriptions, etc."
   ]
  },
  {
   "cell_type": "code",
   "execution_count": null,
   "metadata": {},
   "outputs": [],
   "source": [
    "client.projects.update_entry(\n",
    "    pk=\"ion_ref_data\", project={\"other\": \n",
    "                                         {\"formula\": \"Chemical formula of the aqueous species\",\n",
    "                                          \"charge\": \"Charge on the aqueous species\",\n",
    "                                          \"ΔGᶠ\": \"Gibbs free energy of formation of the aqueous species from the elements\",\n",
    "                                          \"MajElementsᶠ\": None,\n",
    "                                          \"MajElements\": \"Elements contained in the aqueous species\",\n",
    "                                         \"RefSolid\": \"Solid compound to which the aqueous species energy is referenced\",\n",
    "                                          \"ΔGᶠRefSolid\": \"Gibbs free energy of formation of the reference solid compound\",\n",
    "                                          \"Ion\": None\n",
    "                                         },\n",
    "                                \"description\": \"This project contains experimental ion dissolution energies that are used by pymatgen when constructing Pourbaix diagrams. See the Persson2012 reference for a detailed description of the thermodynamic framework used.\"\n",
    "                                        }\n",
    ").result()"
   ]
  },
  {
   "cell_type": "code",
   "execution_count": null,
   "metadata": {},
   "outputs": [],
   "source": [
    "client.projects.update_entry(\n",
    "    pk=\"ion_ref_data\", project={\"authors\": \"Various authors (see references). Data compiled by the Materials Project team.\"\n",
    "                                        }\n",
    ").result()"
   ]
  },
  {
   "cell_type": "code",
   "execution_count": null,
   "metadata": {},
   "outputs": [],
   "source": [
    "client.projects.update_entry(\n",
    "    pk=\"ion_ref_data\", project={\"title\": \"Aqueous Ion Reference Data\"\n",
    "                                        }\n",
    ").result()"
   ]
  },
  {
   "cell_type": "code",
   "execution_count": null,
   "metadata": {},
   "outputs": [],
   "source": [
    "client.projects.update_entry(\n",
    "    pk=\"ion_ref_data\", project={\"references\": [\n",
    "        {\"label\":\"Persson2012\", 'url':\"https://doi.org/10.1103/PhysRevB.85.235438\"},\n",
    "        {'label': 'NBS1', 'url': 'https://nvlpubs.nist.gov/nistpubs/Legacy/TN/nbstechnicalnote270-1.pdf'},\n",
    "    {'label': 'NBS2', 'url': 'https://nvlpubs.nist.gov/nistpubs/Legacy/TN/nbstechnicalnote270-2.pdf'},\n",
    "    {'label': 'NBS3', 'url': 'https://nvlpubs.nist.gov/nistpubs/Legacy/TN/nbstechnicalnote270-3.pdf'},\n",
    "    {'label': 'NBS4', 'url': 'https://nvlpubs.nist.gov/nistpubs/Legacy/TN/nbstechnicalnote270-4.pdf'},\n",
    "    {'label': 'NBS5', 'url': 'https://nvlpubs.nist.gov/nistpubs/Legacy/TN/nbstechnicalnote270-5.pdf'},\n",
    "    {'label': 'NBS6', 'url': 'https://nvlpubs.nist.gov/nistpubs/Legacy/TN/nbstechnicalnote270-6.pdf'},\n",
    "    {'label': 'NBS7', 'url': 'https://nvlpubs.nist.gov/nistpubs/Legacy/TN/nbstechnicalnote270-7.pdf'},\n",
    "    {'label': 'NBS8', 'url': 'https://nvlpubs.nist.gov/nistpubs/Legacy/TN/nbstechnicalnote270-8.pdf'},\n",
    "    {\"label\":\"Pourbaix\", 'url':\"https://www.worldcat.org/title/atlas-of-electrochemical-equilibria-in-aqueous-solutions/oclc/563921897\"}]\n",
    "                                        }\n",
    ").result()"
   ]
  },
  {
   "cell_type": "markdown",
   "metadata": {},
   "source": [
    "### Check the project"
   ]
  },
  {
   "cell_type": "code",
   "execution_count": null,
   "metadata": {},
   "outputs": [],
   "source": [
    "client.get_project(name)"
   ]
  },
  {
   "cell_type": "markdown",
   "metadata": {},
   "source": [
    "### Submit to MPContribs"
   ]
  },
  {
   "cell_type": "code",
   "execution_count": null,
   "metadata": {},
   "outputs": [],
   "source": [
    "# need to delete contributions first due to unique_identifiers=False\n",
    "client.delete_contributions(name)\n",
    "client.submit_contributions(ion_contribs, per_page=10, skip_dupe_check=True)\n",
    "#client.contributions.create_entries(contributions=ion_contribs[0:100]).result()"
   ]
  },
  {
   "cell_type": "markdown",
   "metadata": {},
   "source": [
    "### Appendix\n",
    "----"
   ]
  },
  {
   "cell_type": "code",
   "execution_count": null,
   "metadata": {},
   "outputs": [],
   "source": [
    "break"
   ]
  },
  {
   "cell_type": "markdown",
   "metadata": {},
   "source": [
    "### Note that `Ion.reduced_formula` generates the same formula for a few distinct entries in the database, e.g. \"Fe2(OH)2[4+]\" vs. \"FeOH[2+]\""
   ]
  },
  {
   "cell_type": "code",
   "execution_count": null,
   "metadata": {},
   "outputs": [],
   "source": [
    "[e[\"Name\"] for e in ion_ref_data if \"Fe\" in e[\"Name\"]]"
   ]
  },
  {
   "cell_type": "code",
   "execution_count": null,
   "metadata": {},
   "outputs": [],
   "source": [
    "[Ion.from_formula(e[\"Name\"]).reduced_formula for e in ion_ref_data if \"Fe\" in e[\"Name\"]]"
   ]
  },
  {
   "cell_type": "code",
   "execution_count": null,
   "metadata": {},
   "outputs": [],
   "source": [
    "[e for e in ion_ref_data if e[\"Name\"] == \"Fe2(OH)2[4+]\"]"
   ]
  },
  {
   "cell_type": "code",
   "execution_count": null,
   "metadata": {},
   "outputs": [],
   "source": [
    "[e for e in ion_ref_data if e[\"Name\"] == \"FeOH[2+]\"]"
   ]
  },
  {
   "cell_type": "code",
   "execution_count": null,
   "metadata": {},
   "outputs": [],
   "source": []
  }
 ],
 "metadata": {
  "kernelspec": {
   "display_name": "Python 3",
   "language": "python",
   "name": "python3"
  },
  "language_info": {
   "codemirror_mode": {
    "name": "ipython",
    "version": 3
   },
   "file_extension": ".py",
   "mimetype": "text/x-python",
   "name": "python",
   "nbconvert_exporter": "python",
   "pygments_lexer": "ipython3",
   "version": "3.9.1"
  },
  "widgets": {
   "application/vnd.jupyter.widget-state+json": {
    "state": {},
    "version_major": 2,
    "version_minor": 0
   }
  }
 },
 "nbformat": 4,
 "nbformat_minor": 4
}
