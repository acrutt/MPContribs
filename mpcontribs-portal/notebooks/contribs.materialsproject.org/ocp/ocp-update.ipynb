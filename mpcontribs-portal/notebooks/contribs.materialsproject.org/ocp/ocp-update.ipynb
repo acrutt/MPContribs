{
 "cells": [
  {
   "cell_type": "code",
   "execution_count": null,
   "id": "worth-impression",
   "metadata": {},
   "outputs": [],
   "source": [
    "from mpcontribs.client import Client\n",
    "from pandas import read_pickle"
   ]
  },
  {
   "cell_type": "code",
   "execution_count": null,
   "id": "divided-rubber",
   "metadata": {},
   "outputs": [],
   "source": [
    "client = Client(project=\"open_catalyst_project\")"
   ]
  },
  {
   "cell_type": "code",
   "execution_count": null,
   "id": "honey-evaluation",
   "metadata": {},
   "outputs": [],
   "source": [
    "df = read_pickle(\"/Users/patrick/GoogleDriveLBNL/MaterialsProject/gitrepos/mpcontribs-data/Actual_adsorption_Es.pkl\")"
   ]
  },
  {
   "cell_type": "code",
   "execution_count": null,
   "id": "tender-cyprus",
   "metadata": {},
   "outputs": [],
   "source": [
    "df.set_index(\"index\", inplace=True)"
   ]
  },
  {
   "cell_type": "code",
   "execution_count": null,
   "id": "organized-groove",
   "metadata": {},
   "outputs": [],
   "source": [
    "col = \"energy dE [eV]\"\n",
    "adsorption = df[col].to_dict()"
   ]
  },
  {
   "cell_type": "code",
   "execution_count": null,
   "id": "missing-wright",
   "metadata": {},
   "outputs": [],
   "source": [
    "query = {\"data__systemEnergy__exists\": False}\n",
    "client.get_totals(query=query)"
   ]
  },
  {
   "cell_type": "code",
   "execution_count": null,
   "id": "pacific-italic",
   "metadata": {},
   "outputs": [],
   "source": [
    "results = client.query_contributions(\n",
    "    query=query,\n",
    "    fields=[\"id\", \"identifier\", \"data.adsorptionEnergy.display\"],\n",
    "    paginate=True\n",
    ")\n",
    "# TODO 3rd and 4th round of requests takes 30 min (totals & actual query)"
   ]
  },
  {
   "cell_type": "code",
   "execution_count": null,
   "id": "opened-habitat",
   "metadata": {},
   "outputs": [],
   "source": [
    "results[\"data\"][0]"
   ]
  },
  {
   "cell_type": "code",
   "execution_count": null,
   "id": "asian-angel",
   "metadata": {},
   "outputs": [],
   "source": [
    "contributions = []\n",
    "\n",
    "for d in results[\"data\"]:\n",
    "    contrib = {\"id\": d[\"id\"], \"data.systemEnergy\": d[\"data\"][\"adsorptionEnergy\"][\"display\"]}\n",
    "    contrib[\"data.adsorptionEnergy\"] = adsorption[d[\"identifier\"]]\n",
    "    contributions.append(contrib)"
   ]
  },
  {
   "cell_type": "code",
   "execution_count": null,
   "id": "confident-share",
   "metadata": {},
   "outputs": [],
   "source": [
    "contributions[0]"
   ]
  },
  {
   "cell_type": "code",
   "execution_count": null,
   "id": "interim-teens",
   "metadata": {},
   "outputs": [],
   "source": [
    "columns = client.get_project().get(\"columns\", [])"
   ]
  },
  {
   "cell_type": "code",
   "execution_count": null,
   "id": "directed-coverage",
   "metadata": {},
   "outputs": [],
   "source": [
    "# new_columns = {}\n",
    "\n",
    "# for column in columns:\n",
    "#     path = column[\"path\"].split(\"data.\", 1)[-1]\n",
    "#     unit = column[\"unit\"] if column[\"unit\"] != \"NaN\" else None\n",
    "#     new_columns[path] = unit\n",
    "\n",
    "#     if path == \"adsorptionEnergy\":\n",
    "#         new_columns[\"systemEnergy\"] = unit\n",
    "        \n",
    "# new_columns"
   ]
  },
  {
   "cell_type": "code",
   "execution_count": null,
   "id": "functioning-hundred",
   "metadata": {},
   "outputs": [],
   "source": [
    "# client.init_columns(new_columns)"
   ]
  },
  {
   "cell_type": "code",
   "execution_count": null,
   "id": "statewide-launch",
   "metadata": {},
   "outputs": [],
   "source": [
    "client.submit_contributions(contributions[500:])"
   ]
  },
  {
   "cell_type": "code",
   "execution_count": null,
   "id": "aerial-possibility",
   "metadata": {},
   "outputs": [],
   "source": [
    "client.get_totals(query=query)"
   ]
  }
 ],
 "metadata": {
  "kernelspec": {
   "display_name": "Python 3",
   "language": "python",
   "name": "python3"
  },
  "language_info": {
   "codemirror_mode": {
    "name": "ipython",
    "version": 3
   },
   "file_extension": ".py",
   "mimetype": "text/x-python",
   "name": "python",
   "nbconvert_exporter": "python",
   "pygments_lexer": "ipython3",
   "version": "3.9.1"
  }
 },
 "nbformat": 4,
 "nbformat_minor": 5
}
