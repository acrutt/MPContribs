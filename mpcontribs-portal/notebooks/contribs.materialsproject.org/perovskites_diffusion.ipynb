{
 "cells": [
  {
   "cell_type": "code",
   "execution_count": null,
   "id": "suited-sampling",
   "metadata": {},
   "outputs": [],
   "source": [
    "from mpcontribs.client import Client\n",
    "from pymatgen.ext.matproj import MPRester\n",
    "from pymatgen.core import Structure"
   ]
  },
  {
   "cell_type": "code",
   "execution_count": null,
   "id": "passive-vertical",
   "metadata": {},
   "outputs": [],
   "source": [
    "name = \"perovskites_diffusion\"\n",
    "client = Client()\n",
    "mpr = MPRester()"
   ]
  },
  {
   "cell_type": "code",
   "execution_count": null,
   "id": "divided-indication",
   "metadata": {
    "scrolled": true
   },
   "outputs": [],
   "source": [
    "client.get_project(name).display()"
   ]
  },
  {
   "cell_type": "code",
   "execution_count": null,
   "id": "organic-expense",
   "metadata": {},
   "outputs": [],
   "source": [
    "client.projects.update_entry(pk=name, project={\"unique_identifiers\": False}).result()"
   ]
  },
  {
   "cell_type": "code",
   "execution_count": null,
   "id": "secret-packing",
   "metadata": {},
   "outputs": [],
   "source": [
    "import tarfile, os\n",
    "from pandas import read_excel\n",
    "\n",
    "units = {\n",
    "    \"emig\": \"eV\",\n",
    "    \"bmag\": \"A*m²\",\n",
    "    \"unitvol\": \"Å³\",\n",
    "    \"Kcr\": \"Å\",\n",
    "    \"freevol\": \"Å\",\n",
    "    \"opband\": \"eV\",\n",
    "    \"evf\": \"eV\",\n",
    "    \"bob\": \"°\",\n",
    "    \"ecoh\": \"eV\",\n",
    "    \"bulkmod\": \"kbar\",\n",
    "    \"efermi\": \"eV\",\n",
    "    \"ehull\": \"eV\",\n",
    "    \"aonn\": \"Å\",\n",
    "    \"bonn\": \"Å\",\n",
    "    \"aoarad\": \"Å\",\n",
    "    \"bobrad\": \"Å\",\n",
    "    \"kcaobo\": \"Å\",\n",
    "}\n",
    "\n",
    "\n",
    "google_sheet = \"https://docs.google.com/spreadsheets/d/1Wep4LZjehrxu3Cl5KJFvAAhKhP92o4K5aC-kZYjGz2o/export?format=xlsx\"\n",
    "contcars_filepath = \"/Users/patrick/GoogleDriveLBNL/MaterialsProject/gitrepos/mpcontribs-data/perovskites_diffusion/bulk_CONTCARs.tar.gz\"\n",
    "contcars = tarfile.open(contcars_filepath)\n",
    "\n",
    "df = read_excel(google_sheet)\n",
    "keys = df.iloc[[0]].to_dict(orient=\"records\")[0]\n",
    "abbreviations = {}\n",
    "contributions = []\n",
    "count, skipped, update = 0, 0, 0\n",
    "\n",
    "for index, row in df[1:].iterrows():\n",
    "    identifier, data, structure = None, {}, None\n",
    "\n",
    "    for col, value in row.iteritems():\n",
    "        if col == \"level_0\" or col == \"index\":\n",
    "            continue\n",
    "\n",
    "        key = keys[col]\n",
    "        if isinstance(key, str):\n",
    "            key = key.strip()\n",
    "            if not key in abbreviations:\n",
    "                abbreviations[key] = col\n",
    "        else:\n",
    "            key = col.strip().lower()\n",
    "\n",
    "        if key == \"pmgmatchid\":\n",
    "            identifier = value.strip()\n",
    "            if identifier == \"None\":\n",
    "                identifier = None\n",
    "\n",
    "            contcar_path = \"bulk_CONTCARs/{}_CONTCAR\".format(\n",
    "                data[\"directory\"].replace(\"/\", \"_\")\n",
    "            )\n",
    "            contcar = contcars.extractfile(contcar_path).read().decode(\"utf8\")    \n",
    "            structure = Structure.from_str(contcar, \"poscar\", sort=True)\n",
    "\n",
    "            if identifier is None:\n",
    "                matched_mpids = mpr.find_structure(structure)\n",
    "                if matched_mpids:\n",
    "                    identifier = matched_mpids[0]\n",
    "        else:\n",
    "            if key == \"calculation type\":\n",
    "                key = \"type\"\n",
    "            if isinstance(value, str):\n",
    "                val = value.strip()\n",
    "            else:\n",
    "                unit = units.get(key)\n",
    "                val = f\"{value} {unit}\" if unit else value\n",
    "            if val != \"None\":\n",
    "                data[key] = val\n",
    "\n",
    "    if identifier:\n",
    "        contributions.append({\n",
    "            \"project\": name, \"identifier\": identifier, \"is_public\": True,\n",
    "            \"data\": data, \"structures\": [structure]\n",
    "        })\n",
    "        \n",
    "len(contributions)"
   ]
  },
  {
   "cell_type": "code",
   "execution_count": null,
   "id": "dutch-samba",
   "metadata": {},
   "outputs": [],
   "source": [
    "client.delete_contributions(name)\n",
    "client.submit_contributions(contributions, ignore_dupes=True, per_page=35)"
   ]
  },
  {
   "cell_type": "code",
   "execution_count": null,
   "id": "southwest-syntax",
   "metadata": {},
   "outputs": [],
   "source": [
    "client.get_contributions(name)"
   ]
  }
 ],
 "metadata": {
  "kernelspec": {
   "display_name": "Python 3",
   "language": "python",
   "name": "python3"
  },
  "language_info": {
   "codemirror_mode": {
    "name": "ipython",
    "version": 3
   },
   "file_extension": ".py",
   "mimetype": "text/x-python",
   "name": "python",
   "nbconvert_exporter": "python",
   "pygments_lexer": "ipython3",
   "version": "3.9.1"
  }
 },
 "nbformat": 4,
 "nbformat_minor": 5
}
