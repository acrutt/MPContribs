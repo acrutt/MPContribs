{
 "cells": [
  {
   "cell_type": "code",
   "execution_count": null,
   "id": "standing-patio",
   "metadata": {},
   "outputs": [],
   "source": [
    "import os\n",
    "import json\n",
    "from pathlib import Path\n",
    "from pymatgen.core.composition import Composition\n",
    "from unflatten import unflatten\n",
    "from pandas import DataFrame\n",
    "\n",
    "# pip install mpcontribs-client\n",
    "# this notebook tested with version 3.11.2\n",
    "from mpcontribs.client import Client, Attachment"
   ]
  },
  {
   "cell_type": "markdown",
   "id": "lucky-stable",
   "metadata": {},
   "source": [
    "## load raw data"
   ]
  },
  {
   "cell_type": "code",
   "execution_count": null,
   "id": "figured-employer",
   "metadata": {},
   "outputs": [],
   "source": [
    "name = \"genesis_efrc_minipipes\"  # MPContribs project name\n",
    "indir = Path(f\"/Users/patrick/GoogleDriveLBNL/MaterialsProject/gitrepos/mpcontribs-data/{name}\")"
   ]
  },
  {
   "cell_type": "code",
   "execution_count": null,
   "id": "imported-stack",
   "metadata": {},
   "outputs": [],
   "source": [
    "config_path = indir / \"basic.mpj\"\n",
    "config = json.loads(config_path.read_bytes())\n",
    "\n",
    "# adding project name and API key to config (TODO: set through minipipes UI)\n",
    "config[\"meta\"][\"mpcontribs\"] = {\n",
    "    \"project\": name, \"apikey\": os.environ[\"MPCONTRIBS_API_KEY\"]\n",
    "}\n",
    "\n",
    "ped_path = indir / \"PED of BMG for PDF 1-29-20_0035-0070.gr\"\n",
    "ped = json.loads(ped_path.read_bytes())\n",
    "\n",
    "png_path = indir / \"DP_spotty_92x70.png\""
   ]
  },
  {
   "cell_type": "markdown",
   "id": "cordless-armstrong",
   "metadata": {},
   "source": [
    "## init client"
   ]
  },
  {
   "cell_type": "code",
   "execution_count": null,
   "id": "atomic-mills",
   "metadata": {},
   "outputs": [],
   "source": [
    "# retrieve MPContribs config and init client\n",
    "# using pop here to avoid saving API key in attachment\n",
    "mpcontribs_config = config[\"meta\"].pop(\"mpcontribs\")\n",
    "name = mpcontribs_config[\"project\"]\n",
    "client = Client(\n",
    "    host = \"lightsources-api.materialsproject.org\",\n",
    "    apikey = mpcontribs_config[\"apikey\"]\n",
    ")"
   ]
  },
  {
   "cell_type": "markdown",
   "id": "pacific-cologne",
   "metadata": {},
   "source": [
    "## prep project"
   ]
  },
  {
   "cell_type": "code",
   "execution_count": null,
   "id": "abstract-enlargement",
   "metadata": {},
   "outputs": [],
   "source": [
    "# TODO init MPContribs columns and its units for project (see client.init_columns())\n",
    "# TODO update `other` in project with columns legend"
   ]
  },
  {
   "cell_type": "code",
   "execution_count": null,
   "id": "photographic-sperm",
   "metadata": {},
   "outputs": [],
   "source": [
    "client.get_project(name)"
   ]
  },
  {
   "cell_type": "markdown",
   "id": "unlike-naples",
   "metadata": {},
   "source": [
    "## prep contribution"
   ]
  },
  {
   "cell_type": "code",
   "execution_count": null,
   "id": "raised-arthritis",
   "metadata": {},
   "outputs": [],
   "source": [
    "runs_meta = config[\"runs\"][\"meta\"]\n",
    "composition = runs_meta[-1][\"config\"][\"composition\"]\n",
    "formula = Composition(composition).get_integer_formula_and_factor()[0]"
   ]
  },
  {
   "cell_type": "code",
   "execution_count": null,
   "id": "swedish-bicycle",
   "metadata": {},
   "outputs": [],
   "source": [
    "contrib = {\n",
    "    \"project\": name,\n",
    "    \"identifier\": \"TODO\", # usually mp-id, can be custom\n",
    "    \"formula\": formula,\n",
    "    \"is_public\": True,  # will make this contribution public automatically when project is set to public\n",
    "    # data, tables and attachments added explicitly below\n",
    "}\n",
    "# FYI submitting a contribution with its ID triggers update of this contribution"
   ]
  },
  {
   "cell_type": "markdown",
   "id": "leading-gazette",
   "metadata": {},
   "source": [
    "### data"
   ]
  },
  {
   "cell_type": "code",
   "execution_count": null,
   "id": "genuine-madison",
   "metadata": {},
   "outputs": [],
   "source": [
    "names_map = {\n",
    "    \"i_Reduce_Data.Mask_Images.Mask_f\": \"mask\",\n",
    "    \"i_Reduce_Data.Image_to_IQ.Integrate_f\": \"integrate\",\n",
    "    \"i_Reduce_Data.IQ_to_PDF.Transform_f\": \"transform\"\n",
    "}\n",
    "keys_maps = [ # len(runs_meta) = 3\n",
    "    {\n",
    "        \"alpha\": \"α\",\n",
    "        \"edge\": \"edge\",\n",
    "        \"lower_threshold\": \"thresholds.lower\",\n",
    "        \"upper_threshold\": \"thresholds.upper\",\n",
    "        \"smoothing function\": \"smoothing\",\n",
    "        \"vmin\": \"v.min\",\n",
    "        \"vmax\": \"v.max\"\n",
    "    }, {\n",
    "        \"wavelength (A)\": \"λ\",  # TODO unit Angstrom\n",
    "        \"polarization\": \"polarization\",\n",
    "        \"detector\": \"detector\"\n",
    "    }, {\n",
    "        \"processor\": \"processor\",\n",
    "        \"mode\": \"mode\",\n",
    "        \"qmax\": \"q.max\",\n",
    "        \"qmin\": \"q.min\",\n",
    "        \"rpoly\": \"r.poly\",\n",
    "        \"rmin\": \"r.min\",\n",
    "        \"rmax\": \"r.max\",\n",
    "        \"step\": \"step\",\n",
    "        \"shift\": \"shift\"\n",
    "    }\n",
    "]\n",
    "\n",
    "flat_data = {}\n",
    "\n",
    "for idx, meta in enumerate(runs_meta):\n",
    "    root_key = names_map[meta[\"name\"]]\n",
    "    keys_map = keys_maps[idx]\n",
    "\n",
    "    for old_key, new_key in keys_map.items():\n",
    "        key = f\"{root_key}.{new_key}\"\n",
    "        value = meta[\"config\"][old_key]  # TODO add units\n",
    "        flat_data[key] = value\n",
    "\n",
    "contrib[\"data\"] = unflatten(flat_data)"
   ]
  },
  {
   "cell_type": "markdown",
   "id": "detailed-average",
   "metadata": {},
   "source": [
    "### tables"
   ]
  },
  {
   "cell_type": "code",
   "execution_count": null,
   "id": "biblical-adjustment",
   "metadata": {},
   "outputs": [],
   "source": [
    "x, y = \"r\", \"G(r)\"\n",
    "df = DataFrame(data={x: ped[\"data\"][0], y: ped[\"data\"][1]})\n",
    "df.set_index(x, inplace=True)\n",
    "df.index.name = f\"{x} [Å]\"\n",
    "df.columns.name = \"spectral type\"\n",
    "df.attrs[\"name\"] = y\n",
    "df.attrs[\"title\"] = \"Radial Distribution Function\"\n",
    "df.attrs[\"labels\"] = {\"value\": f\"{y} [Å⁻²]\"} \n",
    "# df.plot(**df.attrs)\n",
    "contrib[\"tables\"] = [df]"
   ]
  },
  {
   "cell_type": "markdown",
   "id": "efficient-increase",
   "metadata": {},
   "source": [
    "### attachments"
   ]
  },
  {
   "cell_type": "code",
   "execution_count": null,
   "id": "compliant-conservation",
   "metadata": {},
   "outputs": [],
   "source": [
    "config_attachment = Attachment.from_data(\"config\", config)\n",
    "contrib[\"attachments\"] = [config_attachment, png_path]"
   ]
  },
  {
   "cell_type": "markdown",
   "id": "ceramic-sacramento",
   "metadata": {},
   "source": [
    "## submit contributions"
   ]
  },
  {
   "cell_type": "code",
   "execution_count": null,
   "id": "boolean-disabled",
   "metadata": {},
   "outputs": [],
   "source": [
    "client.submit_contributions([contrib])"
   ]
  }
 ],
 "metadata": {
  "kernelspec": {
   "display_name": "Python 3",
   "language": "python",
   "name": "python3"
  },
  "language_info": {
   "codemirror_mode": {
    "name": "ipython",
    "version": 3
   },
   "file_extension": ".py",
   "mimetype": "text/x-python",
   "name": "python",
   "nbconvert_exporter": "python",
   "pygments_lexer": "ipython3",
   "version": "3.9.1"
  }
 },
 "nbformat": 4,
 "nbformat_minor": 5
}
