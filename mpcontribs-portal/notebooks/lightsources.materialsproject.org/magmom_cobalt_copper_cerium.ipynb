{
 "cells": [
  {
   "cell_type": "code",
   "execution_count": null,
   "metadata": {},
   "outputs": [],
   "source": [
    "import os\n",
    "from zipfile import ZipFile\n",
    "from io import StringIO, BytesIO\n",
    "from numpy import where\n",
    "from scipy.interpolate import interp1d, interp2d\n",
    "from pandas import to_numeric, read_csv\n",
    "from mpcontribs.client import Client\n",
    "from tqdm.notebook import tqdm\n",
    "from decimal import Decimal"
   ]
  },
  {
   "cell_type": "code",
   "execution_count": null,
   "metadata": {},
   "outputs": [],
   "source": [
    "client = Client(host=\"lightsources-api.materialsproject.org\")"
   ]
  },
  {
   "cell_type": "code",
   "execution_count": null,
   "metadata": {},
   "outputs": [],
   "source": [
    "name = \"magmom_cobalt_copper_cerium\"\n",
    "project = {\n",
    "    \"name\": name,\n",
    "    \"is_public\": True,\n",
    "    \"title\": \"CoCuCe Magnetic Moments\",\n",
    "    \"long_title\": \"Magnetic moment and coercivity for CoCuCe\",\n",
    "    \"authors\": \"A.T. N`Diaye, R. Ott, A.A. Baker\",\n",
    "    \"owner\": \"atndiaye@lbl.gov\",\n",
    "    \"description\": \"\"\"\n",
    "    Magnetic moment and coercivity are determined for CoCuCe\n",
    "    through composition-dependent XAS and XMCD spectra on the Co\n",
    "    L3,2 edge. Composition determined by XRF.\n",
    "    \"\"\",\n",
    "    \"references\": [\n",
    "        {\"label\": \"ALS\", \"url\": \"https://sites.google.com/a/lbl.gov/magnetism/home\"}\n",
    "    ],\n",
    "    \"other\": {\n",
    "        \"location\": \"ALS Beamline 6.3.1\",\n",
    "        \"sample\": \"CMSI-2-10_1 CMSI-2-10_2 CMSI-2-10_3 CMSI-2-10_4 CMSI-2-10_6\"\n",
    "    },\n",
    "}\n",
    "\n",
    "# client.projects.create_entry(project=project).result()\n",
    "# client.projects.update_entry(pk=name, project=project).result()"
   ]
  },
  {
   "cell_type": "code",
   "execution_count": null,
   "metadata": {},
   "outputs": [],
   "source": [
    "zip_path = \"/Users/patrick/gitrepos/mp/mpcontribs-data/dataset.zip\"\n",
    "zip_file = ZipFile(zip_path, \"r\")"
   ]
  },
  {
   "cell_type": "code",
   "execution_count": null,
   "metadata": {},
   "outputs": [],
   "source": [
    "ctable = read_csv(StringIO(\"\"\"\n",
    "X,\t\tY,\t\tCo,\t\tCu,\t\tCe\n",
    "-8.5,\t37.6,\t46.2,\t5.3,\t39.3\n",
    "-8.5,\t107.8,\t70.0,\t8.9,\t15.5\n",
    "-7.2,\t37.9,\t61.2,\t4.3,\t34.1\n",
    "-7.2,\t107.0,\t88.2,\t6.5,\t12.3\n",
    "-6.3,\t37.9,\t66.0,\t20.2,\t14.89\n",
    "-6.3,\t107.9,\t88.7,\t2.7,\t9.5\n",
    "-6.1,\t35.4,\t66.0,\t20.2,\t14.89\n",
    "-6.1,\t105.4,\t88.7,\t2.7,\t9.5\n",
    "-5.7,\t34.8,\t48.3,\t12.5,\t39.3\n",
    "-5.7,\t104.8,\t54.9,\t19.1,\t15.5\n",
    "-5.0,\t37.1,\t48.8,\t8.7,\t43.7\n",
    "-5.0,\t107.1,\t64.8,\t16.9,\t19.2\n",
    "\"\"\".replace('\\t', '')))\n",
    "\n",
    "ctable[\"x/y position [mm]\"] = ctable[\"X\"].astype('str') + '/' + ctable[\"Y\"].astype('str')\n",
    "ctable.attrs[\"name\"] = \"Composition Table\"\n",
    "ctable.attrs[\"meta\"] = {\"X\": \"category\", \"Y\": \"continuous\"}\n",
    "ctable.attrs[\"labels\"] = {\"value\": \"composition [%]\"}\n",
    "ctable.set_index(\"x/y position [mm]\", inplace=True)\n",
    "ctable.columns.name = \"element\""
   ]
  },
  {
   "cell_type": "code",
   "execution_count": null,
   "metadata": {},
   "outputs": [],
   "source": [
    "def get_concentration_functions(composition_table):\n",
    "\n",
    "    meta = composition_table.attrs[\"meta\"]\n",
    "    elements = [col for col in composition_table.columns if col not in meta]\n",
    "    x = composition_table[\"X\"].values\n",
    "    y = composition_table[\"Y\"].values\n",
    "    cats = composition_table[\"X\"].unique()\n",
    "    concentration, conc, d, y_c, functions = {}, {}, {}, {}, {}\n",
    "\n",
    "    for el in elements:\n",
    "        concentration[el] = to_numeric(composition_table[el].values) / 100.0\n",
    "        conc[el], d[el], y_c[el] = {}, {}, {}\n",
    "\n",
    "        if meta[\"X\"] == \"category\":\n",
    "            for i in cats:\n",
    "                k = \"{:06.2f}\".format(float(i))\n",
    "                y_c[el][k] = to_numeric(y[where(x == i)])\n",
    "                conc[el][k] = to_numeric(concentration[el][where(x == i)])\n",
    "                d[el][k] = interp1d(y_c[el][k], conc[el][k])\n",
    "\n",
    "            functions[el] = lambda a, b, el=el: d[el][a](b)\n",
    "\n",
    "        else:\n",
    "            functions[el] = interp2d(float(x), float(y), concentration[el])\n",
    "\n",
    "    return functions\n",
    "\n",
    "conc_funcs = get_concentration_functions(ctable)\n",
    "del ctable[\"X\"]\n",
    "del ctable[\"Y\"]\n",
    "ctable"
   ]
  },
  {
   "cell_type": "code",
   "execution_count": null,
   "metadata": {},
   "outputs": [],
   "source": [
    "contributions = []\n",
    "\n",
    "for info in tqdm(zip_file.infolist()):\n",
    "    # positions.x/y from filename, <scan-id>_<meas-element>_<X>_<Y>.csv\n",
    "    fn = os.path.splitext(info.filename)[0]\n",
    "    element, x, y = fn.rsplit(\"_\", 4)\n",
    "    identifier = f\"{element}@{x}/{y}\"\n",
    "    csv = zip_file.read(info.filename)\n",
    "\n",
    "    df = read_csv(BytesIO(csv))\n",
    "    df = df[[\"Energy\", \"XAS\", \"XMCD\"]]\n",
    "    df.set_index(\"Energy\", inplace=True)\n",
    "    df.index.name = \"Energy [eV]\"\n",
    "    df.columns.name = \"spectral type\"\n",
    "    df.attrs[\"name\"] = f\"{element}-XAS/XMCD\"\n",
    "    df.attrs[\"title\"] = f\"XAS and XMCD Spectra for {element}\"\n",
    "    df.attrs[\"labels\"] = {\"value\": \"a.u.\"}\n",
    "\n",
    "    contrib = {\"project\": name, \"identifier\": identifier, \"is_public\": True, \"data\": {}}\n",
    "    contrib[\"data\"][\"position\"] = {k: f\"{v} mm\" for k, v in zip([\"x\", \"y\"], [x, y])}\n",
    "    contrib[\"data\"][\"composition\"] = {}\n",
    "        \n",
    "    for el, f in conc_funcs.items():\n",
    "        try:\n",
    "            contrib[\"data\"][\"composition\"][el] = f\"{f(x, y) * 100.} %\"\n",
    "        except KeyError:\n",
    "            continue\n",
    "            \n",
    "    contrib[\"formula\"] = \"\".join([\n",
    "        \"{}{}\".format(el, int(round(Decimal(comp.split()[0]))))\n",
    "        for el, comp in contrib[\"data\"][\"composition\"].items()\n",
    "    ])\n",
    "\n",
    "    for y in [\"XAS\", \"XMCD\"]:\n",
    "        contrib[\"data\"][y] = {\"min\": df[y].min(), \"max\": df[y].max()}\n",
    "    \n",
    "    contrib[\"tables\"] = [ctable, df]\n",
    "    contributions.append(contrib)\n",
    "    \n",
    "len(contributions)"
   ]
  },
  {
   "cell_type": "code",
   "execution_count": null,
   "metadata": {},
   "outputs": [],
   "source": [
    "client.delete_contributions(name)\n",
    "client.submit_contributions(contributions, ignore_dupes=True)"
   ]
  }
 ],
 "metadata": {
  "kernelspec": {
   "display_name": "Python 3",
   "language": "python",
   "name": "python3"
  },
  "language_info": {
   "codemirror_mode": {
    "name": "ipython",
    "version": 3
   },
   "file_extension": ".py",
   "mimetype": "text/x-python",
   "name": "python",
   "nbconvert_exporter": "python",
   "pygments_lexer": "ipython3",
   "version": "3.8.3"
  }
 },
 "nbformat": 4,
 "nbformat_minor": 4
}
