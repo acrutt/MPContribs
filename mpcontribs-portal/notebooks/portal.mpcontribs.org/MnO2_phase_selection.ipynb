{
 "cells": [
  {
   "cell_type": "code",
   "execution_count": null,
   "metadata": {},
   "outputs": [],
   "source": [
    "import json, os\n",
    "from mpcontribs.client import Client\n",
    "from pymatgen import Composition, Structure, MPRester\n",
    "from tqdm.notebook import tqdm"
   ]
  },
  {
   "cell_type": "code",
   "execution_count": null,
   "metadata": {},
   "outputs": [],
   "source": [
    "name = 'MnO2_phase_selection'\n",
    "client = Client()\n",
    "mpr = MPRester()"
   ]
  },
  {
   "cell_type": "markdown",
   "metadata": {},
   "source": [
    "**Retrieve and update project info**"
   ]
  },
  {
   "cell_type": "code",
   "execution_count": null,
   "metadata": {},
   "outputs": [],
   "source": [
    "client.get_project(name).pretty()"
   ]
  },
  {
   "cell_type": "code",
   "execution_count": null,
   "metadata": {},
   "outputs": [],
   "source": [
    "phase_names = {\n",
    "    'beta': 'Pyrolusite',\n",
    "    'gamma': 'Intergrowth',\n",
    "    'ramsdellite': 'Ramsdellite',\n",
    "    'alpha': 'Hollandite',\n",
    "    'lambda': 'Spinel',\n",
    "    'delta': 'Layered',\n",
    "    'other': 'Other',\n",
    "}"
   ]
  },
  {
   "cell_type": "code",
   "execution_count": null,
   "metadata": {},
   "outputs": [],
   "source": [
    "client.projects.update_entry(pk=name, project={\n",
    "    'other.phase−names': phase_names, 'unique_identifiers': True\n",
    "}).result()"
   ]
  },
  {
   "cell_type": "markdown",
   "metadata": {},
   "source": [
    "**Create contributions**"
   ]
  },
  {
   "cell_type": "code",
   "execution_count": null,
   "metadata": {},
   "outputs": [],
   "source": [
    "# mp_contrib_phases: data/MPContrib_formatted_entries.json\n",
    "# hull_states: data/MPContrib_hull_entries.json\n",
    "data = {}\n",
    "for fn in os.scandir('/Users/patrick/gitrepos/mp/MPContribs/mpcontribs-data/MnO2_phase_selection'):\n",
    "    with open(fn, 'r') as f:\n",
    "        data[fn.name] = json.load(f)"
   ]
  },
  {
   "cell_type": "code",
   "execution_count": null,
   "metadata": {},
   "outputs": [],
   "source": [
    "other = [\n",
    "    ['LiMnO2', -3.064, 'Y', '--'], ['KMnO2', -2.222, 'Y', '--'],\n",
    "    ['Ca0.5MnO2', -2.941, 'Y', '--'], ['Na0.5MnO2', -1.415, 'Y', '--']\n",
    "]"
   ]
  },
  {
   "cell_type": "code",
   "execution_count": null,
   "metadata": {},
   "outputs": [],
   "source": [
    "identifiers, contributions = set(), []\n",
    "\n",
    "for hstate in tqdm(data['MPContrib_hull_entries.json']):\n",
    "    contrib = {'project': name, 'is_public': True, 'structures': []}\n",
    "    phase = hstate['phase']\n",
    "    composition = Composition.from_dict(hstate['c'])\n",
    "    structure = Structure.from_dict(hstate['s'])\n",
    "    mpids = mpr.find_structure(structure)\n",
    "    comp = composition.get_integer_formula_and_factor()[0]\n",
    "    identifier = mpids[0] if mpids else comp\n",
    "    contrib['identifier'] = identifier\n",
    "    \n",
    "    if identifier in identifiers:\n",
    "        continue\n",
    "        \n",
    "    phase_name = phase_names[phase]\n",
    "    phase_data = data['MPContrib_formatted_entries.json'].get(phase_name, other)\n",
    "    if not phase_data:\n",
    "        # print('no data found for', composition, phase_name)\n",
    "        continue\n",
    "\n",
    "    for iv, values in enumerate(phase_data):\n",
    "        if Composition(values[0]) == composition:\n",
    "            contrib['data'] = {'GS': values[2], 'ΔH': f'{values[1]} eV/mol'}\n",
    "            if not isinstance(values[3], str):\n",
    "                contrib['data']['ΔHʰ'] = f'{values[3]} eV/mol'\n",
    "            break\n",
    "    else:\n",
    "        # print('no data found for', composition, phase)\n",
    "        continue\n",
    "\n",
    "    contrib['structures'].append(structure)\n",
    "    contributions.append(contrib)\n",
    "    identifiers.add(identifier)\n",
    "\n",
    "# make sure that contributions with all columns come first\n",
    "contributions = [d for d in sorted(\n",
    "    contributions, key=lambda x: len(x[\"data\"]), reverse=True\n",
    ")]\n",
    "len(contributions)"
   ]
  },
  {
   "cell_type": "markdown",
   "metadata": {},
   "source": [
    "**Submit contributions**"
   ]
  },
  {
   "cell_type": "code",
   "execution_count": null,
   "metadata": {
    "scrolled": true
   },
   "outputs": [],
   "source": [
    "# need to delete before re-submitting due to unique_identifiers=False\n",
    "client.delete_contributions(name)\n",
    "# ignore_dupes=True ignores/skips duplicate structures\n",
    "client.submit_contributions(contributions, ignore_dupes=True, limit=30)"
   ]
  },
  {
   "cell_type": "markdown",
   "metadata": {},
   "source": [
    "**Query contributions**"
   ]
  },
  {
   "cell_type": "code",
   "execution_count": null,
   "metadata": {},
   "outputs": [],
   "source": [
    "query = {\n",
    "    \"project\": name,\n",
    "    \"formula__contains\": \"Mg\",\n",
    "#     \"data__GS__contains\": \"Y\",\n",
    "#     \"data__ΔH__value__lte\": -2,\n",
    "    \"_order_by\": \"data__ΔH__value\",\n",
    "    \"order\": \"desc\",\n",
    "    \"_fields\": [\n",
    "        \"id\", \"identifier\", \"formula\",\n",
    "        \"data.GS\", \"data.ΔH.value\", \"data.ΔHʰ.value\"\n",
    "    ]\n",
    "}\n",
    "client.contributions.get_entries(**query).result()"
   ]
  }
 ],
 "metadata": {
  "kernelspec": {
   "display_name": "Python 3",
   "language": "python",
   "name": "python3"
  },
  "language_info": {
   "codemirror_mode": {
    "name": "ipython",
    "version": 3
   },
   "file_extension": ".py",
   "mimetype": "text/x-python",
   "name": "python",
   "nbconvert_exporter": "python",
   "pygments_lexer": "ipython3",
   "version": "3.8.3"
  }
 },
 "nbformat": 4,
 "nbformat_minor": 4
}
