{
 "cells": [
  {
   "cell_type": "code",
   "execution_count": null,
   "metadata": {},
   "outputs": [],
   "source": [
    "import pandas_datareader.data as web\n",
    "from pymatgen import Structure\n",
    "from mpcontribs.client import load_client"
   ]
  },
  {
   "cell_type": "markdown",
   "metadata": {},
   "source": [
    "Use your API key to set up the client."
   ]
  },
  {
   "cell_type": "code",
   "execution_count": null,
   "metadata": {},
   "outputs": [],
   "source": [
    "project = 'my_project'\n",
    "client = load_client('your-api-key-here')"
   ]
  },
  {
   "cell_type": "markdown",
   "metadata": {},
   "source": [
    "The *dir* command lists available resources and operations."
   ]
  },
  {
   "cell_type": "code",
   "execution_count": null,
   "metadata": {},
   "outputs": [],
   "source": [
    "print(dir(client))\n",
    "print(dir(client.projects))"
   ]
  },
  {
   "cell_type": "markdown",
   "metadata": {},
   "source": [
    "Use the *projects* resource to retrieve or update project information. The *_fields* argument controls which fields are included in the response."
   ]
  },
  {
   "cell_type": "code",
   "execution_count": null,
   "metadata": {},
   "outputs": [],
   "source": [
    "client.projects.get_entry(pk=project, _fields=['title', 'authors', 'description', 'urls']).result()"
   ]
  },
  {
   "cell_type": "markdown",
   "metadata": {},
   "source": [
    "The *update_entry* operation returns a dictionary of updated fields."
   ]
  },
  {
   "cell_type": "code",
   "execution_count": null,
   "metadata": {
    "scrolled": true
   },
   "outputs": [],
   "source": [
    "client.projects.update_entry(pk=project, project={\n",
    "     'title': 'New Title', # 'urls': {'PRC': 'https://google.fr'}, 'urls': {'PRC': None}\n",
    "}).result()"
   ]
  },
  {
   "cell_type": "markdown",
   "metadata": {},
   "source": [
    "Use the *contributions* resource to create, retrieve, and update contributions."
   ]
  },
  {
   "cell_type": "code",
   "execution_count": null,
   "metadata": {},
   "outputs": [],
   "source": [
    "identifier = 'mp-1002'\n",
    "cid = client.contributions.create_entries(contributions=[{\n",
    "    'project': project, 'identifier': identifier,\n",
    "    'data': {'E': '3.33 eV', 'E|V': {'a': 1, 'b': '3 cm'}}\n",
    "}]).result()['data'][0]['id']"
   ]
  },
  {
   "cell_type": "code",
   "execution_count": null,
   "metadata": {},
   "outputs": [],
   "source": [
    "client.contributions.get_entry(pk=cid, _fields=['id', 'identifier', 'data']).result()"
   ]
  },
  {
   "cell_type": "code",
   "execution_count": null,
   "metadata": {},
   "outputs": [],
   "source": [
    "client.contributions.update_entry(pk=cid, contribution={\n",
    "        'identifier': 'mp-1004', 'data': {'E': '14 eV'}   \n",
    "}).result()"
   ]
  },
  {
   "cell_type": "markdown",
   "metadata": {},
   "source": [
    "Use the *tables* resource to add tables to contributions."
   ]
  },
  {
   "cell_type": "code",
   "execution_count": null,
   "metadata": {},
   "outputs": [],
   "source": [
    "table = dict(contribution=cid, name='Dow-Jones Index')\n",
    "data = web.DataReader('^DJI', 'stooq').to_dict('split')\n",
    "data.pop('index')\n",
    "table.update(data)"
   ]
  },
  {
   "cell_type": "code",
   "execution_count": null,
   "metadata": {},
   "outputs": [],
   "source": [
    "tid = client.tables.create_entry(table=table.to_dict()).result()['id']"
   ]
  },
  {
   "cell_type": "code",
   "execution_count": null,
   "metadata": {},
   "outputs": [],
   "source": [
    "entry = client.tables.get_entry(\n",
    "    pk=tid, _fields=['id', 'columns', 'data'], data_per_page=3, data_page=5\n",
    ").result()\n",
    "Table.from_dict(entry)"
   ]
  },
  {
   "cell_type": "code",
   "execution_count": null,
   "metadata": {},
   "outputs": [],
   "source": [
    "client.tables.update_entry(pk=tid, table={'name': 'DJI'}).result()"
   ]
  },
  {
   "cell_type": "markdown",
   "metadata": {},
   "source": [
    "Use the *structures* resource to add structures to contributions."
   ]
  },
  {
   "cell_type": "code",
   "execution_count": null,
   "metadata": {},
   "outputs": [],
   "source": [
    "structure = Structure.from_file('Fe3O4.cif')\n",
    "sdct = dict(contribution=cid, name='Fe3O4')\n",
    "sdct.update(structure.as_dict())\n",
    "sid = client.structures.create_entry(structure=sdct).result()['id']"
   ]
  },
  {
   "cell_type": "code",
   "execution_count": null,
   "metadata": {},
   "outputs": [],
   "source": [
    "Structure.from_dict(client.structures.get_entry(\n",
    "    pk=sid, _fields=['lattice', 'sites']\n",
    ").result())"
   ]
  },
  {
   "cell_type": "code",
   "execution_count": null,
   "metadata": {},
   "outputs": [],
   "source": [
    "client.structures.update_entry(pk=sid, structure={'name': 'Fe3 O4'}).result()"
   ]
  },
  {
   "cell_type": "markdown",
   "metadata": {},
   "source": [
    "Finally, publish and/or delete the project or its components."
   ]
  },
  {
   "cell_type": "markdown",
   "metadata": {},
   "source": [
    "**TODO** use update_entries to also publish according contributions, tables, and structures"
   ]
  },
  {
   "cell_type": "code",
   "execution_count": null,
   "metadata": {},
   "outputs": [],
   "source": [
    "client.structures.delete_entry(pk=sid).result()\n",
    "client.tables.delete_entry(pk=tid).result()"
   ]
  },
  {
   "cell_type": "markdown",
   "metadata": {},
   "source": [
    "deleting contributions (projects) also deletes corresponding structures, tables, notebooks and cards (contributions)."
   ]
  },
  {
   "cell_type": "code",
   "execution_count": null,
   "metadata": {},
   "outputs": [],
   "source": [
    "client.contributions.delete_entry(pk=cid).result()  \n",
    "# client.projects.delete_entry(pk=project).result()"
   ]
  },
  {
   "cell_type": "markdown",
   "metadata": {},
   "source": [
    "**TODO** how to add a custom overview graph"
   ]
  }
 ],
 "metadata": {
  "kernelspec": {
   "display_name": "Python 3",
   "language": "python",
   "name": "python3"
  },
  "language_info": {
   "codemirror_mode": {
    "name": "ipython",
    "version": 3
   },
   "file_extension": ".py",
   "mimetype": "text/x-python",
   "name": "python",
   "nbconvert_exporter": "python",
   "pygments_lexer": "ipython3",
   "version": "3.8.1"
  }
 },
 "nbformat": 4,
 "nbformat_minor": 2
}
