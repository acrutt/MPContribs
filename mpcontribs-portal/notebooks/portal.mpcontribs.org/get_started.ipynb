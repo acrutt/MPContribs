{
 "cells": [
  {
   "cell_type": "code",
   "execution_count": null,
   "metadata": {},
   "outputs": [],
   "source": [
    "from mp_workshop.mpcontribs import data\n",
    "from mpcontribs.client import Client"
   ]
  },
  {
   "cell_type": "code",
   "execution_count": null,
   "metadata": {},
   "outputs": [],
   "source": [
    "name = 'sandbox' # this should be your project\n",
    "client = Client() # uses MPCONTRIBS_API_KEY envvar"
   ]
  },
  {
   "cell_type": "markdown",
   "metadata": {},
   "source": [
    "**Retrieve and update project info**"
   ]
  },
  {
   "cell_type": "code",
   "execution_count": null,
   "metadata": {
    "scrolled": true
   },
   "outputs": [],
   "source": [
    "client.projects.update_entry(pk=name, project={\n",
    "    'unique_identifiers': False,\n",
    "    'references': [\n",
    "        {'label': 'Docs', 'url': 'https://mpcontribs.org'},\n",
    "        {'label': 'Source', 'url': 'https://refractiveindex.info'}\n",
    "    ]\n",
    "}).result()"
   ]
  },
  {
   "cell_type": "code",
   "execution_count": null,
   "metadata": {},
   "outputs": [],
   "source": [
    "client.get_project(name).pretty()"
   ]
  },
  {
   "cell_type": "markdown",
   "metadata": {},
   "source": [
    "**Create contributions**"
   ]
  },
  {
   "cell_type": "code",
   "execution_count": null,
   "metadata": {},
   "outputs": [],
   "source": [
    "for contrib in data[\"huck\"]:\n",
    "    contrib[\"project\"] = name\n",
    "    contrib[\"is_public\"] = True\n",
    "    \n",
    "len(data[\"huck\"])"
   ]
  },
  {
   "cell_type": "markdown",
   "metadata": {},
   "source": [
    "**Submit contributions**"
   ]
  },
  {
   "cell_type": "code",
   "execution_count": null,
   "metadata": {},
   "outputs": [],
   "source": [
    "client.submit_contributions(data[\"huck\"])"
   ]
  },
  {
   "cell_type": "markdown",
   "metadata": {},
   "source": [
    "**Query contributions**"
   ]
  },
  {
   "cell_type": "code",
   "execution_count": null,
   "metadata": {},
   "outputs": [],
   "source": [
    "resp = client.contributions.get_entries(\n",
    "    project=name, identifier=\"mp-6134\", _fields=[\"id\"]\n",
    ").result()\n",
    "cids = [d[\"id\"] for d in resp[\"data\"]]\n",
    "contrib = client.get_contribution(cids[0])\n",
    "contrib.pretty()"
   ]
  },
  {
   "cell_type": "code",
   "execution_count": null,
   "metadata": {},
   "outputs": [],
   "source": [
    "tid = contrib[\"tables\"][0][\"id\"]\n",
    "client.get_table(tid)#.plot()"
   ]
  },
  {
   "cell_type": "code",
   "execution_count": null,
   "metadata": {},
   "outputs": [],
   "source": [
    "query = {\n",
    "    \"project\": name,\n",
    "    \"formula__contains\": \"Li\",\n",
    "    \"data__type__contains\": \"f4\",\n",
    "    \"data__coefficients__c1__value__gte\": 4.93e-3,\n",
    "    \"_order_by\": \"data__coefficients__c1__value\",\n",
    "    \"order\": \"desc\",\n",
    "    \"_fields\": [\n",
    "        \"id\", \"identifier\", \"formula\",\n",
    "        \"data.type\", \"data.coefficients.c0.value\",\n",
    "        \"data.coefficients.c1.value\"\n",
    "    ]\n",
    "}\n",
    "client.contributions.get_entries(**query).result()"
   ]
  },
  {
   "cell_type": "markdown",
   "metadata": {},
   "source": [
    "**Delete contributions**"
   ]
  },
  {
   "cell_type": "code",
   "execution_count": null,
   "metadata": {},
   "outputs": [],
   "source": [
    "client.delete_contributions(name)\n",
    "# or client.contributions.delete_entries(id__in=cids).result()"
   ]
  }
 ],
 "metadata": {
  "kernelspec": {
   "display_name": "Python 3",
   "language": "python",
   "name": "python3"
  },
  "language_info": {
   "codemirror_mode": {
    "name": "ipython",
    "version": 3
   },
   "file_extension": ".py",
   "mimetype": "text/x-python",
   "name": "python",
   "nbconvert_exporter": "python",
   "pygments_lexer": "ipython3",
   "version": "3.8.3"
  }
 },
 "nbformat": 4,
 "nbformat_minor": 2
}
