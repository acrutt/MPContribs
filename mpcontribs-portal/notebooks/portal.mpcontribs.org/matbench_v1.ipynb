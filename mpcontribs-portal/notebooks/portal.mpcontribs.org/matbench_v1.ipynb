{
 "cells": [
  {
   "cell_type": "code",
   "execution_count": null,
   "metadata": {},
   "outputs": [],
   "source": [
    "import json\n",
    "from pandas import DataFrame\n",
    "from pymatgen import MPRester, Structure\n",
    "from mpcontribs.client import load_client"
   ]
  },
  {
   "cell_type": "code",
   "execution_count": null,
   "metadata": {},
   "outputs": [],
   "source": [
    "with open('/global/homes/h/huck/log_kvrh', 'r') as f:\n",
    "    data = json.load(f)\n",
    "df = DataFrame(data['data'], columns=data['columns'])"
   ]
  },
  {
   "cell_type": "code",
   "execution_count": null,
   "metadata": {},
   "outputs": [],
   "source": [
    "project = 'matbench_v1'\n",
    "client = load_client('your-api-key-here')\n",
    "mpr = MPRester()"
   ]
  },
  {
   "cell_type": "markdown",
   "metadata": {},
   "source": [
    "Get project info:"
   ]
  },
  {
   "cell_type": "code",
   "execution_count": null,
   "metadata": {},
   "outputs": [],
   "source": [
    "client.projects.get_entry(pk=project).result()"
   ]
  },
  {
   "cell_type": "markdown",
   "metadata": {},
   "source": [
    "Create contributions with data and add structures:"
   ]
  },
  {
   "cell_type": "code",
   "execution_count": null,
   "metadata": {},
   "outputs": [],
   "source": [
    "from itertools import islice\n",
    "\n",
    "def chunks(data, SIZE=500):\n",
    "    it = iter(data)\n",
    "    for i in range(0, len(data), SIZE):\n",
    "        if isinstance(data, dict):\n",
    "            yield {k: data[k] for k in islice(it, SIZE)}\n",
    "        else:\n",
    "            yield data[i:i+SIZE]"
   ]
  },
  {
   "cell_type": "code",
   "execution_count": null,
   "metadata": {},
   "outputs": [],
   "source": [
    "# clean up\n",
    "has_more = True\n",
    "while has_more:\n",
    "    resp = client.contributions.delete_entries(project=project, _limit=250).result()    \n",
    "    print(resp['count'], 'contributions deleted')\n",
    "    has_more = resp['has_more']"
   ]
  },
  {
   "cell_type": "code",
   "execution_count": null,
   "metadata": {},
   "outputs": [],
   "source": [
    "contributions, existing, uploaded = {}, [], None\n",
    "batch_size = 500\n",
    "\n",
    "for idx, (s, kvrh) in enumerate(zip(df['structure'], df['log10(K_VRH)'])):\n",
    "\n",
    "    if len(contributions) >= batch_size:\n",
    "        for i, chunk in enumerate(chunks(contributions, SIZE=250)):\n",
    "            contribs = [c['contrib'] for c in chunk.values()]\n",
    "            created = client.contributions.create_entries(contributions=contribs).result()\n",
    "            print(i, created['count'], 'contributions created')    \n",
    "\n",
    "            create_structures = []\n",
    "            for contrib in created['data']:\n",
    "                identifier = contrib['identifier']\n",
    "                for s in chunk[identifier]['structures']:\n",
    "                    s['contribution'] = contrib['id']\n",
    "                    create_structures.append(s)\n",
    "\n",
    "            print('submit', len(create_structures), 'structures ...')\n",
    "            for j, subchunk in enumerate(chunks(create_structures, SIZE=100)):\n",
    "                created = client.structures.create_entries(structures=subchunk).result()\n",
    "                print(j, created['count'], 'structures created')\n",
    "\n",
    "        contributions.clear()\n",
    "        existing.clear()   \n",
    "\n",
    "    if not len(contributions) and not len(existing):\n",
    "        has_more = True\n",
    "        while has_more:\n",
    "            skip = len(existing)\n",
    "            contribs = client.contributions.get_entries(\n",
    "                project=project, _skip=skip, _limit=250, _fields=['identifier']\n",
    "            ).result()\n",
    "            existing += [c['identifier'] for c in contribs['data']]\n",
    "            has_more = contribs['has_more']\n",
    "        uploaded = len(existing)\n",
    "        print(uploaded, 'already uploaded.')\n",
    "\n",
    "    if idx < uploaded:\n",
    "        continue\n",
    "\n",
    "    structure = Structure.from_dict(s)\n",
    "    matches = mpr.find_structure(structure)\n",
    "    if not matches:\n",
    "        print('no match for idx', idx)\n",
    "        continue\n",
    "        \n",
    "    identifier = matches[0]\n",
    "    if identifier in existing:\n",
    "        continue\n",
    "    if identifier in contributions:\n",
    "        print(idx, identifier, 'already parsed')\n",
    "        continue\n",
    "\n",
    "    contrib = {'project': project, 'identifier': identifier, 'data': {'K|VRH': kvrh}}\n",
    "    sdct = dict(name=structure.composition.reduced_formula, label='2020/02/02')\n",
    "    sdct.update(structure.as_dict())\n",
    "    contributions[identifier] = {'contrib': contrib, 'structures': [sdct]}"
   ]
  },
  {
   "cell_type": "markdown",
   "metadata": {},
   "source": [
    "Retrieve and download contributions:"
   ]
  },
  {
   "cell_type": "code",
   "execution_count": null,
   "metadata": {},
   "outputs": [],
   "source": [
    "contribs = client.contributions.get_entries(project=project, _fields=['id'], _limit=100).result()\n",
    "contribs['total_count'], len(contribs['data'])"
   ]
  }
 ],
 "metadata": {
  "kernelspec": {
   "display_name": "Python 3",
   "language": "python",
   "name": "python3"
  },
  "language_info": {
   "codemirror_mode": {
    "name": "ipython",
    "version": 3
   },
   "file_extension": ".py",
   "mimetype": "text/x-python",
   "name": "python",
   "nbconvert_exporter": "python",
   "pygments_lexer": "ipython3",
   "version": "3.8.1"
  }
 },
 "nbformat": 4,
 "nbformat_minor": 4
}
