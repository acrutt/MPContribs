{
 "cells": [
  {
   "cell_type": "code",
   "execution_count": null,
   "metadata": {},
   "outputs": [],
   "source": [
    "from mpcontribs.client import Client\n",
    "import gzip, json, os\n",
    "import numpy as np\n",
    "from pandas import DataFrame\n",
    "from collections import defaultdict\n",
    "from tqdm.notebook import tqdm\n",
    "from unflatten import unflatten"
   ]
  },
  {
   "cell_type": "code",
   "execution_count": null,
   "metadata": {},
   "outputs": [],
   "source": [
    "name = 'carrier_transport'\n",
    "client = Client()"
   ]
  },
  {
   "cell_type": "markdown",
   "metadata": {},
   "source": [
    "**Retrieve and update project info**"
   ]
  },
  {
   "cell_type": "code",
   "execution_count": null,
   "metadata": {},
   "outputs": [],
   "source": [
    "# client.projects.update_entry(pk=project, project={\n",
    "#     'long_title': 'Electronic Transport Properties'\n",
    "# }).result()\n",
    "client.get_project(name).pretty()"
   ]
  },
  {
   "cell_type": "markdown",
   "metadata": {},
   "source": [
    "**Create contributions**"
   ]
  },
  {
   "cell_type": "code",
   "execution_count": null,
   "metadata": {},
   "outputs": [],
   "source": [
    "input_dir = '/project/projectdirs/matgen/fricci/transport_data/coarse'\n",
    "variables = [\n",
    "    {'key': 'cond_eff_mass', 'name': 'mₑᶜᵒⁿᵈ', 'unit': 'mₑ'},\n",
    "    {'key': 'seebeck_doping', 'name': 'S', 'unit': 'µV/K'},\n",
    "    {'key': 'cond_doping', 'name': 'σ', 'unit': '1/Ω/m/s'},\n",
    "]\n",
    "eigs_keys = ['ε₁', 'ε₂', 'ε₃', 'ε̄']\n",
    "props = {\n",
    "    'seebeck_doping': ['S', 'µV/K'],\n",
    "    'cond_doping': ['σ', '1/Ω/m/s'],\n",
    "    'kappa_doping': ['κₑ', 'W/K/m/s']\n",
    "}\n",
    "pfkey = '⟨S²σ⟩'"
   ]
  },
  {
   "cell_type": "code",
   "execution_count": null,
   "metadata": {},
   "outputs": [],
   "source": [
    "files = [x for x in os.scandir(input_dir) if x.is_file()]\n",
    "len(files)"
   ]
  },
  {
   "cell_type": "code",
   "execution_count": null,
   "metadata": {},
   "outputs": [],
   "source": [
    "contributions = []\n",
    "total = len(files)\n",
    "\n",
    "with tqdm(total=total) as pbar:\n",
    "    for obj in files:\n",
    "        identifier = obj.name.split('.', 1)[0].rsplit('_', 1)[-1]\n",
    "\n",
    "        valid = bool(identifier.startswith('mp-') or identifier.startswith('mvc-'))\n",
    "        if not valid:\n",
    "            print(identifier, 'not valid')\n",
    "            continue\n",
    "\n",
    "        with gzip.open(obj.path, 'rb') as input_file:\n",
    "            data = json.loads(input_file.read())\n",
    "            task_type = list(data['gap'].keys())[0]\n",
    "            gap = list(data['gap'].values())[0]\n",
    "            \n",
    "            cdata = {}\n",
    "            cdata['task'] = list(data['task_id'].values())[0]\n",
    "            cdata['type'] = task_type\n",
    "            cdata['metal'] = 'Yes' if gap < 0.1 else 'No'        \n",
    "            cdata['T'] = '300 K'\n",
    "            cdata['doplvl'] = '1e18 cm⁻³'\n",
    "            cdata['ΔE'] = ' '.join([str(gap), 'eV'])\n",
    "\n",
    "            S2 = None\n",
    "            for v in variables:\n",
    "                for doping_type in ['p', 'n']:\n",
    "                    d = data[task_type][v['key']].get(doping_type, {}).get('300', {}).get('1e+18', {})\n",
    "\n",
    "                    if d:\n",
    "                        eigs = d if isinstance(d, list) else d['eigs']\n",
    "                        key = '.'.join([v['name'], doping_type])  # use unflatten later\n",
    "                        cdata[key] = dict(\n",
    "                            (eigs_keys[neig], ' '.join([str(eig), v['unit']]))\n",
    "                            for neig, eig in enumerate(eigs)\n",
    "                        )\n",
    "                        cdata[key][eigs_keys[-1]] = ' '.join([str(np.mean(eigs)), v['unit']])\n",
    "                        if v['key'] == 'seebeck_doping':\n",
    "                            S2 = np.dot(d['tensor'], d['tensor'])\n",
    "                        elif v['key'] == 'cond_doping':\n",
    "                            pf = np.mean(np.linalg.eigh(np.dot(S2, d['tensor']))[0]) * 1e-8\n",
    "                            if pfkey not in cdata:\n",
    "                                cdata[pfkey] = {}\n",
    "                            cdata[pfkey][doping_type] = ' '.join([str(pf), 'µW/cm/K²/s'])\n",
    "\n",
    "            # build data and max values for seebeck, conductivity and kappa\n",
    "            tables = []\n",
    "            for prop_name, (label, unit) in props.items():\n",
    "                for doping_type in ['p', 'n']:\n",
    "                    prop = data[task_type][prop_name][doping_type]\n",
    "                    prop_averages, dopings, columns = [], None, ['T [K]']\n",
    "                    temps = sorted(map(int, prop.keys()))\n",
    "                    for temp in temps:\n",
    "                        row = [temp]\n",
    "                        if dopings is None:\n",
    "                            dopings = sorted(map(float, prop[str(temp)].keys()))\n",
    "                        for doping in dopings:\n",
    "                            doping_str = f'{doping:.0e}'\n",
    "                            if len(columns) <= len(dopings):\n",
    "                                columns.append(f'{doping_str} cm⁻³ [{unit}]')\n",
    "                            eigs = prop[str(temp)][doping_str]['eigs']\n",
    "                            row.append(np.mean(eigs))\n",
    "                        prop_averages.append(row)\n",
    "\n",
    "                    np_prop_averages = np.array(prop_averages)\n",
    "                    df = DataFrame(np_prop_averages, columns=columns)\n",
    "                    df.index.name = f'{label}({doping_type})'\n",
    "                    tables.append(df)\n",
    "\n",
    "                    arr_prop_avg = np.array(np_prop_averages)[:,1:]\n",
    "                    max_v = np.max(arr_prop_avg)\n",
    "                    if prop_name[0] == 's' and doping_type == 'n':\n",
    "                        max_v = np.min(arr_prop_avg)\n",
    "                    if prop_name[0] == 'k':\n",
    "                        max_v = np.min(arr_prop_avg)\n",
    "                    arg_max = np.argwhere(arr_prop_avg==max_v)[0]\n",
    "\n",
    "                    elabel = label + 'ᵉ'\n",
    "                    edoping_type = 'ⁿ' if doping_type == 'n' else 'ᵖ'\n",
    "                    cdata[elabel] = {\n",
    "                        doping_type: ' '.join([str(max_v), unit]),\n",
    "                        f'T{edoping_type}': ' '.join([str(temps[arg_max[0]]), 'K']),\n",
    "                        f'c{edoping_type}': ' '.join([str(dopings[arg_max[1]]), 'cm⁻³']),\n",
    "                    }\n",
    "\n",
    "            contrib = {'project': name, 'identifier': identifier, 'is_public': True}\n",
    "            contrib[\"data\"] = unflatten(cdata)\n",
    "            contrib[\"tables\"] = tables\n",
    "            contributions.append(contrib)\n",
    "            \n",
    "        pbar.update(1)\n",
    "        \n",
    "# make sure that contributions with all columns come first\n",
    "contributions = [d for d in sorted(\n",
    "    contributions, key=lambda x: len(x[\"data\"]), reverse=True\n",
    ")]\n",
    "len(contributions)"
   ]
  },
  {
   "cell_type": "markdown",
   "metadata": {},
   "source": [
    "**Submit contributions**"
   ]
  },
  {
   "cell_type": "code",
   "execution_count": null,
   "metadata": {},
   "outputs": [],
   "source": [
    "# client.delete_contributions(name)\n",
    "client.submit_contributions(contributions[:1])"
   ]
  },
  {
   "cell_type": "markdown",
   "metadata": {},
   "source": [
    "**Query contributions**"
   ]
  },
  {
   "cell_type": "code",
   "execution_count": null,
   "metadata": {},
   "outputs": [],
   "source": [
    "query = {\n",
    "    \"project\": name,\n",
    "#     \"data__formula__contains\": \"Li\",\n",
    "#     \"data__type\": \"GGA+U\",\n",
    "#     \"data__metal\": \"Yes\",\n",
    "    \"_fields\": [\"id\", \"identifier\", \"formula\", \"data.mₑᶜᵒⁿᵈ.p.ε̄.value\", \"tables\"]\n",
    "}    \n",
    "client.contributions.get_entries(**query).result()"
   ]
  }
 ],
 "metadata": {
  "kernelspec": {
   "display_name": "Python 3",
   "language": "python",
   "name": "python3"
  },
  "language_info": {
   "codemirror_mode": {
    "name": "ipython",
    "version": 3
   },
   "file_extension": ".py",
   "mimetype": "text/x-python",
   "name": "python",
   "nbconvert_exporter": "python",
   "pygments_lexer": "ipython3",
   "version": "3.8.3"
  }
 },
 "nbformat": 4,
 "nbformat_minor": 2
}
