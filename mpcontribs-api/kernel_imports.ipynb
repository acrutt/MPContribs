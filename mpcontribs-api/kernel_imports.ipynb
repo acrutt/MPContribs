{
 "cells": [
  {
   "cell_type": "code",
   "execution_count": 1,
   "metadata": {},
   "outputs": [],
   "source": [
    "from mpcontribs.client import load_client\n",
    "from mpcontribs.io.core.components.hdata import HierarchicalData\n",
    "from mpcontribs.io.core.components.tdata import Table # DataFrame with Backgrid IPython Display\n",
    "from mpcontribs.io.core.components.gdata import Plot # Plotly interactive graph\n",
    "from pymatgen import Structure"
   ]
  }
 ],
 "metadata": {
  "kernelspec": {
   "display_name": "Python 3",
   "language": "python",
   "name": "python3"
  },
  "language_info": {
   "codemirror_mode": {
    "name": "ipython",
    "version": 3
   },
   "file_extension": ".py",
   "mimetype": "text/x-python",
   "name": "python",
   "nbconvert_exporter": "python",
   "pygments_lexer": "ipython3",
   "version": "3.7.3"
  }
 },
 "nbformat": 5,
 "nbformat_minor": 0
}
